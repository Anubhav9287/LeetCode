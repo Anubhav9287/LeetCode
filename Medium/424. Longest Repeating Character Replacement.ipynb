{
 "cells": [
  {
   "cell_type": "markdown",
   "id": "081ac6d8",
   "metadata": {},
   "source": [
    "You are given a string s and an integer k. You can choose any character of the string and change it to any other uppercase English character. You can perform this operation at most k times.\n",
    "<br>\n",
    "Return the length of the longest substring containing the same letter you can get after performing the above operations.\n",
    "<br>\n",
    "\n",
    "##### Example 1:\n",
    "Input: s = \"ABAB\", k = 2<br>\n",
    "Output: 4<br>\n",
    "Explanation: Replace the two 'A's with two 'B's or vice versa.<br>\n",
    "##### Example 2:\n",
    "\n",
    "Input: s = \"AABABBA\", k = 1<br>\n",
    "Output: 4<br>\n",
    "Explanation: Replace the one 'A' in the middle with 'B' and form \"AABBBBA\".\n",
    "The substring \"BBBB\" has the longest repeating letters, which is 4."
   ]
  },
  {
   "cell_type": "code",
   "execution_count": 18,
   "id": "940e0156",
   "metadata": {},
   "outputs": [],
   "source": [
    "s = \"AABABBA\"\n",
    "k = 1"
   ]
  },
  {
   "cell_type": "code",
   "execution_count": 19,
   "id": "20c35e5c",
   "metadata": {},
   "outputs": [],
   "source": [
    "count = {}\n",
    "l = 0\n",
    "result = 0\n",
    "for r in range(len(s)):\n",
    "    count[s[r]] = 1 + count.get(s[r],0)\n",
    "    while (r-l+1) - max(count.values()) > k:\n",
    "        count[s[l]] -= 1\n",
    "        l += 1\n",
    "    result = max(result, r-l+1)"
   ]
  },
  {
   "cell_type": "code",
   "execution_count": 20,
   "id": "25388add",
   "metadata": {},
   "outputs": [
    {
     "data": {
      "text/plain": [
       "4"
      ]
     },
     "execution_count": 20,
     "metadata": {},
     "output_type": "execute_result"
    }
   ],
   "source": [
    "result"
   ]
  }
 ],
 "metadata": {
  "kernelspec": {
   "display_name": "Python 3",
   "language": "python",
   "name": "python3"
  },
  "language_info": {
   "codemirror_mode": {
    "name": "ipython",
    "version": 3
   },
   "file_extension": ".py",
   "mimetype": "text/x-python",
   "name": "python",
   "nbconvert_exporter": "python",
   "pygments_lexer": "ipython3",
   "version": "3.8.8"
  }
 },
 "nbformat": 4,
 "nbformat_minor": 5
}
