{
 "cells": [
  {
   "cell_type": "markdown",
   "id": "78f5e405",
   "metadata": {},
   "source": [
    "### Example 1:\n",
    "Input: prices = [7,1,5,3,6,4] <br>\n",
    "Output: 7 <br>\n",
    "Explanation: Buy on day 2 (price = 1) and sell on day 3 (price = 5), profit = 5-1 = 4. <br>\n",
    "Then buy on day 4 (price = 3) and sell on day 5 (price = 6), profit = 6-3 = 3.<br>\n",
    "Total profit is 4 + 3 = 7."
   ]
  },
  {
   "cell_type": "code",
   "execution_count": 1,
   "id": "3a136ef7",
   "metadata": {},
   "outputs": [],
   "source": [
    "prices = [7,1,5,3,6,4]"
   ]
  },
  {
   "cell_type": "code",
   "execution_count": 6,
   "id": "cf4aee34",
   "metadata": {},
   "outputs": [],
   "source": [
    "profit = 0\n",
    "for i in range(len(prices)-1):\n",
    "    if prices[i] < prices[i+1]:\n",
    "        profit += (prices[i+1] - prices[i])"
   ]
  },
  {
   "cell_type": "code",
   "execution_count": 7,
   "id": "0ac89b37",
   "metadata": {},
   "outputs": [
    {
     "data": {
      "text/plain": [
       "7"
      ]
     },
     "execution_count": 7,
     "metadata": {},
     "output_type": "execute_result"
    }
   ],
   "source": [
    "profit"
   ]
  }
 ],
 "metadata": {
  "kernelspec": {
   "display_name": "Python 3",
   "language": "python",
   "name": "python3"
  },
  "language_info": {
   "codemirror_mode": {
    "name": "ipython",
    "version": 3
   },
   "file_extension": ".py",
   "mimetype": "text/x-python",
   "name": "python",
   "nbconvert_exporter": "python",
   "pygments_lexer": "ipython3",
   "version": "3.8.8"
  }
 },
 "nbformat": 4,
 "nbformat_minor": 5
}
