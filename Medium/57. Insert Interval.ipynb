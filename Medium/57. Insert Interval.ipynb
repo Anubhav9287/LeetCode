{
 "cells": [
  {
   "cell_type": "markdown",
   "id": "b324f1ee",
   "metadata": {},
   "source": [
    "You are given an array of non-overlapping intervals intervals where intervals[i] = [starti, endi] represent the start and the end of the ith interval and intervals is sorted in ascending order by starti. You are also given an interval newInterval = [start, end] that represents the start and end of another interval.\n",
    "\n",
    "Insert newInterval into intervals such that intervals is still sorted in ascending order by starti and intervals still does not have any overlapping intervals (merge overlapping intervals if necessary).\n",
    "\n",
    "Return intervals after the insertion.\n",
    "\n",
    "###### Example 1:\n",
    "\n",
    "Input: intervals = [[1,3],[6,9]], newInterval = [2,5] <br>\n",
    "Output: [[1,5],[6,9]]\n",
    "###### Example 2:\n",
    "\n",
    "Input: intervals = [[1,2],[3,5],[6,7],[8,10],[12,16]], newInterval = [4,8] <br>\n",
    "Output: [[1,2],[3,10],[12,16]]<br>\n",
    "Explanation: Because the new interval [4,8] overlaps with [3,5],[6,7],[8,10]."
   ]
  },
  {
   "cell_type": "code",
   "execution_count": 20,
   "id": "10a80f73",
   "metadata": {},
   "outputs": [],
   "source": [
    "intervals = [[1,2],[3,5],[6,7],[8,10],[12,16]]\n",
    "newInterval = [4,8]"
   ]
  },
  {
   "cell_type": "code",
   "execution_count": 23,
   "id": "1800e2e1",
   "metadata": {},
   "outputs": [],
   "source": [
    "def insertInterval(intervals,newInterval):\n",
    "    result = []\n",
    "    for i in range(len(intervals)):\n",
    "        if newInterval[1] < intervals[i][0]:\n",
    "            result.append(newInterval)\n",
    "            return result + intervals[i:]\n",
    "        elif newInterval[0] > intervals[i][1]:\n",
    "            result.append(intervals[i])\n",
    "        else:\n",
    "            newInterval = [min(newInterval[0],intervals[i][0]), max(newInterval[1],intervals[i][1])]\n",
    "    result.append(newInterval)\n",
    "    return result"
   ]
  },
  {
   "cell_type": "code",
   "execution_count": 24,
   "id": "01857e46",
   "metadata": {},
   "outputs": [
    {
     "data": {
      "text/plain": [
       "[[1, 2], [3, 10], [12, 16]]"
      ]
     },
     "execution_count": 24,
     "metadata": {},
     "output_type": "execute_result"
    }
   ],
   "source": [
    "insertInterval(intervals,newInterval)"
   ]
  },
  {
   "cell_type": "code",
   "execution_count": null,
   "id": "1315278d",
   "metadata": {},
   "outputs": [],
   "source": []
  }
 ],
 "metadata": {
  "kernelspec": {
   "display_name": "Python 3",
   "language": "python",
   "name": "python3"
  },
  "language_info": {
   "codemirror_mode": {
    "name": "ipython",
    "version": 3
   },
   "file_extension": ".py",
   "mimetype": "text/x-python",
   "name": "python",
   "nbconvert_exporter": "python",
   "pygments_lexer": "ipython3",
   "version": "3.8.8"
  }
 },
 "nbformat": 4,
 "nbformat_minor": 5
}
