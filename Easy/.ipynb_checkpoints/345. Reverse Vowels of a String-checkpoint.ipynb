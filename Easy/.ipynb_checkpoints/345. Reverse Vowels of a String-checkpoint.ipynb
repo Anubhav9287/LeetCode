{
 "cells": [
  {
   "cell_type": "markdown",
   "id": "3b957a43",
   "metadata": {},
   "source": [
    "### Example 1:\n",
    "Input: s = \"hello\"<br>\n",
    "Output: \"holle\"<br>\n",
    "### Example 2:\n",
    "Input: s = \"leetcode\"<br>\n",
    "Output: \"leotcede\""
   ]
  },
  {
   "cell_type": "code",
   "execution_count": 19,
   "id": "5fde3651",
   "metadata": {},
   "outputs": [],
   "source": [
    "s = \"hello\"\n",
    "s = list(s)"
   ]
  },
  {
   "cell_type": "code",
   "execution_count": 20,
   "id": "9f44d3f2",
   "metadata": {},
   "outputs": [],
   "source": [
    "f = 0\n",
    "l = len(s)-1\n",
    "vol = {'a','e','i','o','u','A','E','I','O','U'}\n",
    "#You can use any one of them, list or set. Runtime does not affect much\n",
    "# vol = ['a','e','i','o','u','A','E','I','O','U']"
   ]
  },
  {
   "cell_type": "code",
   "execution_count": 21,
   "id": "67635217",
   "metadata": {},
   "outputs": [
    {
     "name": "stdout",
     "output_type": "stream",
     "text": [
      "holle\n"
     ]
    }
   ],
   "source": [
    "while f < l:\n",
    "    if s[f] in vol and s[l] in vol:\n",
    "        #swap\n",
    "        temp = s[f]\n",
    "        s[f] = s[l]\n",
    "        s[l] = temp\n",
    "        l -= 1\n",
    "        f += 1\n",
    "    elif s[f] in vol and s[l] not in vol:\n",
    "        l -= 1\n",
    "    elif s[f] not in vol and s[l] in vol:\n",
    "        f += 1\n",
    "    else:\n",
    "        l -= 1\n",
    "        f += 1\n",
    "print(''.join(s))"
   ]
  }
 ],
 "metadata": {
  "kernelspec": {
   "display_name": "Python 3",
   "language": "python",
   "name": "python3"
  },
  "language_info": {
   "codemirror_mode": {
    "name": "ipython",
    "version": 3
   },
   "file_extension": ".py",
   "mimetype": "text/x-python",
   "name": "python",
   "nbconvert_exporter": "python",
   "pygments_lexer": "ipython3",
   "version": "3.8.8"
  }
 },
 "nbformat": 4,
 "nbformat_minor": 5
}
