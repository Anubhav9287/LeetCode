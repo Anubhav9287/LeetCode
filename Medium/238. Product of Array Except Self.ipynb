{
 "cells": [
  {
   "cell_type": "markdown",
   "id": "27245c16",
   "metadata": {},
   "source": [
    "Given an integer array nums, return an array answer such that answer[i] is equal to the product of all the elements of nums except nums[i].\n",
    "<br>\n",
    "The product of any prefix or suffix of nums is guaranteed to fit in a 32-bit integer.\n",
    "<br>\n",
    "You must write an algorithm that runs in O(n) time and without using the division operation. <br>\n",
    "#### Example 1:\n",
    "Input: nums = [1,2,3,4] <br>\n",
    "Output: [24,12,8,6] <br>\n",
    "#### Example 2:\n",
    "Input: nums = [-1,1,0,-3,3] <br>\n",
    "Output: [0,0,9,0,0] <br>"
   ]
  },
  {
   "cell_type": "code",
   "execution_count": 1,
   "id": "9bf1b93f",
   "metadata": {},
   "outputs": [],
   "source": [
    "nums = [1,2,3,4]"
   ]
  },
  {
   "cell_type": "code",
   "execution_count": 3,
   "id": "de5aab45",
   "metadata": {},
   "outputs": [],
   "source": [
    "#Solution 1:\n",
    "answer = []\n",
    "for i in range(len(nums)):\n",
    "    m = 1\n",
    "    for j in range(len(nums)):\n",
    "        if i == j:\n",
    "            continue\n",
    "        m = m * nums[j]\n",
    "    answer.append(m)"
   ]
  },
  {
   "cell_type": "code",
   "execution_count": 4,
   "id": "8e651bd1",
   "metadata": {},
   "outputs": [
    {
     "data": {
      "text/plain": [
       "[24, 12, 8, 6]"
      ]
     },
     "execution_count": 4,
     "metadata": {},
     "output_type": "execute_result"
    }
   ],
   "source": [
    "answer"
   ]
  },
  {
   "cell_type": "code",
   "execution_count": 9,
   "id": "8d430b13",
   "metadata": {},
   "outputs": [],
   "source": [
    "#Solution 2:\n",
    "import math\n",
    "answer = []\n",
    "m = math.prod(nums)\n",
    "for i in nums:\n",
    "    answer.append(m//i)"
   ]
  },
  {
   "cell_type": "code",
   "execution_count": 10,
   "id": "b1a21f25",
   "metadata": {},
   "outputs": [
    {
     "data": {
      "text/plain": [
       "[24, 12, 8, 6]"
      ]
     },
     "execution_count": 10,
     "metadata": {},
     "output_type": "execute_result"
    }
   ],
   "source": [
    "answer"
   ]
  },
  {
   "cell_type": "code",
   "execution_count": 15,
   "id": "34883119",
   "metadata": {},
   "outputs": [],
   "source": [
    "#Solution 3:\n",
    "answer = [1] * len(nums)\n",
    "\n",
    "#prefix\n",
    "prefix = 1\n",
    "for i in range(len(nums)):\n",
    "    answer[i] = prefix\n",
    "    prefix *= nums[i]\n",
    "#postfix\n",
    "postfix = 1\n",
    "for i in range(len(nums)-1,-1,-1):\n",
    "    answer[i] *= postfix\n",
    "    postfix *= nums[i]"
   ]
  },
  {
   "cell_type": "code",
   "execution_count": 16,
   "id": "f9060407",
   "metadata": {},
   "outputs": [
    {
     "data": {
      "text/plain": [
       "[24, 12, 8, 6]"
      ]
     },
     "execution_count": 16,
     "metadata": {},
     "output_type": "execute_result"
    }
   ],
   "source": [
    "answer"
   ]
  },
  {
   "cell_type": "code",
   "execution_count": null,
   "id": "92fc0b38",
   "metadata": {},
   "outputs": [],
   "source": []
  }
 ],
 "metadata": {
  "kernelspec": {
   "display_name": "Python 3",
   "language": "python",
   "name": "python3"
  },
  "language_info": {
   "codemirror_mode": {
    "name": "ipython",
    "version": 3
   },
   "file_extension": ".py",
   "mimetype": "text/x-python",
   "name": "python",
   "nbconvert_exporter": "python",
   "pygments_lexer": "ipython3",
   "version": "3.8.8"
  }
 },
 "nbformat": 4,
 "nbformat_minor": 5
}
