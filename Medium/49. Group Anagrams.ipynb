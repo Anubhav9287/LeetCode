{
 "cells": [
  {
   "cell_type": "markdown",
   "id": "b2b64b75",
   "metadata": {},
   "source": [
    "##### Example 1:\n",
    "Input: strs = [\"eat\",\"tea\",\"tan\",\"ate\",\"nat\",\"bat\"] <br>\n",
    "Output: [[\"bat\"],[\"nat\",\"tan\"],[\"ate\",\"eat\",\"tea\"]]<br>\n",
    "##### Example 2:\n",
    "Input: strs = [\"\"]<br>\n",
    "Output: [[\"\"]]<br>\n",
    "##### Example 3:\n",
    "Input: strs = [\"a\"] <br>\n",
    "Output: [[\"a\"]] <br>"
   ]
  },
  {
   "cell_type": "code",
   "execution_count": 3,
   "id": "8b6788a0",
   "metadata": {},
   "outputs": [],
   "source": [
    "strs = [\"eat\",\"tea\",\"tan\",\"ate\",\"nat\",\"bat\"]"
   ]
  },
  {
   "cell_type": "code",
   "execution_count": 24,
   "id": "e43be026",
   "metadata": {},
   "outputs": [
    {
     "data": {
      "text/plain": [
       "[['eat', 'tea', 'ate'], ['tan', 'nat'], ['bat']]"
      ]
     },
     "execution_count": 24,
     "metadata": {},
     "output_type": "execute_result"
    }
   ],
   "source": [
    "d = {}\n",
    "for i in strs:\n",
    "    val = ''.join(sorted(i))    \n",
    "    if val in d:\n",
    "        d[val].append(i)\n",
    "    else:\n",
    "        d[val] = [i]\n",
    "[j for i,j in d.items()]\n",
    "# print(d.values())"
   ]
  },
  {
   "cell_type": "code",
   "execution_count": null,
   "id": "3cc43014",
   "metadata": {},
   "outputs": [],
   "source": []
  }
 ],
 "metadata": {
  "kernelspec": {
   "display_name": "Python 3",
   "language": "python",
   "name": "python3"
  },
  "language_info": {
   "codemirror_mode": {
    "name": "ipython",
    "version": 3
   },
   "file_extension": ".py",
   "mimetype": "text/x-python",
   "name": "python",
   "nbconvert_exporter": "python",
   "pygments_lexer": "ipython3",
   "version": "3.8.8"
  }
 },
 "nbformat": 4,
 "nbformat_minor": 5
}
