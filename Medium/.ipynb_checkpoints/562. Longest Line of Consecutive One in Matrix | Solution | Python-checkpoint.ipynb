{
 "cells": [
  {
   "cell_type": "markdown",
   "id": "12136df3",
   "metadata": {},
   "source": [
    "Longest Line of Consecutive One in Matrix: Given an m x n binary matrix mat, return the length of the longest line of consecutive one in the matrix.\n",
    "<br>\n",
    "The line could be horizontal, vertical, diagonal, or anti-diagonal.<br>"
   ]
  },
  {
   "cell_type": "code",
   "execution_count": 1,
   "id": "4347cfb9",
   "metadata": {},
   "outputs": [],
   "source": [
    "n = [[0,1,1,0],[0,1,1,0], [0,0,0,1]]\n",
    "# Output: 3"
   ]
  },
  {
   "cell_type": "code",
   "execution_count": 6,
   "id": "3b17deb0",
   "metadata": {},
   "outputs": [],
   "source": [
    "memo = {}\n",
    "directions = {\n",
    "        'U': (-1,0),\n",
    "        'D': (1,0),\n",
    "        'L':(0,-1),\n",
    "        'UR' : (-1,1),\n",
    "        'UL' : (-1,-1),\n",
    "        'DL' : (1,-1),\n",
    "        'DR' : (1,1)\n",
    "    }\n",
    "def dfs(n,row,col,direction):\n",
    "        if (row,col,direction) in memo:\n",
    "            return memo[(row,col,direction)]\n",
    "        \n",
    "        memo[(row,col,direction)] = 0\n",
    "        \n",
    "        if (0 <= row < len(n)) and (0<=col <len(n[0])) and n[row][col]:\n",
    "            row_inc, col_inc = directions[direction]\n",
    "            \n",
    "            memo[(row, col, direction)] = 1 + dfs(n,row+row_inc,col+col_inc, direction)\n",
    "        return memo[(row,col,direction)]\n",
    "\n",
    "def longestLine(n):\n",
    "    #8 directions\n",
    "    res = 0\n",
    "    for row in range(len(n)):\n",
    "        for col in range(len(n[0])):\n",
    "            if n[row][col]:\n",
    "                for d in directions:\n",
    "                    res = max(res,dfs(n,row,col,d))\n",
    "    return res\n",
    "\n",
    "    "
   ]
  },
  {
   "cell_type": "code",
   "execution_count": 7,
   "id": "f721cead",
   "metadata": {},
   "outputs": [
    {
     "data": {
      "text/plain": [
       "3"
      ]
     },
     "execution_count": 7,
     "metadata": {},
     "output_type": "execute_result"
    }
   ],
   "source": [
    "longestLine(n)"
   ]
  },
  {
   "cell_type": "code",
   "execution_count": null,
   "id": "616ca401",
   "metadata": {},
   "outputs": [],
   "source": []
  }
 ],
 "metadata": {
  "kernelspec": {
   "display_name": "Python 3",
   "language": "python",
   "name": "python3"
  },
  "language_info": {
   "codemirror_mode": {
    "name": "ipython",
    "version": 3
   },
   "file_extension": ".py",
   "mimetype": "text/x-python",
   "name": "python",
   "nbconvert_exporter": "python",
   "pygments_lexer": "ipython3",
   "version": "3.8.8"
  }
 },
 "nbformat": 4,
 "nbformat_minor": 5
}
