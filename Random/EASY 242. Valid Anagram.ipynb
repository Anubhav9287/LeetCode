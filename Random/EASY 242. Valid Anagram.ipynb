{
 "cells": [
  {
   "cell_type": "code",
   "execution_count": 8,
   "id": "3db25d47",
   "metadata": {},
   "outputs": [],
   "source": [
    "s = \"rat\"\n",
    "t = \"car\""
   ]
  },
  {
   "cell_type": "code",
   "execution_count": 25,
   "id": "1b05bd67",
   "metadata": {},
   "outputs": [],
   "source": [
    "def isAnagram(s,t):\n",
    "    if len(s) != len(t):\n",
    "        return False\n",
    "    d_s = {}\n",
    "    d_t = {}\n",
    "    for (a,b) in zip(s,t):\n",
    "        if a in d_s:\n",
    "            d_s[a] += 1\n",
    "        else:\n",
    "            d_s[a] = 1\n",
    "        if b in d_t:\n",
    "            d_t[b] += 1\n",
    "        else:\n",
    "            d_t[b] = 1\n",
    "    if d_s == d_t:\n",
    "        return True\n",
    "    else:\n",
    "        return False\n",
    "def isAnagram(s,t):\n",
    "    if len(s) != len(t):\n",
    "        return False\n",
    "    return sorted(s) == sorted(t)\n",
    "    "
   ]
  },
  {
   "cell_type": "code",
   "execution_count": 26,
   "id": "b45fcba4",
   "metadata": {},
   "outputs": [
    {
     "data": {
      "text/plain": [
       "False"
      ]
     },
     "execution_count": 26,
     "metadata": {},
     "output_type": "execute_result"
    }
   ],
   "source": [
    "isAnagram(s,t)"
   ]
  },
  {
   "cell_type": "code",
   "execution_count": null,
   "id": "86360ac4",
   "metadata": {},
   "outputs": [],
   "source": []
  }
 ],
 "metadata": {
  "kernelspec": {
   "display_name": "Python 3",
   "language": "python",
   "name": "python3"
  },
  "language_info": {
   "codemirror_mode": {
    "name": "ipython",
    "version": 3
   },
   "file_extension": ".py",
   "mimetype": "text/x-python",
   "name": "python",
   "nbconvert_exporter": "python",
   "pygments_lexer": "ipython3",
   "version": "3.8.8"
  }
 },
 "nbformat": 4,
 "nbformat_minor": 5
}
