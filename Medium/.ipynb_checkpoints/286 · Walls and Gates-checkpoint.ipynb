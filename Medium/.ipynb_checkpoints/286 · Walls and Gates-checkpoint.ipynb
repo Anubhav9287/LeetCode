{
 "cells": [
  {
   "cell_type": "markdown",
   "id": "ef7a38b8",
   "metadata": {},
   "source": [
    "Description:<br>\n",
    "You are given a m x n 2D grid initialized with these three possible values.<br>\n",
    "<br>\n",
    "-1 - A wall or an obstacle.<br>\n",
    "0 - A gate.<br>\n",
    "INF - Infinity means an empty room. We use the value 2^31 - 1 = 2147483647 to represent INF as you may assume that the distance to a gate is less than 2147483647.<br>\n",
    "Fill each empty room with the distance to its nearest gate. If it is impossible to reach a Gate, that room should remain filled with INF<br>"
   ]
  },
  {
   "cell_type": "code",
   "execution_count": 1,
   "id": "f20d1bc5",
   "metadata": {},
   "outputs": [],
   "source": [
    "grid = [[2147483647,-1,0,2147483647],\n",
    "        [2147483647,2147483647,2147483647,-1],\n",
    "        [2147483647,-1,2147483647,-1],\n",
    "        [0,-1,2147483647,2147483647]]"
   ]
  },
  {
   "cell_type": "code",
   "execution_count": 5,
   "id": "5cd8a335",
   "metadata": {},
   "outputs": [],
   "source": [
    "def walls_and_gates(rooms):\n",
    "    ROWS = len(rooms)\n",
    "    COLS = len(rooms[0])\n",
    "    queue = []\n",
    "    visited = set()\n",
    "    \n",
    "    def addroom(r,c):\n",
    "        if r < 0 or c < 0 or r == len(rooms) or c == len(rooms[0]) or rooms[r][c] == -1 or (r,c) in visited:\n",
    "            return\n",
    "        queue.append([r,c])\n",
    "        visited.add((r,c))\n",
    "    \n",
    "    for r in range(ROWS):\n",
    "        for c in range(COLS):\n",
    "            if rooms[r][c] == 0:\n",
    "                queue.append([r,c])\n",
    "                visited.add((r,c))\n",
    "    distance = 0\n",
    "    while queue:\n",
    "        for q in range(len(queue)):\n",
    "            r , c = queue.pop(0)\n",
    "            grid[r][c] = distance\n",
    "            addroom(r+1,c)\n",
    "            addroom(r-1,c)\n",
    "            addroom(r,c+1)\n",
    "            addroom(r,c-1)\n",
    "        distance += 1\n",
    "    return rooms"
   ]
  },
  {
   "cell_type": "code",
   "execution_count": 6,
   "id": "40c737c9",
   "metadata": {},
   "outputs": [
    {
     "data": {
      "text/plain": [
       "[[3, -1, 0, 1], [2, 2, 1, -1], [1, -1, 2, -1], [0, -1, 3, 4]]"
      ]
     },
     "execution_count": 6,
     "metadata": {},
     "output_type": "execute_result"
    }
   ],
   "source": [
    "walls_and_gates(grid)"
   ]
  }
 ],
 "metadata": {
  "kernelspec": {
   "display_name": "Python 3",
   "language": "python",
   "name": "python3"
  },
  "language_info": {
   "codemirror_mode": {
    "name": "ipython",
    "version": 3
   },
   "file_extension": ".py",
   "mimetype": "text/x-python",
   "name": "python",
   "nbconvert_exporter": "python",
   "pygments_lexer": "ipython3",
   "version": "3.8.8"
  }
 },
 "nbformat": 4,
 "nbformat_minor": 5
}
