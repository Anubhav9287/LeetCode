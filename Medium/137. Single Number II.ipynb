{
 "cells": [
  {
   "cell_type": "markdown",
   "id": "921c5ac2",
   "metadata": {},
   "source": [
    "<p>Given an integer array nums where every element appears three times except for one, which appears exactly once. Find the single element and return it.<br>\n",
    "You must implement a solution with a linear runtime complexity and use only constant extra space.</p>\n",
    "\n",
    "\n",
    "##### Example 1:\n",
    "\n",
    "Input: nums = [2,2,3,2]<br>\n",
    "Output: 3<br>\n",
    "\n",
    "##### Example 2:\n",
    "Input: nums = [0,1,0,1,0,1,99]<br>\n",
    "Output: 99<br>"
   ]
  },
  {
   "cell_type": "code",
   "execution_count": 7,
   "id": "6a611721",
   "metadata": {},
   "outputs": [],
   "source": [
    "nums = [2,2,3,2]"
   ]
  },
  {
   "cell_type": "code",
   "execution_count": 12,
   "id": "d76ba57e",
   "metadata": {},
   "outputs": [],
   "source": [
    "d = {}\n",
    "for i in nums:\n",
    "    if i in d:\n",
    "        d[i] += 1\n",
    "    else:\n",
    "        d[i] = 1"
   ]
  },
  {
   "cell_type": "code",
   "execution_count": 13,
   "id": "21d88f8b",
   "metadata": {},
   "outputs": [
    {
     "name": "stdout",
     "output_type": "stream",
     "text": [
      "3\n"
     ]
    }
   ],
   "source": [
    "for key,value in d.items():\n",
    "    if value == 1:\n",
    "        print(key)"
   ]
  }
 ],
 "metadata": {
  "kernelspec": {
   "display_name": "Python 3",
   "language": "python",
   "name": "python3"
  },
  "language_info": {
   "codemirror_mode": {
    "name": "ipython",
    "version": 3
   },
   "file_extension": ".py",
   "mimetype": "text/x-python",
   "name": "python",
   "nbconvert_exporter": "python",
   "pygments_lexer": "ipython3",
   "version": "3.8.8"
  }
 },
 "nbformat": 4,
 "nbformat_minor": 5
}
