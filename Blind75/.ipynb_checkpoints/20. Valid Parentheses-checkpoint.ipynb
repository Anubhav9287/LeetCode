{
 "cells": [
  {
   "cell_type": "code",
   "execution_count": 1,
   "id": "c78bdcde",
   "metadata": {},
   "outputs": [],
   "source": [
    "# Input: s = \"()[]{}\"\n",
    "# Output: true"
   ]
  },
  {
   "cell_type": "code",
   "execution_count": 5,
   "id": "4b7aee07",
   "metadata": {},
   "outputs": [],
   "source": [
    "def isValid(s):\n",
    "    d = {')':'(',']':'[','}':'{'}\n",
    "    stack = []\n",
    "    for c in s:\n",
    "        if c in d:\n",
    "            if stack and stack[-1] == d[c]:\n",
    "                stack.pop()\n",
    "            else:\n",
    "                return False\n",
    "        else:\n",
    "            stack.append(c)\n",
    "    if stack:\n",
    "        return False\n",
    "    else:\n",
    "        return True\n",
    "        "
   ]
  },
  {
   "cell_type": "code",
   "execution_count": 7,
   "id": "7d35aebf",
   "metadata": {},
   "outputs": [
    {
     "data": {
      "text/plain": [
       "False"
      ]
     },
     "execution_count": 7,
     "metadata": {},
     "output_type": "execute_result"
    }
   ],
   "source": [
    "s = \"()[]{{{(}}}\"\n",
    "isValid(s)"
   ]
  },
  {
   "cell_type": "code",
   "execution_count": null,
   "id": "34ba1f05",
   "metadata": {},
   "outputs": [],
   "source": []
  }
 ],
 "metadata": {
  "kernelspec": {
   "display_name": "Python 3",
   "language": "python",
   "name": "python3"
  },
  "language_info": {
   "codemirror_mode": {
    "name": "ipython",
    "version": 3
   },
   "file_extension": ".py",
   "mimetype": "text/x-python",
   "name": "python",
   "nbconvert_exporter": "python",
   "pygments_lexer": "ipython3",
   "version": "3.8.8"
  }
 },
 "nbformat": 4,
 "nbformat_minor": 5
}
