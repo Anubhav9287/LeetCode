{
 "cells": [
  {
   "cell_type": "markdown",
   "id": "edc9d0df",
   "metadata": {},
   "source": [
    "Given an integer array nums of length n, you want to create an array ans of length 2n where ans[i] == nums[i] and ans[i + n] == nums[i] for 0 <= i < n (0-indexed).\n",
    "<br>\n",
    "Specifically, ans is the concatenation of two nums arrays.\n",
    "<br>\n",
    "Return the array ans.\n",
    "<br>\n",
    "###### Example 1:\n",
    "Input: nums = [1,2,1]\n",
    "<br>Output: [1,2,1,1,2,1]\n",
    "<br>Explanation: The array ans is formed as follows:\n",
    "<br> - ans = [nums[0],nums[1],nums[2],nums[0],nums[1],nums[2]]\n",
    "<br> - ans = [1,2,1,1,2,1]\n",
    "###### Example 2:\n",
    "Input: nums = [1,3,2,1]\n",
    "<br>Output: [1,3,2,1,1,3,2,1]\n",
    "<br>Explanation: The array ans is formed as follows:\n",
    "<br> - ans = [nums[0],nums[1],nums[2],nums[3],nums[0],nums[1],nums[2],nums[3]]\n",
    "<br> - ans = [1,3,2,1,1,3,2,1]"
   ]
  },
  {
   "cell_type": "code",
   "execution_count": 14,
   "id": "fb6b7792",
   "metadata": {},
   "outputs": [],
   "source": [
    "nums = [1,2,1]\n",
    "# result = []\n",
    "result = [0 for _ in range(2*len(nums))]\n",
    "for i in range(len(nums)):\n",
    "    result[i] = nums[i]\n",
    "    result[i+len(nums)] = nums[i]"
   ]
  },
  {
   "cell_type": "code",
   "execution_count": 15,
   "id": "f6e8cd1a",
   "metadata": {},
   "outputs": [
    {
     "data": {
      "text/plain": [
       "[1, 2, 1, 1, 2, 1]"
      ]
     },
     "execution_count": 15,
     "metadata": {},
     "output_type": "execute_result"
    }
   ],
   "source": [
    "result"
   ]
  },
  {
   "cell_type": "code",
   "execution_count": null,
   "id": "aed4d1dc",
   "metadata": {},
   "outputs": [],
   "source": []
  }
 ],
 "metadata": {
  "kernelspec": {
   "display_name": "Python 3",
   "language": "python",
   "name": "python3"
  },
  "language_info": {
   "codemirror_mode": {
    "name": "ipython",
    "version": 3
   },
   "file_extension": ".py",
   "mimetype": "text/x-python",
   "name": "python",
   "nbconvert_exporter": "python",
   "pygments_lexer": "ipython3",
   "version": "3.8.8"
  }
 },
 "nbformat": 4,
 "nbformat_minor": 5
}
