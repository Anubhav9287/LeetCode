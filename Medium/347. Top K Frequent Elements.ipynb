{
 "cells": [
  {
   "cell_type": "markdown",
   "id": "c561e852",
   "metadata": {},
   "source": [
    "Given an integer array nums and an integer k, return the k most frequent elements. You may return the answer in any order.\n",
    "\n",
    "##### Example 1:\n",
    "Input: nums = [1,1,1,2,2,3], k = 2 <br>\n",
    "Output: [1,2] <br>\n",
    "##### Example 2:\n",
    "Input: nums = [1], k = 1 <br>\n",
    "Output: [1] <br>"
   ]
  },
  {
   "cell_type": "code",
   "execution_count": 29,
   "id": "77be2fff",
   "metadata": {},
   "outputs": [],
   "source": [
    "nums = [1,1,1,1,2,2,3]\n",
    "k = 2"
   ]
  },
  {
   "cell_type": "code",
   "execution_count": 34,
   "id": "63069873",
   "metadata": {},
   "outputs": [],
   "source": [
    "def topKFrequent(nums,k):\n",
    "    d = {}\n",
    "    for i in nums:\n",
    "        d[i] = 1 + d.get(i, 0)\n",
    "    freq = [[] for i in range(len(nums)+1)]\n",
    "    for n,c in d.items():\n",
    "        freq[c].append(n)\n",
    "    result = []\n",
    "    for i in range(len(freq)-1,0,-1):\n",
    "        for n in freq[i]:\n",
    "            result.append(n)\n",
    "            if len(result) == k:\n",
    "                return result"
   ]
  },
  {
   "cell_type": "code",
   "execution_count": 36,
   "id": "d2a2118d",
   "metadata": {},
   "outputs": [
    {
     "data": {
      "text/plain": [
       "[1, 2]"
      ]
     },
     "execution_count": 36,
     "metadata": {},
     "output_type": "execute_result"
    }
   ],
   "source": [
    "topKFrequent(nums,k)"
   ]
  },
  {
   "cell_type": "code",
   "execution_count": null,
   "id": "a449f58d",
   "metadata": {},
   "outputs": [],
   "source": []
  }
 ],
 "metadata": {
  "kernelspec": {
   "display_name": "Python 3",
   "language": "python",
   "name": "python3"
  },
  "language_info": {
   "codemirror_mode": {
    "name": "ipython",
    "version": 3
   },
   "file_extension": ".py",
   "mimetype": "text/x-python",
   "name": "python",
   "nbconvert_exporter": "python",
   "pygments_lexer": "ipython3",
   "version": "3.8.8"
  }
 },
 "nbformat": 4,
 "nbformat_minor": 5
}
