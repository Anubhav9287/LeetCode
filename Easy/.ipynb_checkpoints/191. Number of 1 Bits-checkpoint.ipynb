{
 "cells": [
  {
   "cell_type": "markdown",
   "id": "93625908",
   "metadata": {},
   "source": [
    "Write a function that takes an unsigned integer and returns the number of '1' bits it has (also known as the Hamming weight).\n",
    "###### Example 1:\n",
    "\n",
    "Input: n = 00000000000000000000000000001011<br>\n",
    "Output: 3<br>\n",
    "Explanation: The input binary string 00000000000000000000000000001011 has a total of three '1' bits.<br>"
   ]
  },
  {
   "cell_type": "code",
   "execution_count": 22,
   "id": "097abecb",
   "metadata": {},
   "outputs": [],
   "source": [
    "n = int('00000000000000000000000000001011')"
   ]
  },
  {
   "cell_type": "code",
   "execution_count": 23,
   "id": "6cb97cb0",
   "metadata": {},
   "outputs": [],
   "source": [
    "result = 0\n",
    "while n:\n",
    "    result += n%2\n",
    "    n = n >> 1"
   ]
  },
  {
   "cell_type": "code",
   "execution_count": 24,
   "id": "80fb5143",
   "metadata": {},
   "outputs": [
    {
     "name": "stdout",
     "output_type": "stream",
     "text": [
      "8\n"
     ]
    }
   ],
   "source": [
    "print(result)"
   ]
  },
  {
   "cell_type": "code",
   "execution_count": null,
   "id": "18e913cf",
   "metadata": {},
   "outputs": [],
   "source": []
  }
 ],
 "metadata": {
  "kernelspec": {
   "display_name": "Python 3",
   "language": "python",
   "name": "python3"
  },
  "language_info": {
   "codemirror_mode": {
    "name": "ipython",
    "version": 3
   },
   "file_extension": ".py",
   "mimetype": "text/x-python",
   "name": "python",
   "nbconvert_exporter": "python",
   "pygments_lexer": "ipython3",
   "version": "3.8.8"
  }
 },
 "nbformat": 4,
 "nbformat_minor": 5
}
