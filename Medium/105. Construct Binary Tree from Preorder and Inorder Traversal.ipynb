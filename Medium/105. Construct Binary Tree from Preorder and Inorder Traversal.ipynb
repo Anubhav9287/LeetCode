{
 "cells": [
  {
   "cell_type": "code",
   "execution_count": 1,
   "id": "7c604b4d",
   "metadata": {},
   "outputs": [],
   "source": [
    "class Node:\n",
    "    def __init__(self,key):\n",
    "        self.val = key\n",
    "        self.left = None\n",
    "        self.right = None"
   ]
  },
  {
   "cell_type": "code",
   "execution_count": 2,
   "id": "4e63ec59",
   "metadata": {},
   "outputs": [],
   "source": [
    "def buildTree(preorder,inorder):\n",
    "    if not preorder or not inorder:\n",
    "        return None\n",
    "    root = Node(preorder[0])\n",
    "    mid = inorder.index(preorder[0])\n",
    "    root.left = buildTree(preorder[1:mid+1],inorder[:mid])\n",
    "    root.right = buildTree(preorder[mid+1:],inorder[mid+1:])\n",
    "    return root"
   ]
  },
  {
   "cell_type": "code",
   "execution_count": 3,
   "id": "4782d9b1",
   "metadata": {},
   "outputs": [
    {
     "data": {
      "text/plain": [
       "<__main__.Node at 0x7feb62fac730>"
      ]
     },
     "execution_count": 3,
     "metadata": {},
     "output_type": "execute_result"
    }
   ],
   "source": [
    "preorder = [3,9,20,15,7]\n",
    "inorder = [9,3,15,20,7]\n",
    "buildTree(preorder,inorder)"
   ]
  },
  {
   "cell_type": "code",
   "execution_count": null,
   "id": "cf9bdda8",
   "metadata": {},
   "outputs": [],
   "source": []
  }
 ],
 "metadata": {
  "kernelspec": {
   "display_name": "Python 3",
   "language": "python",
   "name": "python3"
  },
  "language_info": {
   "codemirror_mode": {
    "name": "ipython",
    "version": 3
   },
   "file_extension": ".py",
   "mimetype": "text/x-python",
   "name": "python",
   "nbconvert_exporter": "python",
   "pygments_lexer": "ipython3",
   "version": "3.8.8"
  }
 },
 "nbformat": 4,
 "nbformat_minor": 5
}
