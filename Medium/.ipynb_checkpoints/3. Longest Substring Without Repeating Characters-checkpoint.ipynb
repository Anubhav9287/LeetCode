{
 "cells": [
  {
   "cell_type": "markdown",
   "id": "eab70eb5",
   "metadata": {},
   "source": [
    "Given a string s, find the length of the longest substring without repeating characters.\n",
    "<br>\n",
    "<br>\n",
    "###### Example 1:\n",
    "<br>\n",
    "Input: s = \"abcabcbb\"<br>\n",
    "Output: 3<br>\n",
    "Explanation: The answer is \"abc\", with the length of 3.\n",
    "\n",
    "###### Example 2:\n",
    "<br>\n",
    "Input: s = \"bbbbb\"<br>\n",
    "Output: 1<br>\n",
    "<br>Explanation: The answer is \"b\", with the length of 1.\n",
    "<br>\n",
    "###### Example 3:\n",
    "<br>\n",
    "Input: s = \"pwwkew\"<br>\n",
    "Output: 3<br>\n",
    "Explanation: The answer is \"wke\", with the length of 3.\n",
    "Notice that the answer must be a substring, \"pwke\" is a subsequence and not a substring."
   ]
  },
  {
   "cell_type": "code",
   "execution_count": null,
   "id": "79b068b9",
   "metadata": {},
   "outputs": [],
   "source": []
  }
 ],
 "metadata": {
  "kernelspec": {
   "display_name": "Python 3",
   "language": "python",
   "name": "python3"
  },
  "language_info": {
   "codemirror_mode": {
    "name": "ipython",
    "version": 3
   },
   "file_extension": ".py",
   "mimetype": "text/x-python",
   "name": "python",
   "nbconvert_exporter": "python",
   "pygments_lexer": "ipython3",
   "version": "3.8.8"
  }
 },
 "nbformat": 4,
 "nbformat_minor": 5
}
