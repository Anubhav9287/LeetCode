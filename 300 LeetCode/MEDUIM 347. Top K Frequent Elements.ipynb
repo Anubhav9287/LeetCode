{
 "cells": [
  {
   "cell_type": "code",
   "execution_count": 58,
   "id": "9f13e6c9",
   "metadata": {},
   "outputs": [],
   "source": [
    "nums = [1,1,1,2,2,3]\n",
    "k = 2"
   ]
  },
  {
   "cell_type": "code",
   "execution_count": 59,
   "id": "1749b2ab",
   "metadata": {},
   "outputs": [],
   "source": [
    "def topKFrequent(nums, k):\n",
    "    dic = {}\n",
    "    result = []\n",
    "    for i in nums:\n",
    "        if i in dic:\n",
    "            dic[i] += 1\n",
    "        else:\n",
    "            dic[i] = 1\n",
    "    v = sorted(dic.items(),key=lambda x:x[1],reverse=True)\n",
    "    for i,val in v[:k]:\n",
    "        result.append(i)\n",
    "    return result"
   ]
  },
  {
   "cell_type": "code",
   "execution_count": 60,
   "id": "24b35740",
   "metadata": {},
   "outputs": [
    {
     "data": {
      "text/plain": [
       "[1, 2]"
      ]
     },
     "execution_count": 60,
     "metadata": {},
     "output_type": "execute_result"
    }
   ],
   "source": [
    "topKFrequent(nums,k)"
   ]
  },
  {
   "cell_type": "code",
   "execution_count": 76,
   "id": "21b84d5f",
   "metadata": {},
   "outputs": [],
   "source": [
    "def topKFrequent2(nums, k):\n",
    "    count = {}\n",
    "    feq = [[] for i in range(len(nums)+1)]\n",
    "    for i in nums:\n",
    "        count[i] = 1 + count.get(i,0)\n",
    "    for n,c in count.items():\n",
    "        feq[c].append(n)\n",
    "    result = []\n",
    "    for i in range(len(feq)-1,-1,-1):\n",
    "        for n in feq[i]:\n",
    "            result.append(n)\n",
    "            if len(result) == k:\n",
    "                return result"
   ]
  },
  {
   "cell_type": "code",
   "execution_count": 77,
   "id": "ef2ca1c1",
   "metadata": {},
   "outputs": [
    {
     "data": {
      "text/plain": [
       "[1, 2]"
      ]
     },
     "execution_count": 77,
     "metadata": {},
     "output_type": "execute_result"
    }
   ],
   "source": [
    "topKFrequent2(nums,k)"
   ]
  },
  {
   "cell_type": "code",
   "execution_count": null,
   "id": "3af6e9b8",
   "metadata": {},
   "outputs": [],
   "source": []
  }
 ],
 "metadata": {
  "kernelspec": {
   "display_name": "Python 3",
   "language": "python",
   "name": "python3"
  },
  "language_info": {
   "codemirror_mode": {
    "name": "ipython",
    "version": 3
   },
   "file_extension": ".py",
   "mimetype": "text/x-python",
   "name": "python",
   "nbconvert_exporter": "python",
   "pygments_lexer": "ipython3",
   "version": "3.8.8"
  }
 },
 "nbformat": 4,
 "nbformat_minor": 5
}
