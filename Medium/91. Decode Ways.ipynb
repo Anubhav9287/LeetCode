{
 "cells": [
  {
   "cell_type": "markdown",
   "id": "6fcb2c17",
   "metadata": {},
   "source": [
    "A message containing letters from A-Z can be encoded into numbers using the following mapping:\n",
    "<br>\n",
    "'A' -> \"1\"<br>\n",
    "'B' -> \"2\"<br>\n",
    "...<br>\n",
    "'Z' -> \"26\"<br>\n",
    "To decode an encoded message, all the digits must be grouped then mapped back into letters using the reverse of the mapping above (there may be multiple ways). For example, \"11106\" can be mapped into:<br>\n",
    "\n",
    "\"AAJF\" with the grouping (1 1 10 6)<br>\n",
    "\"KJF\" with the grouping (11 10 6)<br>\n",
    "Note that the grouping (1 11 06) is invalid because \"06\" cannot be mapped into 'F' since \"6\" is different from \"06\".<br>\n",
    "\n",
    "Given a string s containing only digits, return the number of ways to decode it.<br>\n",
    "\n",
    "The test cases are generated so that the answer fits in a 32-bit integer.<br>\n",
    "\n",
    " \n",
    "\n",
    "###### Example 1:\n",
    "\n",
    "Input: s = \"12\"<br>\n",
    "Output: 2<br>\n",
    "Explanation: \"12\" could be decoded as \"AB\" (1 2) or \"L\" (12)."
   ]
  },
  {
   "cell_type": "code",
   "execution_count": 14,
   "id": "c74f6f9c",
   "metadata": {},
   "outputs": [],
   "source": [
    "s = \"123\"\n",
    "\n",
    "def DecodeWays(s):\n",
    "    dp = {len(s):1}\n",
    "    result = 0\n",
    "    \n",
    "    def dfs(i):\n",
    "        if i in dp:\n",
    "            return dp[i]\n",
    "        if s[i] == \"0\":\n",
    "            return 0\n",
    "        \n",
    "        result = dfs(i+1)\n",
    "        if (i+1 < len(s) and (s[i] == \"1\" or s[i]==\"2\" and s[i+1] in \"0123456\")):\n",
    "            result += dfs(i+2)\n",
    "        dp[i] = result\n",
    "        return result\n",
    "    return dfs(0)"
   ]
  },
  {
   "cell_type": "code",
   "execution_count": 15,
   "id": "469441ee",
   "metadata": {},
   "outputs": [
    {
     "data": {
      "text/plain": [
       "3"
      ]
     },
     "execution_count": 15,
     "metadata": {},
     "output_type": "execute_result"
    }
   ],
   "source": [
    "DecodeWays(s)"
   ]
  },
  {
   "cell_type": "code",
   "execution_count": 22,
   "id": "0af0cabd",
   "metadata": {},
   "outputs": [
    {
     "name": "stdout",
     "output_type": "stream",
     "text": [
      "Value of dp:  {4: 1}\n",
      " Value if i =  3  with :  2\n",
      "Value of DP:  {4: 1, 3: 1}\n",
      "------------------------------------------\n",
      " Value if i =  2  with :  1\n",
      "Value of DP:  {4: 1, 3: 1, 2: 1}\n",
      "------------------------------------------\n",
      " Value if i =  1  with :  2\n",
      "Value of DP:  {4: 1, 3: 1, 2: 2, 1: 2}\n",
      "------------------------------------------\n",
      " Value if i =  0  with :  1\n",
      "Value of DP:  {4: 1, 3: 1, 2: 2, 1: 3, 0: 3}\n",
      "------------------------------------------\n",
      "5\n"
     ]
    }
   ],
   "source": [
    "s = \"1212\"\n",
    "dp = {len(s):1}\n",
    "print(\"Value of dp: \",dp)\n",
    "for i in range(len(s)-1,-1,-1):\n",
    "    print(\" Value if i = \",i,\" with : \",s[i])\n",
    "    if s[i] == \"0\":\n",
    "        dp[i] = 0\n",
    "    else:\n",
    "        dp[i] = dp[i+1]\n",
    "    print(\"Value of DP: \",dp)\n",
    "    if (i+1 < len(s) and (s[i] == \"1\" or s[i]==\"2\" and s[i+1] in \"0123456\")):\n",
    "        dp[i] += dp[i+2]\n",
    "    print(\"------------------------------------------\")\n",
    "print(dp[0])"
   ]
  },
  {
   "cell_type": "code",
   "execution_count": null,
   "id": "79f0c63d",
   "metadata": {},
   "outputs": [],
   "source": []
  }
 ],
 "metadata": {
  "kernelspec": {
   "display_name": "Python 3",
   "language": "python",
   "name": "python3"
  },
  "language_info": {
   "codemirror_mode": {
    "name": "ipython",
    "version": 3
   },
   "file_extension": ".py",
   "mimetype": "text/x-python",
   "name": "python",
   "nbconvert_exporter": "python",
   "pygments_lexer": "ipython3",
   "version": "3.8.8"
  }
 },
 "nbformat": 4,
 "nbformat_minor": 5
}
