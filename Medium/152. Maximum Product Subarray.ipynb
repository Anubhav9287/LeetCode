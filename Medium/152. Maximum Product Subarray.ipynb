{
 "cells": [
  {
   "cell_type": "markdown",
   "id": "3a8c444c",
   "metadata": {},
   "source": [
    "Given an integer array nums, find a contiguous non-empty subarray within the array that has the largest product, and return the product.\n",
    "<br>\n",
    "The test cases are generated so that the answer will fit in a 32-bit integer.\n",
    "<br>\n",
    "A subarray is a contiguous subsequence of the array.\n",
    "<br>\n",
    " \n",
    "\n",
    "###### Example 1:\n",
    "\n",
    "Input: nums = [2,3,-2,4]\n",
    "<br>Output: 6\n",
    "<br>Explanation: [2,3] has the largest product 6."
   ]
  },
  {
   "cell_type": "code",
   "execution_count": 1,
   "id": "15bb74c9",
   "metadata": {},
   "outputs": [],
   "source": [
    "nums = [2,3,-2,4,-1]"
   ]
  },
  {
   "cell_type": "code",
   "execution_count": 3,
   "id": "5754a33d",
   "metadata": {},
   "outputs": [],
   "source": [
    "def maxProductSubarray(nums):\n",
    "    res = max(nums)\n",
    "    cur_max = 1\n",
    "    cur_min = 1\n",
    "    for n in nums:\n",
    "        if n == 0:\n",
    "            cur_max = 1\n",
    "            cur_min = 1\n",
    "            continue\n",
    "        tmp = n * cur_max\n",
    "        cur_max = max(n*cur_max, n*cur_min, n)\n",
    "        cur_min = min(tmp, n*cur_min, n)\n",
    "        res = max(cur_max,res)\n",
    "    return res\n",
    "            "
   ]
  },
  {
   "cell_type": "code",
   "execution_count": 4,
   "id": "58c6c4e5",
   "metadata": {},
   "outputs": [
    {
     "data": {
      "text/plain": [
       "6"
      ]
     },
     "execution_count": 4,
     "metadata": {},
     "output_type": "execute_result"
    }
   ],
   "source": [
    "maxProductSubarray(nums)"
   ]
  },
  {
   "cell_type": "code",
   "execution_count": null,
   "id": "0531a54b",
   "metadata": {},
   "outputs": [],
   "source": []
  }
 ],
 "metadata": {
  "kernelspec": {
   "display_name": "Python 3",
   "language": "python",
   "name": "python3"
  },
  "language_info": {
   "codemirror_mode": {
    "name": "ipython",
    "version": 3
   },
   "file_extension": ".py",
   "mimetype": "text/x-python",
   "name": "python",
   "nbconvert_exporter": "python",
   "pygments_lexer": "ipython3",
   "version": "3.8.8"
  }
 },
 "nbformat": 4,
 "nbformat_minor": 5
}
