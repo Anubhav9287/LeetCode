{
 "cells": [
  {
   "cell_type": "markdown",
   "id": "7faa6043",
   "metadata": {},
   "source": [
    "## Example: 1\n",
    "<b>Input:<b> s = \"RLRRLLRLRL\" <br>\n",
    "<b>Output:<b> 4 <br>\n",
    "<b>Explanation:<b> s can be split into \"RL\", \"RRLL\", \"RL\", \"RL\", each substring contains same number of 'L' and 'R'."
   ]
  },
  {
   "cell_type": "code",
   "execution_count": 4,
   "id": "11c61780",
   "metadata": {},
   "outputs": [],
   "source": [
    "# s = \"RLRRLLRLRL\"\n",
    "s = \"RLLLLRRRLR\""
   ]
  },
  {
   "cell_type": "code",
   "execution_count": 5,
   "id": "4445a4af",
   "metadata": {},
   "outputs": [],
   "source": [
    "def balancedString(s):\n",
    "    balanceCount = 0\n",
    "    count = 0\n",
    "    for i in s:\n",
    "        if i =='L':\n",
    "            count += 1\n",
    "        if i == 'R':\n",
    "            count -= 1\n",
    "        if count == 0:\n",
    "            balanceCount += 1\n",
    "    return balanceCount"
   ]
  },
  {
   "cell_type": "code",
   "execution_count": 6,
   "id": "107e359d",
   "metadata": {},
   "outputs": [
    {
     "data": {
      "text/plain": [
       "3"
      ]
     },
     "execution_count": 6,
     "metadata": {},
     "output_type": "execute_result"
    }
   ],
   "source": [
    "balancedString(s)"
   ]
  },
  {
   "cell_type": "code",
   "execution_count": null,
   "id": "06b8d32a",
   "metadata": {},
   "outputs": [],
   "source": []
  },
  {
   "cell_type": "code",
   "execution_count": null,
   "id": "30187542",
   "metadata": {},
   "outputs": [],
   "source": []
  }
 ],
 "metadata": {
  "kernelspec": {
   "display_name": "Python 3",
   "language": "python",
   "name": "python3"
  },
  "language_info": {
   "codemirror_mode": {
    "name": "ipython",
    "version": 3
   },
   "file_extension": ".py",
   "mimetype": "text/x-python",
   "name": "python",
   "nbconvert_exporter": "python",
   "pygments_lexer": "ipython3",
   "version": "3.8.8"
  }
 },
 "nbformat": 4,
 "nbformat_minor": 5
}
