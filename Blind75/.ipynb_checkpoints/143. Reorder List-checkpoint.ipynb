{
 "cells": [
  {
   "cell_type": "code",
   "execution_count": 1,
   "id": "1888f2fc",
   "metadata": {},
   "outputs": [],
   "source": [
    "# Input: head = [1,2,3,4]\n",
    "# Output: [1,4,2,3]\n",
    "even:\n",
    "    [1,2,3,4]\n",
    "    --> [1,4,2,3]\n",
    "    [1,2] [4,3] --> 1,4,2,3\n",
    "    [1,2,3,4,5]\n",
    "    --> [1,5,2,4,3]\n",
    "    [1,2,3] [5,4] --> [1,5,2,4,3]\n",
    "    "
   ]
  },
  {
   "cell_type": "code",
   "execution_count": 40,
   "id": "158192fe",
   "metadata": {},
   "outputs": [
    {
     "name": "stdout",
     "output_type": "stream",
     "text": [
      "1 >> 2 >> 3 >> 4 >> None\n"
     ]
    }
   ],
   "source": [
    "class ListNode(object):\n",
    "    def __init__(self, val=0, next=None):\n",
    "        self.val = val\n",
    "        self.next = next\n",
    "a = ListNode(1)\n",
    "b = ListNode(2)\n",
    "c = ListNode(3)\n",
    "d = ListNode(4)\n",
    "e = ListNode(5)\n",
    "a.next = b\n",
    "b.next = c\n",
    "c.next = d\n",
    "def printF(head):\n",
    "    while head:\n",
    "        print(head.val,end=' >> ')\n",
    "        head = head.next\n",
    "    print('None')\n",
    "printF(a)"
   ]
  },
  {
   "cell_type": "code",
   "execution_count": 41,
   "id": "764b6d6f",
   "metadata": {},
   "outputs": [],
   "source": [
    "def reorderList(head):\n",
    "    #find the middle\n",
    "    slow,fast = head,head.next\n",
    "    while fast and fast.next:\n",
    "        slow = slow.next\n",
    "        fast = fast.next.next\n",
    "    second = slow.next\n",
    "    slow.next = None\n",
    "    #reverse the second list\n",
    "    prev = None\n",
    "    while second:\n",
    "        temp = second.next\n",
    "        second.next = prev\n",
    "        prev = second\n",
    "        second = temp\n",
    "    #merge\n",
    "    first,second = head,prev\n",
    "    while second:\n",
    "        tmp1,tmp2 = first.next,second.next\n",
    "        first.next = second\n",
    "        second.next = tmp1\n",
    "        first = tmp1\n",
    "        second = tmp2"
   ]
  },
  {
   "cell_type": "code",
   "execution_count": 42,
   "id": "d2ae169c",
   "metadata": {},
   "outputs": [
    {
     "name": "stdout",
     "output_type": "stream",
     "text": [
      "1 >> 4 >> 2 >> 3 >> None\n"
     ]
    }
   ],
   "source": [
    "reorderList(a)\n",
    "printF(a)"
   ]
  },
  {
   "cell_type": "code",
   "execution_count": null,
   "id": "0836ebf1",
   "metadata": {},
   "outputs": [],
   "source": []
  }
 ],
 "metadata": {
  "kernelspec": {
   "display_name": "Python 3",
   "language": "python",
   "name": "python3"
  },
  "language_info": {
   "codemirror_mode": {
    "name": "ipython",
    "version": 3
   },
   "file_extension": ".py",
   "mimetype": "text/x-python",
   "name": "python",
   "nbconvert_exporter": "python",
   "pygments_lexer": "ipython3",
   "version": "3.8.8"
  }
 },
 "nbformat": 4,
 "nbformat_minor": 5
}
