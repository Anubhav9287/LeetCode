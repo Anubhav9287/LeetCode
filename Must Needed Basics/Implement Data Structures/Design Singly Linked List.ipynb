{
 "cells": [
  {
   "cell_type": "markdown",
   "id": "8dca776b",
   "metadata": {},
   "source": [
    "Design a Singly Linked List class.\n",
    "\n",
    "Your LinkedList class should support the following operations:\n",
    "\n",
    "LinkedList() will initialize an empty linked list. <br>\n",
    "int get(int i) will return the value of the ith node (0-indexed). If the index is out of bounds, return -1.<br>\n",
    "void insertHead(int val) will insert a node with val at the head of the list.<br>\n",
    "void insertTail(int val) will insert a node with val at the tail of the list.<br>\n",
    "int remove(int i) will remove the ith node (0-indexed). If the index is out of bounds, return false, otherwise return true.<br>\n",
    "int[] getValues() return an array of all the values in the linked list, ordered from head to tail.<br>"
   ]
  },
  {
   "cell_type": "code",
   "execution_count": null,
   "id": "7f1a2543",
   "metadata": {},
   "outputs": [],
   "source": [
    "class Node:\n",
    "    def __init__(self,val,next_node=None):\n",
    "        self.val = val\n",
    "        self.next = next_node\n",
    "\n",
    "class LinkedList:\n",
    "    \n",
    "    def __init__(self):\n",
    "        self.head = Node(-1)\n",
    "        self.tail = self.head\n",
    "    def get(self, index: int) -> int:\n",
    "        curr = self.head.next\n",
    "        i = 0\n",
    "        while curr:\n",
    "            if i == index:\n",
    "                return curr.val\n",
    "            i += 1\n",
    "            curr = curr.next\n",
    "        return -1\n",
    "    def insertHead(self, val: int) ->None:\n",
    "        new_node = Node(val)\n",
    "        new_node.next = self.head.next\n",
    "        self.head.next = new_node\n",
    "        if not new_node.next:\n",
    "            self.tail = new_node\n",
    "    def insertTail(self, val: int) ->None:\n",
    "        new_node = Node(val)\n",
    "        self.tail.next = new_node\n",
    "        self.tail = self.tail.next\n",
    "    def remove(self, index: int) -> bool:\n",
    "        i = 0\n",
    "        curr = self.head\n",
    "        while i < index and curr:\n",
    "            i+=1\n",
    "            curr = curr.next\n",
    "        if curr and curr.next:\n",
    "            if curr.next == self.tail:\n",
    "                self.tail = curr\n",
    "            curr.next = curr.next.next\n",
    "            return True\n",
    "        return False\n",
    "    def getValues(self) -> List[int]:\n",
    "        curr = self.head.next\n",
    "        res = []\n",
    "        while curr:\n",
    "            res.append(curr.val)\n",
    "            curr = curr.next\n",
    "        return res\n",
    "        "
   ]
  }
 ],
 "metadata": {
  "kernelspec": {
   "display_name": "Python 3",
   "language": "python",
   "name": "python3"
  },
  "language_info": {
   "codemirror_mode": {
    "name": "ipython",
    "version": 3
   },
   "file_extension": ".py",
   "mimetype": "text/x-python",
   "name": "python",
   "nbconvert_exporter": "python",
   "pygments_lexer": "ipython3",
   "version": "3.8.8"
  }
 },
 "nbformat": 4,
 "nbformat_minor": 5
}
