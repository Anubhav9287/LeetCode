{
 "cells": [
  {
   "cell_type": "markdown",
   "id": "dc5a4b39",
   "metadata": {},
   "source": [
    "You are a professional robber planning to rob houses along a street. Each house has a certain amount of money stashed. All houses at this place are arranged in a circle. That means the first house is the neighbor of the last one. Meanwhile, adjacent houses have a security system connected, and it will automatically contact the police if two adjacent houses were broken into on the same night.\n",
    "<br>\n",
    "Given an integer array nums representing the amount of money of each house, return the maximum amount of money you can rob tonight without alerting the police.\n",
    "<br>\n",
    " \n",
    "\n",
    "###### Example 1:\n",
    "\n",
    "Input: nums = [2,3,2]\n",
    "<br>Output: 3\n",
    "<br>Explanation: You cannot rob house 1 (money = 2) and then rob house 3 (money = 2), because they are adjacent houses.\n",
    "###### Example 2:\n",
    "\n",
    "Input: nums = [1,2,3,1]\n",
    "<br>Output: 4\n",
    "<br>Explanation: Rob house 1 (money = 1) and then rob house 3 (money = 3).\n",
    "<br>Total amount you can rob = 1 + 3 = 4."
   ]
  },
  {
   "cell_type": "code",
   "execution_count": 1,
   "id": "8061bc4e",
   "metadata": {},
   "outputs": [],
   "source": [
    "nums = [1,2,3,1]"
   ]
  },
  {
   "cell_type": "code",
   "execution_count": null,
   "id": "a2e6c355",
   "metadata": {},
   "outputs": [],
   "source": [
    "def houseRobber2(nums):\n",
    "    def houseRobber1(nums):\n",
    "        rob1 = 0\n",
    "        rob2 =0\n",
    "        \n",
    "        for i in nums:\n",
    "            newRob = max(rob1+n, rob2)\n",
    "            rob1 = rob2\n",
    "            rob2 = newRob\n",
    "        return rob2\n",
    "    \n",
    "    return max(nums[0], )"
   ]
  }
 ],
 "metadata": {
  "kernelspec": {
   "display_name": "Python 3",
   "language": "python",
   "name": "python3"
  },
  "language_info": {
   "codemirror_mode": {
    "name": "ipython",
    "version": 3
   },
   "file_extension": ".py",
   "mimetype": "text/x-python",
   "name": "python",
   "nbconvert_exporter": "python",
   "pygments_lexer": "ipython3",
   "version": "3.8.8"
  }
 },
 "nbformat": 4,
 "nbformat_minor": 5
}
