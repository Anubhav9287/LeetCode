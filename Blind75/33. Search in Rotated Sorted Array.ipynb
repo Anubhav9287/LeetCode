{
 "cells": [
  {
   "cell_type": "code",
   "execution_count": 1,
   "id": "8e58226d",
   "metadata": {},
   "outputs": [],
   "source": [
    "# Input: nums = [4,5,6,7,0,1,2], target = 0\n",
    "# Output: 4"
   ]
  },
  {
   "cell_type": "code",
   "execution_count": 2,
   "id": "68186e6c",
   "metadata": {},
   "outputs": [],
   "source": [
    "nums = [4,5,6,7,0,1,2]\n",
    "target = 0\n",
    "def search(nums, target):\n",
    "    pass"
   ]
  },
  {
   "cell_type": "code",
   "execution_count": 3,
   "id": "b48dcc70",
   "metadata": {},
   "outputs": [],
   "source": [
    "search(nums, target)"
   ]
  }
 ],
 "metadata": {
  "kernelspec": {
   "display_name": "Python 3",
   "language": "python",
   "name": "python3"
  },
  "language_info": {
   "codemirror_mode": {
    "name": "ipython",
    "version": 3
   },
   "file_extension": ".py",
   "mimetype": "text/x-python",
   "name": "python",
   "nbconvert_exporter": "python",
   "pygments_lexer": "ipython3",
   "version": "3.8.8"
  }
 },
 "nbformat": 4,
 "nbformat_minor": 5
}
