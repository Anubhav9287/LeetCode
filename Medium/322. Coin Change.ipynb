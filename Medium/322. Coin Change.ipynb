{
 "cells": [
  {
   "cell_type": "markdown",
   "id": "d4591044",
   "metadata": {},
   "source": [
    "You are given an integer array coins representing coins of different denominations and an integer amount representing a total amount of money.\n",
    "<br>\n",
    "Return the fewest number of coins that you need to make up that amount. If that amount of money cannot be made up by any combination of the coins, return -1.\n",
    "<br>\n",
    "You may assume that you have an infinite number of each kind of coin.\n",
    "<br>\n",
    " \n",
    "\n",
    "###### Example 1:\n",
    "\n",
    "<br>Input: coins = [1,2,5], amount = 11\n",
    "<br>Output: 3\n",
    "<br>Explanation: 11 = 5 + 5 + 1\n",
    "###### Example 2:\n",
    "\n",
    "Input: coins = [2], amount = 3\n",
    "<br>Output: -1\n",
    "\n",
    "###### Example 3:\n",
    "\n",
    "Input: coins = [1], amount = 0\n",
    "<br>Output: 0"
   ]
  },
  {
   "cell_type": "code",
   "execution_count": 37,
   "id": "f2f6f278",
   "metadata": {},
   "outputs": [],
   "source": [
    "coins = [1]\n",
    "amount = 0"
   ]
  },
  {
   "cell_type": "code",
   "execution_count": 38,
   "id": "17ea0888",
   "metadata": {},
   "outputs": [],
   "source": [
    "def coinChange(coins,amount):\n",
    "    dp = [amount+1] * (amount+1)\n",
    "    dp[0] = 0\n",
    "    for a in range(1,amount+1):\n",
    "        for c in coins:\n",
    "            if a - c >= 0:\n",
    "                dp[a] = min(dp[a], 1 + dp[a-c])\n",
    "    return dp[amount] if dp[amount] != amount+1 else -1"
   ]
  },
  {
   "cell_type": "code",
   "execution_count": 39,
   "id": "3ccd6c74",
   "metadata": {},
   "outputs": [
    {
     "data": {
      "text/plain": [
       "0"
      ]
     },
     "execution_count": 39,
     "metadata": {},
     "output_type": "execute_result"
    }
   ],
   "source": [
    "coinChange(coins,amount)"
   ]
  },
  {
   "cell_type": "code",
   "execution_count": null,
   "id": "23524ec7",
   "metadata": {},
   "outputs": [],
   "source": []
  }
 ],
 "metadata": {
  "kernelspec": {
   "display_name": "Python 3",
   "language": "python",
   "name": "python3"
  },
  "language_info": {
   "codemirror_mode": {
    "name": "ipython",
    "version": 3
   },
   "file_extension": ".py",
   "mimetype": "text/x-python",
   "name": "python",
   "nbconvert_exporter": "python",
   "pygments_lexer": "ipython3",
   "version": "3.8.8"
  }
 },
 "nbformat": 4,
 "nbformat_minor": 5
}
