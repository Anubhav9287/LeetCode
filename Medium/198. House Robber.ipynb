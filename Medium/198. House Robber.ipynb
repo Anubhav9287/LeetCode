{
 "cells": [
  {
   "cell_type": "markdown",
   "id": "4252901e",
   "metadata": {},
   "source": [
    "You are a professional robber planning to rob houses along a street. Each house has a certain amount of money stashed, the only constraint stopping you from robbing each of them is that adjacent houses have security systems connected and it will automatically contact the police if two adjacent houses were broken into on the same night.<br>\n",
    "Given an integer array nums representing the amount of money of each house, return the maximum amount of money you can rob tonight without alerting the police.<br>\n",
    "###### Example 2:\n",
    "Input: nums = [2,7,9,3,1]<br>\n",
    "Output: 12<br>\n",
    "Explanation: Rob house 1 (money = 2), rob house 3 (money = 9) and rob house 5 (money = 1).<br>\n",
    "Total amount you can rob = 2 + 9 + 1 = 12.<br>"
   ]
  },
  {
   "cell_type": "code",
   "execution_count": 1,
   "id": "1e08ad62",
   "metadata": {},
   "outputs": [],
   "source": [
    "nums = [2,7,9,3,1]"
   ]
  },
  {
   "cell_type": "code",
   "execution_count": 2,
   "id": "878a907a",
   "metadata": {},
   "outputs": [],
   "source": [
    "rob1 = 0\n",
    "rob2 = 0\n",
    "\n",
    "for i in nums:\n",
    "    temp = max(i+rob1, rob2)\n",
    "    rob1 = rob2\n",
    "    rob2 = temp"
   ]
  },
  {
   "cell_type": "code",
   "execution_count": 3,
   "id": "8ef97df1",
   "metadata": {},
   "outputs": [
    {
     "data": {
      "text/plain": [
       "12"
      ]
     },
     "execution_count": 3,
     "metadata": {},
     "output_type": "execute_result"
    }
   ],
   "source": [
    "rob2"
   ]
  },
  {
   "cell_type": "code",
   "execution_count": null,
   "id": "809695cd",
   "metadata": {},
   "outputs": [],
   "source": []
  }
 ],
 "metadata": {
  "kernelspec": {
   "display_name": "Python 3",
   "language": "python",
   "name": "python3"
  },
  "language_info": {
   "codemirror_mode": {
    "name": "ipython",
    "version": 3
   },
   "file_extension": ".py",
   "mimetype": "text/x-python",
   "name": "python",
   "nbconvert_exporter": "python",
   "pygments_lexer": "ipython3",
   "version": "3.8.8"
  }
 },
 "nbformat": 4,
 "nbformat_minor": 5
}
