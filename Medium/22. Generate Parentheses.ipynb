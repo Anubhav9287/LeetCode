{
 "cells": [
  {
   "cell_type": "markdown",
   "id": "41cb0420",
   "metadata": {},
   "source": [
    "###### Example 1:\n",
    "Input: n = 3 <br>\n",
    "Output: [\"((()))\",\"(()())\",\"(())()\",\"()(())\",\"()()()\"] <br>"
   ]
  },
  {
   "cell_type": "code",
   "execution_count": 16,
   "id": "bd4524c0",
   "metadata": {},
   "outputs": [],
   "source": [
    "n = 3\n",
    "stack = []\n",
    "result = []\n",
    "def backtracking(OpenN,ClosedN):\n",
    "    if OpenN == ClosedN == n:\n",
    "        result.append(''.join(stack))\n",
    "        return\n",
    "    if OpenN < n:\n",
    "        stack.append('(')\n",
    "        backtracking(OpenN+1, ClosedN)\n",
    "        stack.pop()\n",
    "    if ClosedN < OpenN:\n",
    "        stack.append(')')\n",
    "        backtracking(OpenN, ClosedN+1)\n",
    "        stack.pop()"
   ]
  },
  {
   "cell_type": "code",
   "execution_count": 17,
   "id": "abc00485",
   "metadata": {},
   "outputs": [
    {
     "data": {
      "text/plain": [
       "['((()))', '(()())', '(())()', '()(())', '()()()']"
      ]
     },
     "execution_count": 17,
     "metadata": {},
     "output_type": "execute_result"
    }
   ],
   "source": [
    "backtracking(0,0)\n",
    "result"
   ]
  },
  {
   "cell_type": "code",
   "execution_count": null,
   "id": "276e04a5",
   "metadata": {},
   "outputs": [],
   "source": []
  }
 ],
 "metadata": {
  "kernelspec": {
   "display_name": "Python 3",
   "language": "python",
   "name": "python3"
  },
  "language_info": {
   "codemirror_mode": {
    "name": "ipython",
    "version": 3
   },
   "file_extension": ".py",
   "mimetype": "text/x-python",
   "name": "python",
   "nbconvert_exporter": "python",
   "pygments_lexer": "ipython3",
   "version": "3.8.8"
  }
 },
 "nbformat": 4,
 "nbformat_minor": 5
}
