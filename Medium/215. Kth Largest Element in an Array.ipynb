{
 "cells": [
  {
   "cell_type": "code",
   "execution_count": 5,
   "id": "cfc00f59",
   "metadata": {},
   "outputs": [],
   "source": [
    "# nums = [3,2,1,5,6,4]\n",
    "# k = 2\n",
    "nums = [3,2,3,1,2,4,5,5,6]\n",
    "k = 4"
   ]
  },
  {
   "cell_type": "code",
   "execution_count": 8,
   "id": "cbaf720c",
   "metadata": {},
   "outputs": [],
   "source": [
    "def kthLargest(nums,k):\n",
    "    nums.sort()\n",
    "    print(nums)\n",
    "    return nums[-k]"
   ]
  },
  {
   "cell_type": "code",
   "execution_count": 10,
   "id": "3b1cfb96",
   "metadata": {},
   "outputs": [
    {
     "name": "stdout",
     "output_type": "stream",
     "text": [
      "[1, 2, 2, 3, 3, 4, 5, 5, 6]\n"
     ]
    },
    {
     "data": {
      "text/plain": [
       "4"
      ]
     },
     "execution_count": 10,
     "metadata": {},
     "output_type": "execute_result"
    }
   ],
   "source": [
    "kthLargest(nums,k)"
   ]
  },
  {
   "cell_type": "code",
   "execution_count": null,
   "id": "e0e4c2c6",
   "metadata": {},
   "outputs": [],
   "source": []
  }
 ],
 "metadata": {
  "kernelspec": {
   "display_name": "Python 3",
   "language": "python",
   "name": "python3"
  },
  "language_info": {
   "codemirror_mode": {
    "name": "ipython",
    "version": 3
   },
   "file_extension": ".py",
   "mimetype": "text/x-python",
   "name": "python",
   "nbconvert_exporter": "python",
   "pygments_lexer": "ipython3",
   "version": "3.8.8"
  }
 },
 "nbformat": 4,
 "nbformat_minor": 5
}
