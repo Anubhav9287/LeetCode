{
 "cells": [
  {
   "cell_type": "markdown",
   "id": "c29aedb5",
   "metadata": {},
   "source": [
    "Design a Double-ended Queue class.\n",
    "\n",
    "Your Deque class should support the following operations:<br>\n",
    "\n",
    "Deque() will initialize an empty queue.<br>\n",
    "bool isEmpty() will return whether the queue is empty or not.<br>\n",
    "void append(int value) will insert value at the end of the queue.<br>\n",
    "void appendleft(int val) will insert value at the beginning of the queue.<br>\n",
    "int pop() will remove and return the value at the end of the queue. If the queue is empty, return -1.<br>\n",
    "int popleft() will remove and return the value at the beginning of the queue. If the queue is empty, return -1.<br>\n",
    "Note: You should implement each operation in O(1) time complexity.<br>"
   ]
  },
  {
   "cell_type": "code",
   "execution_count": null,
   "id": "6c303dbf",
   "metadata": {},
   "outputs": [],
   "source": [
    "class Node:\n",
    "    def __init__(self,val):\n",
    "        self.val = val\n",
    "        self.next = None\n",
    "        self.prev = None\n",
    "class Deque:\n",
    "    def __init__(self):\n",
    "        #dummy nodes\n",
    "        self.head = Node(-1)\n",
    "        self.tail = Node(-1)\n",
    "        self.head.next = self.tail\n",
    "        self.tail.prev = self.head\n",
    "    def isEmpty(self) -> bool:\n",
    "        return self.head.next == self.tail\n",
    "    def append(self, value) -> None:\n",
    "        new_node = Node(value)\n",
    "        last_node = self.tail.prev\n",
    "        last_node.next = new_node\n",
    "        new_node.prev = last_node\n",
    "        new_node.next = self.tail\n",
    "        self.tail.prev = new_node\n",
    "    def appendleft(self,value) -> None:\n",
    "        new_node = Node(value)\n",
    "        first_node = self.head.next\n",
    "        self.head.next = new_node\n",
    "        new_node.prev = self.head\n",
    "        new_node.next = first_node\n",
    "        first_node.prev = new_node\n",
    "    def pop(self) -> int:\n",
    "        if self.isEmpty():\n",
    "            return -1\n",
    "        target_node = self.tail.prev\n",
    "        value = target_node.val\n",
    "        prev_node = target_node.prev\n",
    "        prev_node.next = self.tail\n",
    "        self.tail.prev = prev_node\n",
    "        return value\n",
    "    def popleft(self) -> int:\n",
    "        if self.isEmpty():\n",
    "            return -1\n",
    "        \n",
    "        target_node = self.head.next\n",
    "        value = target_node.val\n",
    "        next_node = target_node.next\n",
    "        self.head = next_node\n",
    "        next_node.prev = self.head\n",
    "        return value"
   ]
  }
 ],
 "metadata": {
  "kernelspec": {
   "display_name": "Python 3",
   "language": "python",
   "name": "python3"
  },
  "language_info": {
   "codemirror_mode": {
    "name": "ipython",
    "version": 3
   },
   "file_extension": ".py",
   "mimetype": "text/x-python",
   "name": "python",
   "nbconvert_exporter": "python",
   "pygments_lexer": "ipython3",
   "version": "3.8.8"
  }
 },
 "nbformat": 4,
 "nbformat_minor": 5
}
