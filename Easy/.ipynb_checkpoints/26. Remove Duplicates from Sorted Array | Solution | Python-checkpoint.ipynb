{
 "cells": [
  {
   "cell_type": "code",
   "execution_count": 19,
   "id": "d05dec90",
   "metadata": {},
   "outputs": [],
   "source": [
    "nums = [0,0,1,1,1,2,2,3,3,4]"
   ]
  },
  {
   "cell_type": "code",
   "execution_count": 20,
   "id": "b8c69d18",
   "metadata": {},
   "outputs": [
    {
     "name": "stdout",
     "output_type": "stream",
     "text": [
      "[0, 0, 1, 1, 1, 2, 2, 3, 3, 4]\n",
      "5\n"
     ]
    }
   ],
   "source": [
    "def removeDuplicates(nums):\n",
    "    print(nums)\n",
    "    ptr1, ptr2 = 0,1\n",
    "    if len(nums) <= 1:\n",
    "        return nums\n",
    "    \n",
    "    while ptr2 < len(nums):\n",
    "        if nums[ptr1] != nums[ptr2]:\n",
    "            ptr1 += 1\n",
    "            temp = nums[ptr1]\n",
    "            nums[ptr1] = nums[ptr2]\n",
    "            nums[ptr2] = temp\n",
    "        ptr2 += 1\n",
    "    print(ptr1+1)\n",
    "removeDuplicates(nums)"
   ]
  },
  {
   "cell_type": "code",
   "execution_count": null,
   "id": "e39dd642",
   "metadata": {},
   "outputs": [],
   "source": []
  },
  {
   "cell_type": "code",
   "execution_count": null,
   "id": "59e1f1f5",
   "metadata": {},
   "outputs": [],
   "source": []
  }
 ],
 "metadata": {
  "kernelspec": {
   "display_name": "Python 3",
   "language": "python",
   "name": "python3"
  },
  "language_info": {
   "codemirror_mode": {
    "name": "ipython",
    "version": 3
   },
   "file_extension": ".py",
   "mimetype": "text/x-python",
   "name": "python",
   "nbconvert_exporter": "python",
   "pygments_lexer": "ipython3",
   "version": "3.8.8"
  }
 },
 "nbformat": 4,
 "nbformat_minor": 5
}
