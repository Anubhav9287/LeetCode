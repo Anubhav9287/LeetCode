{
 "cells": [
  {
   "cell_type": "code",
   "execution_count": 1,
   "id": "ef797c99",
   "metadata": {},
   "outputs": [],
   "source": [
    "nums = [-1,0,1,2,-1,-4]"
   ]
  },
  {
   "cell_type": "code",
   "execution_count": 28,
   "id": "ade3b14b",
   "metadata": {},
   "outputs": [],
   "source": [
    "def threeSum(nums):\n",
    "    result = []\n",
    "    for i in range(len(nums)):\n",
    "        for j in range(len(nums)):\n",
    "            for k in range(len(nums)):\n",
    "                if i != j and i != k and j != k and (nums[i]+nums[j]+nums[k] == 0):\n",
    "                    if sorted([nums[i],nums[j],nums[k]]) not in result: \n",
    "                        result.append(sorted([nums[i],nums[j],nums[k]]))\n",
    "    return result"
   ]
  },
  {
   "cell_type": "code",
   "execution_count": 30,
   "id": "6ceeb6c9",
   "metadata": {},
   "outputs": [
    {
     "data": {
      "text/plain": [
       "[[-1, 0, 1], [-1, -1, 2]]"
      ]
     },
     "execution_count": 30,
     "metadata": {},
     "output_type": "execute_result"
    }
   ],
   "source": [
    "threeSum(nums)"
   ]
  },
  {
   "cell_type": "code",
   "execution_count": 41,
   "id": "c729217a",
   "metadata": {},
   "outputs": [],
   "source": [
    "nums2 = [-1,0,1,2,-1,-4]\n",
    "def threeSum2(nums):\n",
    "    result = []\n",
    "    nums.sort()\n",
    "    \n",
    "    for i,a in enumerate(nums):\n",
    "        if i > 0 and a == nums[i-1]:\n",
    "            continue\n",
    "        l,r = i+1, len(nums)-1\n",
    "        while l < r:\n",
    "            threesum = nums[l]+nums[r]+a\n",
    "            if threesum > 0:\n",
    "                r -= 1\n",
    "            elif threesum < 0 :\n",
    "                l += 1\n",
    "            else:\n",
    "                result.append([a,nums[l],nums[r]])\n",
    "                l += 1\n",
    "                while nums[l] == nums[l-1] and l < r:\n",
    "                    l+= 1\n",
    "    return result"
   ]
  },
  {
   "cell_type": "code",
   "execution_count": 42,
   "id": "57be6d7e",
   "metadata": {},
   "outputs": [
    {
     "data": {
      "text/plain": [
       "[[-1, -1, 2], [-1, 0, 1]]"
      ]
     },
     "execution_count": 42,
     "metadata": {},
     "output_type": "execute_result"
    }
   ],
   "source": [
    "threeSum2(nums2)"
   ]
  },
  {
   "cell_type": "code",
   "execution_count": null,
   "id": "446768b3",
   "metadata": {},
   "outputs": [],
   "source": []
  }
 ],
 "metadata": {
  "kernelspec": {
   "display_name": "Python 3",
   "language": "python",
   "name": "python3"
  },
  "language_info": {
   "codemirror_mode": {
    "name": "ipython",
    "version": 3
   },
   "file_extension": ".py",
   "mimetype": "text/x-python",
   "name": "python",
   "nbconvert_exporter": "python",
   "pygments_lexer": "ipython3",
   "version": "3.8.8"
  }
 },
 "nbformat": 4,
 "nbformat_minor": 5
}
