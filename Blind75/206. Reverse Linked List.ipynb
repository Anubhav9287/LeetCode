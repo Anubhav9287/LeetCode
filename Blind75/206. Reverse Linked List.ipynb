{
 "cells": [
  {
   "cell_type": "code",
   "execution_count": 1,
   "id": "63eff9f2",
   "metadata": {},
   "outputs": [],
   "source": [
    "# Input: head = [1,2,3,4,5]\n",
    "# Output: [5,4,3,2,1]"
   ]
  },
  {
   "cell_type": "code",
   "execution_count": 3,
   "id": "0689f174",
   "metadata": {},
   "outputs": [
    {
     "name": "stdout",
     "output_type": "stream",
     "text": [
      "1 >> 2 >> 3 >> 4 >> 5 >> None\n"
     ]
    }
   ],
   "source": [
    "# Definition for singly-linked list.\n",
    "class ListNode:\n",
    "    def __init__(self, val=0, next=None):\n",
    "        self.val = val\n",
    "        self.next = next\n",
    "\n",
    "a = ListNode(1)\n",
    "b = ListNode(2)\n",
    "c = ListNode(3)\n",
    "d = ListNode(4)\n",
    "e = ListNode(5)\n",
    "a.next = b\n",
    "b.next = c\n",
    "c.next = d\n",
    "d.next = e\n",
    "def printF(head):\n",
    "    curr = head\n",
    "    while curr:\n",
    "        print(curr.val, end = ' >> ')\n",
    "        curr = curr.next\n",
    "    print('None')\n",
    "printF(a)"
   ]
  },
  {
   "cell_type": "code",
   "execution_count": 4,
   "id": "634c2a56",
   "metadata": {},
   "outputs": [],
   "source": [
    "def reverseList(head):\n",
    "    curr = head\n",
    "    prev = None\n",
    "    while curr:\n",
    "        temp = curr.next\n",
    "        curr.next = prev\n",
    "        prev = curr\n",
    "        curr = temp\n",
    "    return prev"
   ]
  },
  {
   "cell_type": "code",
   "execution_count": 6,
   "id": "d80ae81e",
   "metadata": {},
   "outputs": [
    {
     "name": "stdout",
     "output_type": "stream",
     "text": [
      "5 >> 4 >> 3 >> 2 >> 1 >> None\n"
     ]
    }
   ],
   "source": [
    "printF(reverseList(a))"
   ]
  },
  {
   "cell_type": "code",
   "execution_count": null,
   "id": "b13dbba3",
   "metadata": {},
   "outputs": [],
   "source": []
  }
 ],
 "metadata": {
  "kernelspec": {
   "display_name": "Python 3",
   "language": "python",
   "name": "python3"
  },
  "language_info": {
   "codemirror_mode": {
    "name": "ipython",
    "version": 3
   },
   "file_extension": ".py",
   "mimetype": "text/x-python",
   "name": "python",
   "nbconvert_exporter": "python",
   "pygments_lexer": "ipython3",
   "version": "3.8.8"
  }
 },
 "nbformat": 4,
 "nbformat_minor": 5
}
