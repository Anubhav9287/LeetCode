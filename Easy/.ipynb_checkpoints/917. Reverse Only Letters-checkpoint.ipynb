{
 "cells": [
  {
   "cell_type": "markdown",
   "id": "e8333774",
   "metadata": {},
   "source": [
    "Given a string s, reverse the string according to the following rules:<br>\n",
    "<br>\n",
    "All the characters that are not English letters remain in the same position.<br>\n",
    "All the English letters (lowercase or uppercase) should be reversed.<br>\n",
    "Return s after reversing it.<br>\n"
   ]
  },
  {
   "cell_type": "code",
   "execution_count": 81,
   "id": "f6b57076",
   "metadata": {},
   "outputs": [],
   "source": [
    "# s = \"ab-cd\"\n",
    "s = \"Test1ng-Leet=code-Q!\""
   ]
  },
  {
   "cell_type": "code",
   "execution_count": 88,
   "id": "d5ca5bcf",
   "metadata": {},
   "outputs": [],
   "source": [
    "# s = 'An.lqu.av'\n",
    "l = list(s)\n",
    "i = 0 \n",
    "j = len(s) - 1\n",
    "while i <= j:\n",
    "    front = (ord(l[i]) >= 97 and ord(l[i]) <= 122) or (ord(l[i])>=65 and ord(l[i])<=90)\n",
    "    back = (ord(l[j]) >= 97 and ord(l[j]) <= 122) or (ord(l[j])>=65 and ord(l[j])<=90)\n",
    "    if front and back: \n",
    "        t = l[i]\n",
    "        l[i] = l[j]\n",
    "        l[j] = t\n",
    "        i += 1\n",
    "        j -= 1\n",
    "    else:\n",
    "        if not front:\n",
    "            i += 1\n",
    "        else:\n",
    "            j -= 1"
   ]
  },
  {
   "cell_type": "code",
   "execution_count": 89,
   "id": "b2c1ad4c",
   "metadata": {},
   "outputs": [
    {
     "data": {
      "text/plain": [
       "'Qedo1ct-eeLg=ntse-T!'"
      ]
     },
     "execution_count": 89,
     "metadata": {},
     "output_type": "execute_result"
    }
   ],
   "source": [
    "''.join(l)"
   ]
  }
 ],
 "metadata": {
  "kernelspec": {
   "display_name": "Python 3",
   "language": "python",
   "name": "python3"
  },
  "language_info": {
   "codemirror_mode": {
    "name": "ipython",
    "version": 3
   },
   "file_extension": ".py",
   "mimetype": "text/x-python",
   "name": "python",
   "nbconvert_exporter": "python",
   "pygments_lexer": "ipython3",
   "version": "3.8.8"
  }
 },
 "nbformat": 4,
 "nbformat_minor": 5
}
