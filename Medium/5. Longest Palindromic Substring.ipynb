{
 "cells": [
  {
   "cell_type": "markdown",
   "id": "3c082969",
   "metadata": {},
   "source": [
    "Given a string s, return the longest palindromic substring in s.\n",
    "<br>\n",
    "###### Example 1:\n",
    "Input: s = \"babad\" <br>\n",
    "Output: \"bab\"<br>\n",
    "Explanation: \"aba\" is also a valid answer.<br>\n",
    "###### Example 2:\n",
    "Input: s = \"cbbd\"<br>\n",
    "Output: \"bb\"<br>"
   ]
  },
  {
   "cell_type": "code",
   "execution_count": 24,
   "id": "fc1630a3",
   "metadata": {},
   "outputs": [],
   "source": [
    "s = \"babad\""
   ]
  },
  {
   "cell_type": "code",
   "execution_count": 25,
   "id": "de71b31d",
   "metadata": {},
   "outputs": [],
   "source": [
    "#check is palidrome or not"
   ]
  },
  {
   "cell_type": "code",
   "execution_count": 26,
   "id": "de623a13",
   "metadata": {},
   "outputs": [],
   "source": [
    "result = \"\"\n",
    "resultlen = 0\n",
    "for i in range(len(s)):\n",
    "    l = i\n",
    "    r = i\n",
    "    while l >= 0 and r < len(s) and s[l] == s[r]:\n",
    "        if r - l + 1 > resultlen:\n",
    "            result = s[l:r+1]\n",
    "            resultlen = r-l+1\n",
    "        l -= 1\n",
    "        r += 1\n",
    "    #even solution\n",
    "    l = i\n",
    "    r = i + 1\n",
    "    while l>=0 and r <len(s) and s[l] == s[r]:\n",
    "        if r-l+1 > resultlen:\n",
    "            result = s[l:r+1]\n",
    "            resultlen = r-l+1\n",
    "        l-=1\n",
    "        r+=1"
   ]
  },
  {
   "cell_type": "code",
   "execution_count": 27,
   "id": "02ea0f8d",
   "metadata": {},
   "outputs": [
    {
     "data": {
      "text/plain": [
       "'bab'"
      ]
     },
     "execution_count": 27,
     "metadata": {},
     "output_type": "execute_result"
    }
   ],
   "source": [
    "result"
   ]
  },
  {
   "cell_type": "code",
   "execution_count": null,
   "id": "0d4c81e6",
   "metadata": {},
   "outputs": [],
   "source": []
  }
 ],
 "metadata": {
  "kernelspec": {
   "display_name": "Python 3",
   "language": "python",
   "name": "python3"
  },
  "language_info": {
   "codemirror_mode": {
    "name": "ipython",
    "version": 3
   },
   "file_extension": ".py",
   "mimetype": "text/x-python",
   "name": "python",
   "nbconvert_exporter": "python",
   "pygments_lexer": "ipython3",
   "version": "3.8.8"
  }
 },
 "nbformat": 4,
 "nbformat_minor": 5
}
