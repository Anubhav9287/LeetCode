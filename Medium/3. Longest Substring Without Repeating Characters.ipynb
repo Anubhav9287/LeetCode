{
 "cells": [
  {
   "cell_type": "markdown",
   "id": "17144202",
   "metadata": {},
   "source": [
    "Given a string s, find the length of the longest substring without repeating characters.\n",
    "<br>\n",
    "<br>\n",
    "###### Example 1:\n",
    "<br>\n",
    "Input: s = \"abcabcbb\"<br>\n",
    "Output: 3<br>\n",
    "Explanation: The answer is \"abc\", with the length of 3.\n",
    "\n",
    "###### Example 2:\n",
    "<br>\n",
    "Input: s = \"bbbbb\"<br>\n",
    "Output: 1<br>\n",
    "<br>Explanation: The answer is \"b\", with the length of 1.\n",
    "\n",
    "###### Example 3:\n",
    "<br>\n",
    "Input: s = \"pwwkew\"<br>\n",
    "Output: 3<br>\n",
    "Explanation: The answer is \"wke\", with the length of 3.\n",
    "Notice that the answer must be a substring, \"pwke\" is a subsequence and not a substring."
   ]
  },
  {
   "cell_type": "code",
   "execution_count": 46,
   "id": "474808eb",
   "metadata": {},
   "outputs": [],
   "source": [
    "s = \"abcbcabb\""
   ]
  },
  {
   "cell_type": "code",
   "execution_count": 51,
   "id": "db9cb3db",
   "metadata": {},
   "outputs": [],
   "source": [
    "l = 0\n",
    "m = 0\n",
    "charset = set()\n",
    "for r in range(len(s)):\n",
    "    while s[r] in charset:\n",
    "        charset.remove(s[l])\n",
    "        l += 1\n",
    "    charset.add(s[r])\n",
    "    m = max(m, r-l+1)"
   ]
  },
  {
   "cell_type": "code",
   "execution_count": 52,
   "id": "23187991",
   "metadata": {},
   "outputs": [
    {
     "data": {
      "text/plain": [
       "3"
      ]
     },
     "execution_count": 52,
     "metadata": {},
     "output_type": "execute_result"
    }
   ],
   "source": [
    "m"
   ]
  },
  {
   "cell_type": "code",
   "execution_count": null,
   "id": "cdafe3f3",
   "metadata": {},
   "outputs": [],
   "source": []
  }
 ],
 "metadata": {
  "kernelspec": {
   "display_name": "Python 3",
   "language": "python",
   "name": "python3"
  },
  "language_info": {
   "codemirror_mode": {
    "name": "ipython",
    "version": 3
   },
   "file_extension": ".py",
   "mimetype": "text/x-python",
   "name": "python",
   "nbconvert_exporter": "python",
   "pygments_lexer": "ipython3",
   "version": "3.8.8"
  }
 },
 "nbformat": 4,
 "nbformat_minor": 5
}
