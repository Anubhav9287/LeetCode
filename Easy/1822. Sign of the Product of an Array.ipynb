{
 "cells": [
  {
   "cell_type": "code",
   "execution_count": 1,
   "id": "89fc7f5e",
   "metadata": {},
   "outputs": [],
   "source": [
    "# Input: nums = [-1,-2,-3,-4,3,2,1]\n",
    "# Output: 1\n",
    "# Explanation: The product of all values in the array is 144, and signFunc(144) = 1\n",
    "# There is a function signFunc(x) that returns:\n",
    "# 1 if x is positive.\n",
    "# -1 if x is negative.\n",
    "# 0 if x is equal to 0."
   ]
  },
  {
   "cell_type": "code",
   "execution_count": 6,
   "id": "d48c3d91",
   "metadata": {},
   "outputs": [],
   "source": [
    "def arraySign(nums):\n",
    "    res = 1\n",
    "    for i in nums:\n",
    "        res*= i\n",
    "    if res > 0:\n",
    "        return 1\n",
    "    elif res < 0:\n",
    "        return -1\n",
    "    else:\n",
    "        return 0"
   ]
  },
  {
   "cell_type": "code",
   "execution_count": 7,
   "id": "8cb427d6",
   "metadata": {},
   "outputs": [
    {
     "data": {
      "text/plain": [
       "1"
      ]
     },
     "execution_count": 7,
     "metadata": {},
     "output_type": "execute_result"
    }
   ],
   "source": [
    "nums = [-1,-2,-3,-4,3,2,1]\n",
    "arraySign(nums)"
   ]
  },
  {
   "cell_type": "code",
   "execution_count": 8,
   "id": "8d91cf33",
   "metadata": {},
   "outputs": [],
   "source": [
    "def arraySign1(nums):\n",
    "    sign = 1\n",
    "    for i in nums:\n",
    "        if i == 0:\n",
    "            return 0\n",
    "        if i < 0:\n",
    "            sign*= -1\n",
    "    return sign"
   ]
  },
  {
   "cell_type": "code",
   "execution_count": 9,
   "id": "d5c4ae68",
   "metadata": {},
   "outputs": [
    {
     "data": {
      "text/plain": [
       "1"
      ]
     },
     "execution_count": 9,
     "metadata": {},
     "output_type": "execute_result"
    }
   ],
   "source": [
    "arraySign1(nums)"
   ]
  },
  {
   "cell_type": "code",
   "execution_count": null,
   "id": "7238a765",
   "metadata": {},
   "outputs": [],
   "source": []
  }
 ],
 "metadata": {
  "kernelspec": {
   "display_name": "Python 3",
   "language": "python",
   "name": "python3"
  },
  "language_info": {
   "codemirror_mode": {
    "name": "ipython",
    "version": 3
   },
   "file_extension": ".py",
   "mimetype": "text/x-python",
   "name": "python",
   "nbconvert_exporter": "python",
   "pygments_lexer": "ipython3",
   "version": "3.8.8"
  }
 },
 "nbformat": 4,
 "nbformat_minor": 5
}
