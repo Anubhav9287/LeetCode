{
 "cells": [
  {
   "cell_type": "markdown",
   "id": "3cf24804",
   "metadata": {},
   "source": [
    "##### Example 1:\n",
    "Input: nums = [2,7,11,15], target = 9 <br>\n",
    "Output: [0,1]<br>\n",
    "Explanation: Because nums[0] + nums[1] == 9, we return [0, 1].<br>\n",
    "##### Example 2:\n",
    "Input: nums = [3,2,4], target = 6<br>\n",
    "Output: [1,2]<br>\n",
    "##### Example 3:\n",
    "Input: nums = [3,3], target = 6<br>\n",
    "Output: [0,1]<br>"
   ]
  },
  {
   "cell_type": "code",
   "execution_count": 6,
   "id": "6b169028",
   "metadata": {},
   "outputs": [],
   "source": [
    "# nums = [2,7,11,15]\n",
    "nums = [3,2,4]\n",
    "# target = 9\n",
    "target = 6"
   ]
  },
  {
   "cell_type": "code",
   "execution_count": 10,
   "id": "b5293b3e",
   "metadata": {},
   "outputs": [],
   "source": [
    "def twoSum(nums, target):\n",
    "    count = {}\n",
    "    for i,v in enumerate(nums):\n",
    "        if target-v in count:\n",
    "            return (i,count[target-v])\n",
    "        count[v] = i\n",
    "    print(count)"
   ]
  },
  {
   "cell_type": "code",
   "execution_count": 11,
   "id": "a22e2688",
   "metadata": {},
   "outputs": [
    {
     "data": {
      "text/plain": [
       "(2, 1)"
      ]
     },
     "execution_count": 11,
     "metadata": {},
     "output_type": "execute_result"
    }
   ],
   "source": [
    "twoSum(nums, target)"
   ]
  },
  {
   "cell_type": "code",
   "execution_count": null,
   "id": "117a8965",
   "metadata": {},
   "outputs": [],
   "source": []
  }
 ],
 "metadata": {
  "kernelspec": {
   "display_name": "Python 3",
   "language": "python",
   "name": "python3"
  },
  "language_info": {
   "codemirror_mode": {
    "name": "ipython",
    "version": 3
   },
   "file_extension": ".py",
   "mimetype": "text/x-python",
   "name": "python",
   "nbconvert_exporter": "python",
   "pygments_lexer": "ipython3",
   "version": "3.8.8"
  }
 },
 "nbformat": 4,
 "nbformat_minor": 5
}
