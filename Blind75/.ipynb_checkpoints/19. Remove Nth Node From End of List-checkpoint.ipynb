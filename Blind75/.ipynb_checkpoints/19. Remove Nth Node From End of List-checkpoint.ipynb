{
 "cells": [
  {
   "cell_type": "code",
   "execution_count": 1,
   "id": "329674e2",
   "metadata": {},
   "outputs": [],
   "source": [
    "# Input: head = [1,2,3,4,5], n = 2\n",
    "# Output: [1,2,3,5]"
   ]
  },
  {
   "cell_type": "code",
   "execution_count": 15,
   "id": "7e78fcc1",
   "metadata": {},
   "outputs": [
    {
     "name": "stdout",
     "output_type": "stream",
     "text": [
      "1 >> 2 >> 3 >> 4 >> 5 >> None\n"
     ]
    }
   ],
   "source": [
    "class ListNode:\n",
    "    def __init__(self,key=0,next=None):\n",
    "        self.val = key\n",
    "        self.next = next\n",
    "a = ListNode(1)\n",
    "b = ListNode(2)\n",
    "c = ListNode(3)\n",
    "d = ListNode(4)\n",
    "e = ListNode(5)\n",
    "a.next = b\n",
    "b.next = c\n",
    "c.next = d\n",
    "d.next = e\n",
    "def printF(head):\n",
    "    while head:\n",
    "        print(head.val,end=' >> ')\n",
    "        head = head.next\n",
    "    print('None')\n",
    "printF(a)"
   ]
  },
  {
   "cell_type": "code",
   "execution_count": 16,
   "id": "3010e684",
   "metadata": {},
   "outputs": [],
   "source": [
    "def removeNthFromEnd(head, n):\n",
    "    curr = head\n",
    "    all_node = []\n",
    "    while curr:\n",
    "        all_node.append(curr)\n",
    "        curr = curr.next\n",
    "    r_node = all_node[n*-1]\n",
    "    \n",
    "    dummy = ListNode()\n",
    "    dummy.next = head\n",
    "    curr = dummy\n",
    "    \n",
    "    while curr:\n",
    "        if curr.next:\n",
    "            if curr.next == r_node:\n",
    "                if curr.next.next:\n",
    "                    curr.next = curr.next.next\n",
    "                else:\n",
    "                    curr.next = None\n",
    "        curr = curr.next"
   ]
  },
  {
   "cell_type": "code",
   "execution_count": 17,
   "id": "f37db143",
   "metadata": {},
   "outputs": [],
   "source": [
    "n = 2\n",
    "removeNthFromEnd(a,n)"
   ]
  },
  {
   "cell_type": "code",
   "execution_count": 18,
   "id": "25e2aa78",
   "metadata": {},
   "outputs": [
    {
     "name": "stdout",
     "output_type": "stream",
     "text": [
      "1 >> 2 >> 3 >> 5 >> None\n"
     ]
    }
   ],
   "source": [
    "printF(a)"
   ]
  },
  {
   "cell_type": "code",
   "execution_count": null,
   "id": "acd54290",
   "metadata": {},
   "outputs": [],
   "source": []
  }
 ],
 "metadata": {
  "kernelspec": {
   "display_name": "Python 3",
   "language": "python",
   "name": "python3"
  },
  "language_info": {
   "codemirror_mode": {
    "name": "ipython",
    "version": 3
   },
   "file_extension": ".py",
   "mimetype": "text/x-python",
   "name": "python",
   "nbconvert_exporter": "python",
   "pygments_lexer": "ipython3",
   "version": "3.8.8"
  }
 },
 "nbformat": 4,
 "nbformat_minor": 5
}
