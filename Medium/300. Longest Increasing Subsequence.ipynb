{
 "cells": [
  {
   "cell_type": "markdown",
   "id": "732c07e2",
   "metadata": {},
   "source": [
    "Given an integer array nums, return the length of the longest strictly increasing subsequence.\n",
    "<br>\n",
    "A subsequence is a sequence that can be derived from an array by deleting some or no elements without changing the order of the remaining elements. For example, [3,6,2,7] is a subsequence of the array [0,3,1,6,2,2,7].\n",
    "<br>\n",
    " \n",
    "\n",
    "###### Example 1:\n",
    "\n",
    "Input: nums = [10,9,2,5,3,7,101,18]\n",
    "<br>Output: 4\n",
    "<br>Explanation: The longest increasing subsequence is [2,3,7,101], therefore the length is 4."
   ]
  },
  {
   "cell_type": "code",
   "execution_count": 11,
   "id": "093da1f8",
   "metadata": {},
   "outputs": [],
   "source": [
    "nums = [10,9,2,5,3,7,101,18] "
   ]
  },
  {
   "cell_type": "code",
   "execution_count": 14,
   "id": "9a2250e4",
   "metadata": {},
   "outputs": [],
   "source": [
    "def LongestIncreasingSubsequence(nums):\n",
    "    LIS = [1] * len(nums)\n",
    "    \n",
    "    for i in range(len(nums)-1,-1,-1):\n",
    "        for j in range(i+1, len(nums)):\n",
    "            if nums[i] < nums[j]:\n",
    "                LIS[i] = max(LIS[i], 1+LIS[j])\n",
    "    return max(LIS)"
   ]
  },
  {
   "cell_type": "code",
   "execution_count": 15,
   "id": "cd4c8eb2",
   "metadata": {},
   "outputs": [
    {
     "data": {
      "text/plain": [
       "4"
      ]
     },
     "execution_count": 15,
     "metadata": {},
     "output_type": "execute_result"
    }
   ],
   "source": [
    "LongestIncreasingSubsequence(nums)"
   ]
  },
  {
   "cell_type": "code",
   "execution_count": null,
   "id": "72954579",
   "metadata": {},
   "outputs": [],
   "source": []
  }
 ],
 "metadata": {
  "kernelspec": {
   "display_name": "Python 3",
   "language": "python",
   "name": "python3"
  },
  "language_info": {
   "codemirror_mode": {
    "name": "ipython",
    "version": 3
   },
   "file_extension": ".py",
   "mimetype": "text/x-python",
   "name": "python",
   "nbconvert_exporter": "python",
   "pygments_lexer": "ipython3",
   "version": "3.8.8"
  }
 },
 "nbformat": 4,
 "nbformat_minor": 5
}
