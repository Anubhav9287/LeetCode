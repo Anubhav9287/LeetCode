{
 "cells": [
  {
   "cell_type": "markdown",
   "id": "8296729a",
   "metadata": {},
   "source": [
    "Given an integer n, return a string array answer (1-indexed) where:\n",
    "<br>\n",
    "answer[i] == \"FizzBuzz\" if i is divisible by 3 and 5.<br>\n",
    "answer[i] == \"Fizz\" if i is divisible by 3.<br>\n",
    "answer[i] == \"Buzz\" if i is divisible by 5.<br>\n",
    "answer[i] == i (as a string) if none of the above conditions are true.<br>"
   ]
  },
  {
   "cell_type": "code",
   "execution_count": 3,
   "id": "02209f8b",
   "metadata": {},
   "outputs": [
    {
     "data": {
      "text/plain": [
       "['1', '2', 'Fizz']"
      ]
     },
     "execution_count": 3,
     "metadata": {},
     "output_type": "execute_result"
    }
   ],
   "source": [
    "def fizzBuzz(n):\n",
    "    result = []\n",
    "    for i in range(1,n+1):\n",
    "        if i%3 == 0 and i%5 == 0:\n",
    "            result.append('FizzBuzz')\n",
    "        elif i%3 == 0:\n",
    "            result.append('Fizz')\n",
    "        elif i%5 == 0:\n",
    "            result.append('Buzz')\n",
    "        else:\n",
    "            result.append(str(i))\n",
    "    return result\n",
    "fizzBuzz(3)"
   ]
  },
  {
   "cell_type": "code",
   "execution_count": null,
   "id": "aa1f7da9",
   "metadata": {},
   "outputs": [],
   "source": []
  }
 ],
 "metadata": {
  "kernelspec": {
   "display_name": "Python 3",
   "language": "python",
   "name": "python3"
  },
  "language_info": {
   "codemirror_mode": {
    "name": "ipython",
    "version": 3
   },
   "file_extension": ".py",
   "mimetype": "text/x-python",
   "name": "python",
   "nbconvert_exporter": "python",
   "pygments_lexer": "ipython3",
   "version": "3.8.8"
  }
 },
 "nbformat": 4,
 "nbformat_minor": 5
}
