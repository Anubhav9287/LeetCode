{
 "cells": [
  {
   "cell_type": "markdown",
   "id": "6e1349fd",
   "metadata": {},
   "source": [
    "Given an array nums containing n distinct numbers in the range [0, n], return the only number in the range that is missing from the array.\n",
    "<br>\n",
    "\n",
    "###### Example 1:\n",
    "Input: nums = [3,0,1]\n",
    "<br>Output: 2\n",
    "<br>Explanation: n = 3 since there are 3 numbers, so all numbers are in the range [0,3]. 2 is the missing number in the range since it does not appear in nums.\n",
    "###### Example 2:\n",
    "Input: nums = [0,1]\n",
    "<br>Output: 2\n",
    "<br>Explanation: n = 2 since there are 2 numbers, so all numbers are in the range [0,2]. 2 is the missing number in the range since it does not appear in nums.\n",
    "###### Example 3:\n",
    "Input: nums = [9,6,4,2,3,5,7,0,1]\n",
    "<br>Output: 8\n",
    "<br>Explanation: n = 9 since there are 9 numbers, so all numbers are in the range [0,9]. 8 is the missing number in the range since it does not appear in nums."
   ]
  },
  {
   "cell_type": "code",
   "execution_count": 1,
   "id": "0bbbb8c4",
   "metadata": {},
   "outputs": [],
   "source": [
    "nums = [9,6,4,2,3,5,7,0,1]"
   ]
  },
  {
   "cell_type": "code",
   "execution_count": 8,
   "id": "cb380ca0",
   "metadata": {},
   "outputs": [],
   "source": [
    "def MissingNumber(nums):\n",
    "    for i in range(len(nums)+1):\n",
    "        if i not in nums:\n",
    "            return i"
   ]
  },
  {
   "cell_type": "code",
   "execution_count": 9,
   "id": "71abf969",
   "metadata": {},
   "outputs": [
    {
     "data": {
      "text/plain": [
       "8"
      ]
     },
     "execution_count": 9,
     "metadata": {},
     "output_type": "execute_result"
    }
   ],
   "source": [
    "MissingNumber(nums)"
   ]
  },
  {
   "cell_type": "code",
   "execution_count": 11,
   "id": "55013f3f",
   "metadata": {},
   "outputs": [],
   "source": [
    "def MissingNumber2(nums):\n",
    "    sum1 = 0\n",
    "    sum2 = 0\n",
    "    for i in nums:\n",
    "        sum1 += i\n",
    "    for i in range(len(nums)+1):\n",
    "        sum2 += i\n",
    "    return sum2-sum1"
   ]
  },
  {
   "cell_type": "code",
   "execution_count": 12,
   "id": "22bdbc84",
   "metadata": {},
   "outputs": [
    {
     "data": {
      "text/plain": [
       "8"
      ]
     },
     "execution_count": 12,
     "metadata": {},
     "output_type": "execute_result"
    }
   ],
   "source": [
    "MissingNumber2(nums)"
   ]
  },
  {
   "cell_type": "code",
   "execution_count": 13,
   "id": "6eafc2fd",
   "metadata": {},
   "outputs": [],
   "source": [
    "def MissingNumber3(nums):\n",
    "    res = len(nums)\n",
    "    for i in range(len(nums)):\n",
    "        res += i - nums[i]\n",
    "    return res"
   ]
  },
  {
   "cell_type": "code",
   "execution_count": 14,
   "id": "79d5c501",
   "metadata": {},
   "outputs": [
    {
     "data": {
      "text/plain": [
       "8"
      ]
     },
     "execution_count": 14,
     "metadata": {},
     "output_type": "execute_result"
    }
   ],
   "source": [
    "MissingNumber3(nums)"
   ]
  },
  {
   "cell_type": "code",
   "execution_count": null,
   "id": "d0715793",
   "metadata": {},
   "outputs": [],
   "source": []
  }
 ],
 "metadata": {
  "kernelspec": {
   "display_name": "Python 3",
   "language": "python",
   "name": "python3"
  },
  "language_info": {
   "codemirror_mode": {
    "name": "ipython",
    "version": 3
   },
   "file_extension": ".py",
   "mimetype": "text/x-python",
   "name": "python",
   "nbconvert_exporter": "python",
   "pygments_lexer": "ipython3",
   "version": "3.8.8"
  }
 },
 "nbformat": 4,
 "nbformat_minor": 5
}
