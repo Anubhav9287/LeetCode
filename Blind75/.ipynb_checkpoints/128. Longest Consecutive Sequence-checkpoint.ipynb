{
 "cells": [
  {
   "cell_type": "code",
   "execution_count": 1,
   "id": "6b0d13e2",
   "metadata": {},
   "outputs": [],
   "source": [
    "# Input: nums = [100,4,200,1,3,2]\n",
    "# Output: 4\n",
    "# Explanation: The longest consecutive elements sequence is [1, 2, 3, 4]. Therefore its length is 4."
   ]
  },
  {
   "cell_type": "code",
   "execution_count": 46,
   "id": "e32ef613",
   "metadata": {},
   "outputs": [],
   "source": [
    "nums = [0,3,7,2,5,8,4,6,0,1]\n",
    "# nums = [1,2,0,1]\n",
    "def longestConsecutive(nums):\n",
    "    num_set = set(nums)\n",
    "    longest = 0\n",
    "    for i in nums:\n",
    "        if i-1 not in num_set:\n",
    "            length = 0\n",
    "            while i+length in num_set:\n",
    "                length += 1\n",
    "            longest = max(longest,length)\n",
    "    return longest"
   ]
  },
  {
   "cell_type": "code",
   "execution_count": 47,
   "id": "56b6102e",
   "metadata": {},
   "outputs": [
    {
     "data": {
      "text/plain": [
       "9"
      ]
     },
     "execution_count": 47,
     "metadata": {},
     "output_type": "execute_result"
    }
   ],
   "source": [
    "longestConsecutive(nums)"
   ]
  },
  {
   "cell_type": "code",
   "execution_count": null,
   "id": "72670b66",
   "metadata": {},
   "outputs": [],
   "source": []
  }
 ],
 "metadata": {
  "kernelspec": {
   "display_name": "Python 3",
   "language": "python",
   "name": "python3"
  },
  "language_info": {
   "codemirror_mode": {
    "name": "ipython",
    "version": 3
   },
   "file_extension": ".py",
   "mimetype": "text/x-python",
   "name": "python",
   "nbconvert_exporter": "python",
   "pygments_lexer": "ipython3",
   "version": "3.8.8"
  }
 },
 "nbformat": 4,
 "nbformat_minor": 5
}
