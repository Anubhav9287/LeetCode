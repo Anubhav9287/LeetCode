{
 "cells": [
  {
   "cell_type": "code",
   "execution_count": 1,
   "id": "bc898359",
   "metadata": {},
   "outputs": [],
   "source": [
    "# Input: list1 = [1,2,4], list2 = [1,3,4]\n",
    "# Output: [1,1,2,3,4,4]"
   ]
  },
  {
   "cell_type": "code",
   "execution_count": 15,
   "id": "2b5dc4a5",
   "metadata": {},
   "outputs": [],
   "source": [
    "class ListNode:\n",
    "    def __init__(self, val=0, next=None):\n",
    "        self.val = val\n",
    "        self.next = next\n",
    "a = ListNode(1)\n",
    "b = ListNode(2)\n",
    "c = ListNode(4)\n",
    "a.next = b\n",
    "b.next = c\n",
    "a1 = ListNode(1)\n",
    "b1 = ListNode(3)\n",
    "c1 = ListNode(4)\n",
    "a1.next = b1\n",
    "b1.next = c1\n",
    "def printL(head):\n",
    "    curr = head\n",
    "    while curr:\n",
    "        print(curr.val,end=' >> ')\n",
    "        curr = curr.next\n",
    "    print('None')"
   ]
  },
  {
   "cell_type": "code",
   "execution_count": 16,
   "id": "cf3a7e10",
   "metadata": {},
   "outputs": [
    {
     "name": "stdout",
     "output_type": "stream",
     "text": [
      "1 >> 2 >> 4 >> None\n",
      "1 >> 3 >> 4 >> None\n"
     ]
    }
   ],
   "source": [
    "printL(a)\n",
    "printL(a1)"
   ]
  },
  {
   "cell_type": "code",
   "execution_count": 17,
   "id": "51e7a12f",
   "metadata": {},
   "outputs": [],
   "source": [
    "def mergeTwoLists(list1, list2):\n",
    "    dummy = ListNode(0)\n",
    "    temp = dummy\n",
    "    while list1 and list2:\n",
    "        if list1.val < list2.val:\n",
    "            dummy.next = list1\n",
    "            dummy = dummy.next\n",
    "            list1 = list1.next\n",
    "        else:\n",
    "            dummy.next = list2\n",
    "            dummy = dummy.next\n",
    "            list2 = list2.next\n",
    "    if list1:\n",
    "        dummy.next = list1\n",
    "    if list2:\n",
    "        dummy.next = list2\n",
    "    return temp.next"
   ]
  },
  {
   "cell_type": "code",
   "execution_count": 18,
   "id": "2b0cbb0d",
   "metadata": {},
   "outputs": [
    {
     "name": "stdout",
     "output_type": "stream",
     "text": [
      "1 >> 1 >> 2 >> 3 >> 4 >> 4 >> None\n"
     ]
    }
   ],
   "source": [
    "printL(mergeTwoLists(a,a1))"
   ]
  },
  {
   "cell_type": "code",
   "execution_count": null,
   "id": "8ae27d64",
   "metadata": {},
   "outputs": [],
   "source": []
  }
 ],
 "metadata": {
  "kernelspec": {
   "display_name": "Python 3",
   "language": "python",
   "name": "python3"
  },
  "language_info": {
   "codemirror_mode": {
    "name": "ipython",
    "version": 3
   },
   "file_extension": ".py",
   "mimetype": "text/x-python",
   "name": "python",
   "nbconvert_exporter": "python",
   "pygments_lexer": "ipython3",
   "version": "3.8.8"
  }
 },
 "nbformat": 4,
 "nbformat_minor": 5
}
