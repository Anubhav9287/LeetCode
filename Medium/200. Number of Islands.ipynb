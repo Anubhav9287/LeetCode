{
 "cells": [
  {
   "cell_type": "markdown",
   "id": "647b8dca",
   "metadata": {},
   "source": [
    "#### Example 1: <br>\n",
    "Input: grid = [<br>\n",
    "  [\"1\",\"1\",\"1\",\"1\",\"0\"],<br>\n",
    "  [\"1\",\"1\",\"0\",\"1\",\"0\"],<br>\n",
    "  [\"1\",\"1\",\"0\",\"0\",\"0\"],<br>\n",
    "  [\"0\",\"0\",\"0\",\"0\",\"0\"]<br>\n",
    "]<br>\n",
    "Output: 1<br>\n",
    "<br>\n",
    "#### Example 2:<br>\n",
    "\n",
    "Input: grid = [<br>\n",
    "  [\"1\",\"1\",\"0\",\"0\",\"0\"],<br>\n",
    "  [\"1\",\"1\",\"0\",\"0\",\"0\"],<br>\n",
    "  [\"0\",\"0\",\"1\",\"0\",\"0\"],<br>\n",
    "  [\"0\",\"0\",\"0\",\"1\",\"1\"]<br>\n",
    "]<br>\n",
    "Output: 3"
   ]
  },
  {
   "cell_type": "code",
   "execution_count": 5,
   "id": "dc8862e4",
   "metadata": {},
   "outputs": [],
   "source": [
    "grid = [\n",
    "  [\"1\",\"1\",\"1\",\"1\",\"0\"],\n",
    "  [\"1\",\"1\",\"0\",\"1\",\"0\"],\n",
    "  [\"1\",\"1\",\"0\",\"0\",\"0\"],\n",
    "  [\"0\",\"0\",\"0\",\"0\",\"0\"]\n",
    "]"
   ]
  },
  {
   "cell_type": "code",
   "execution_count": 6,
   "id": "493371f2",
   "metadata": {},
   "outputs": [],
   "source": [
    "def explore(grid,row,column,visited):\n",
    "    row_bound = row >= 0 and row < len(grid)\n",
    "    column_bound = column >= 0 and column < len(grid[0])\n",
    "    if not row_bound or not column_bound:\n",
    "        return False\n",
    "    position = str(row) + ',' + str(column)\n",
    "    if position in visited:\n",
    "        return False\n",
    "    visited.append(position)\n",
    "    explore(grid,row-1,column,visited)\n",
    "    explore(grid,row+1,column,visited)\n",
    "    explore(grid,row,column-1,visited)\n",
    "    explore(grid,row,column+1,visited)\n",
    "    return True"
   ]
  },
  {
   "cell_type": "code",
   "execution_count": 7,
   "id": "a36efd8b",
   "metadata": {},
   "outputs": [],
   "source": [
    "visited = []\n",
    "def numberOfIsland(grid):\n",
    "    count = 0\n",
    "    for r_i,r in enumerate(grid):\n",
    "        for c_i,c in enumerate(r):\n",
    "            if c == '1':\n",
    "                if explore(grid,r_i,c_i,visited):\n",
    "                    count += 1\n",
    "    return count"
   ]
  },
  {
   "cell_type": "code",
   "execution_count": 8,
   "id": "5719b647",
   "metadata": {},
   "outputs": [
    {
     "data": {
      "text/plain": [
       "1"
      ]
     },
     "execution_count": 8,
     "metadata": {},
     "output_type": "execute_result"
    }
   ],
   "source": [
    "numberOfIsland(grid)"
   ]
  },
  {
   "cell_type": "code",
   "execution_count": null,
   "id": "dc927539",
   "metadata": {},
   "outputs": [],
   "source": []
  }
 ],
 "metadata": {
  "kernelspec": {
   "display_name": "Python 3",
   "language": "python",
   "name": "python3"
  },
  "language_info": {
   "codemirror_mode": {
    "name": "ipython",
    "version": 3
   },
   "file_extension": ".py",
   "mimetype": "text/x-python",
   "name": "python",
   "nbconvert_exporter": "python",
   "pygments_lexer": "ipython3",
   "version": "3.8.8"
  }
 },
 "nbformat": 4,
 "nbformat_minor": 5
}
