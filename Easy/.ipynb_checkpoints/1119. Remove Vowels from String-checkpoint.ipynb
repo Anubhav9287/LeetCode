{
 "cells": [
  {
   "cell_type": "markdown",
   "id": "fc7fa538",
   "metadata": {},
   "source": [
    "Sample 1:<br>\n",
    "    <t>Input: \"leetcodeisacommunityforcoders\"<br>\n",
    "    <t>Output: \"Itcdscmmntyfrcdrs\"<br>"
   ]
  },
  {
   "cell_type": "code",
   "execution_count": 5,
   "id": "0db9bd60",
   "metadata": {},
   "outputs": [],
   "source": [
    "val = 'leetcodeisacommunityforcoders'"
   ]
  },
  {
   "cell_type": "code",
   "execution_count": 7,
   "id": "3760c378",
   "metadata": {},
   "outputs": [],
   "source": [
    "def removeVowels(word):\n",
    "    vowels = ['a','e','i','o','u']\n",
    "    result = ''\n",
    "    for i in val:\n",
    "        if i not in vowels:\n",
    "            result += i\n",
    "    return result"
   ]
  },
  {
   "cell_type": "code",
   "execution_count": 8,
   "id": "99e55b48",
   "metadata": {},
   "outputs": [
    {
     "data": {
      "text/plain": [
       "'ltcdscmmntyfrcdrs'"
      ]
     },
     "execution_count": 8,
     "metadata": {},
     "output_type": "execute_result"
    }
   ],
   "source": [
    "removeVowels(val)"
   ]
  },
  {
   "cell_type": "code",
   "execution_count": null,
   "id": "3548420f",
   "metadata": {},
   "outputs": [],
   "source": []
  }
 ],
 "metadata": {
  "kernelspec": {
   "display_name": "Python 3",
   "language": "python",
   "name": "python3"
  },
  "language_info": {
   "codemirror_mode": {
    "name": "ipython",
    "version": 3
   },
   "file_extension": ".py",
   "mimetype": "text/x-python",
   "name": "python",
   "nbconvert_exporter": "python",
   "pygments_lexer": "ipython3",
   "version": "3.8.8"
  }
 },
 "nbformat": 4,
 "nbformat_minor": 5
}
