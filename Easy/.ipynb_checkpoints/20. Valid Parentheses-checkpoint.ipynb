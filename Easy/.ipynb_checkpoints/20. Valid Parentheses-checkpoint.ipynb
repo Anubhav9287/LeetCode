{
 "cells": [
  {
   "cell_type": "markdown",
   "id": "1c89f43e",
   "metadata": {},
   "source": [
    "Given a string s containing just the characters '(', ')', '{', '}', '[' and ']', determine if the input string is valid.<br>\n",
    "<br>\n",
    "An input string is valid if:<br>\n",
    "<br>\n",
    "Open brackets must be closed by the same type of brackets.<br>\n",
    "Open brackets must be closed in the correct order.<br>"
   ]
  },
  {
   "cell_type": "code",
   "execution_count": 11,
   "id": "bf55b87e",
   "metadata": {},
   "outputs": [],
   "source": [
    "s = \"()[]{}{}((()))\""
   ]
  },
  {
   "cell_type": "code",
   "execution_count": 12,
   "id": "4a56622b",
   "metadata": {},
   "outputs": [],
   "source": [
    "def validParentheses(s):\n",
    "    stack = []\n",
    "    h_map = {\n",
    "        ')':'(',\n",
    "        '}':'{',\n",
    "        ']':'['}\n",
    "    for c in s:\n",
    "        if c in h_map:\n",
    "            if stack and stack[-1] == h_map[c]:\n",
    "                stack.pop()\n",
    "            else:\n",
    "                return False\n",
    "        else:\n",
    "            stack.append(c)\n",
    "    if not stack:\n",
    "        return True\n",
    "    else:\n",
    "        return False"
   ]
  },
  {
   "cell_type": "code",
   "execution_count": 13,
   "id": "ea151680",
   "metadata": {},
   "outputs": [
    {
     "data": {
      "text/plain": [
       "True"
      ]
     },
     "execution_count": 13,
     "metadata": {},
     "output_type": "execute_result"
    }
   ],
   "source": [
    "validParentheses(s)"
   ]
  },
  {
   "cell_type": "code",
   "execution_count": null,
   "id": "0031882f",
   "metadata": {},
   "outputs": [],
   "source": []
  }
 ],
 "metadata": {
  "kernelspec": {
   "display_name": "Python 3",
   "language": "python",
   "name": "python3"
  },
  "language_info": {
   "codemirror_mode": {
    "name": "ipython",
    "version": 3
   },
   "file_extension": ".py",
   "mimetype": "text/x-python",
   "name": "python",
   "nbconvert_exporter": "python",
   "pygments_lexer": "ipython3",
   "version": "3.8.8"
  }
 },
 "nbformat": 4,
 "nbformat_minor": 5
}
