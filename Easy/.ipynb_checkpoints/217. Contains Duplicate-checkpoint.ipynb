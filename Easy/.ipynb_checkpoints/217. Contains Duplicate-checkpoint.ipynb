{
 "cells": [
  {
   "cell_type": "markdown",
   "id": "5aca7ebf",
   "metadata": {},
   "source": [
    "Given an integer array nums, return true if any value appears at least twice in the array, and return false if every element is distinct.\n",
    "<br>\n",
    "##### Example 1:\n",
    "Input: nums = [1,2,3,1] <br>\n",
    "Output: true<br>\n",
    "##### Example 2:\n",
    "Input: nums = [1,2,3,4]<br>\n",
    "Output: false<br>\n",
    "##### Example 3:\n",
    "Input: nums = [1,1,1,3,3,4,3,2,4,2]<br>\n",
    "Output: true<br>"
   ]
  },
  {
   "cell_type": "code",
   "execution_count": 4,
   "id": "d29bfc79",
   "metadata": {},
   "outputs": [],
   "source": [
    "nums1 = [1,1,1,3,3,4,3,2,4,2]\n",
    "nums2 = [1,2,3,4]\n",
    "nums3 = [1,2,3,1]"
   ]
  },
  {
   "cell_type": "code",
   "execution_count": 5,
   "id": "111d1ae6",
   "metadata": {},
   "outputs": [],
   "source": [
    "def containsDuplicate(nums):\n",
    "    d = {}\n",
    "    for i in nums:\n",
    "        if i in d:\n",
    "            return True\n",
    "        else:\n",
    "            d[i] = 0\n",
    "    return False"
   ]
  },
  {
   "cell_type": "code",
   "execution_count": 8,
   "id": "bc7bb78a",
   "metadata": {},
   "outputs": [
    {
     "data": {
      "text/plain": [
       "True"
      ]
     },
     "execution_count": 8,
     "metadata": {},
     "output_type": "execute_result"
    }
   ],
   "source": [
    "containsDuplicate(nums3)"
   ]
  },
  {
   "cell_type": "code",
   "execution_count": null,
   "id": "fcac18f7",
   "metadata": {},
   "outputs": [],
   "source": []
  }
 ],
 "metadata": {
  "kernelspec": {
   "display_name": "Python 3",
   "language": "python",
   "name": "python3"
  },
  "language_info": {
   "codemirror_mode": {
    "name": "ipython",
    "version": 3
   },
   "file_extension": ".py",
   "mimetype": "text/x-python",
   "name": "python",
   "nbconvert_exporter": "python",
   "pygments_lexer": "ipython3",
   "version": "3.8.8"
  }
 },
 "nbformat": 4,
 "nbformat_minor": 5
}
