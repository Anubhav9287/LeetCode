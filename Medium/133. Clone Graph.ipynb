{
 "cells": [
  {
   "cell_type": "markdown",
   "id": "8f0dbf60",
   "metadata": {},
   "source": [
    "Given a reference of a node in a connected undirected graph.\n",
    "<br>\n",
    "Return a deep copy (clone) of the graph.\n",
    "<br>\n",
    "Each node in the graph contains a value (int) and a list (List[Node]) of its neighbors.\n",
    "<br>\n",
    "Input: adjList = [[2,4],[1,3],[2,4],[1,3]]<br>\n",
    "Output: [[2,4],[1,3],[2,4],[1,3]]<br>\n",
    "Explanation: There are 4 nodes in the graph.<br>\n",
    "1st node (val = 1)'s neighbors are 2nd node (val = 2) and 4th node (val = 4).<br>\n",
    "2nd node (val = 2)'s neighbors are 1st node (val = 1) and 3rd node (val = 3).<br>\n",
    "3rd node (val = 3)'s neighbors are 2nd node (val = 2) and 4th node (val = 4).<br>\n",
    "4th node (val = 4)'s neighbors are 1st node (val = 1) and 3rd node (val = 3)."
   ]
  },
  {
   "cell_type": "code",
   "execution_count": null,
   "id": "b226dda8",
   "metadata": {},
   "outputs": [],
   "source": [
    "# Definition for a Node.\n",
    "class Node(object):\n",
    "    def __init__(self, val = 0, neighbors = None):\n",
    "        self.val = val\n",
    "        self.neighbors = neighbors if neighbors is not None else []\n",
    "\n",
    "class Solution(object):\n",
    "    def cloneGraph(self, node):\n",
    "        \"\"\"\n",
    "        :type node: Node\n",
    "        :rtype: Node\n",
    "        \"\"\"\n",
    "        oldtonew = {}\n",
    "        \n",
    "        def dfs(node):\n",
    "            if node in oldtonew:\n",
    "                return oldtonew[node]\n",
    "            copy = Node(node.val)\n",
    "            oldtonew[node] = copy\n",
    "            for nei in node.neighbors:\n",
    "                copy.neighbors.append(dfs(nei))\n",
    "            return copy\n",
    "        return dfs(node) if node else None"
   ]
  }
 ],
 "metadata": {
  "kernelspec": {
   "display_name": "Python 3",
   "language": "python",
   "name": "python3"
  },
  "language_info": {
   "codemirror_mode": {
    "name": "ipython",
    "version": 3
   },
   "file_extension": ".py",
   "mimetype": "text/x-python",
   "name": "python",
   "nbconvert_exporter": "python",
   "pygments_lexer": "ipython3",
   "version": "3.8.8"
  }
 },
 "nbformat": 4,
 "nbformat_minor": 5
}
