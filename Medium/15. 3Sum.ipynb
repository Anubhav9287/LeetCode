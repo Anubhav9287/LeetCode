{
 "cells": [
  {
   "cell_type": "markdown",
   "id": "37711f2e",
   "metadata": {},
   "source": [
    "Given an integer array nums, return all the triplets [nums[i], nums[j], nums[k]] such that i != j, i != k, and j != k, and nums[i] + nums[j] + nums[k] == 0. <br>\n",
    "Notice that the solution set must not contain duplicate triplets."
   ]
  },
  {
   "cell_type": "code",
   "execution_count": 1,
   "id": "a2aa5247",
   "metadata": {},
   "outputs": [],
   "source": [
    "nums = [-1,0,1,2,-1,-4]"
   ]
  },
  {
   "cell_type": "code",
   "execution_count": 2,
   "id": "7cd0015a",
   "metadata": {},
   "outputs": [],
   "source": [
    "result = []\n",
    "nums.sort()"
   ]
  },
  {
   "cell_type": "code",
   "execution_count": 3,
   "id": "4840de71",
   "metadata": {},
   "outputs": [],
   "source": [
    "for i, value in enumerate(nums):\n",
    "    if i > 0 and value == nums[i-1]:\n",
    "        continue\n",
    "    \n",
    "    l = i+1\n",
    "    r = len(nums)-1\n",
    "    while l<r:\n",
    "        threeSum = value + nums[l] + nums[r]\n",
    "        if threeSum > 0:\n",
    "            r -= 1\n",
    "        elif threeSum < 0:\n",
    "            l += 1\n",
    "        else:\n",
    "            result.append([value,nums[l],nums[r]])\n",
    "            l += 1\n",
    "            while nums[l] == nums[l-1] and l<r:\n",
    "                l += 1"
   ]
  },
  {
   "cell_type": "code",
   "execution_count": 4,
   "id": "8396ade6",
   "metadata": {},
   "outputs": [
    {
     "data": {
      "text/plain": [
       "[[-1, -1, 2], [-1, 0, 1]]"
      ]
     },
     "execution_count": 4,
     "metadata": {},
     "output_type": "execute_result"
    }
   ],
   "source": [
    "result"
   ]
  }
 ],
 "metadata": {
  "kernelspec": {
   "display_name": "Python 3",
   "language": "python",
   "name": "python3"
  },
  "language_info": {
   "codemirror_mode": {
    "name": "ipython",
    "version": 3
   },
   "file_extension": ".py",
   "mimetype": "text/x-python",
   "name": "python",
   "nbconvert_exporter": "python",
   "pygments_lexer": "ipython3",
   "version": "3.8.8"
  }
 },
 "nbformat": 4,
 "nbformat_minor": 5
}
