{
 "cells": [
  {
   "cell_type": "markdown",
   "id": "a8eade55",
   "metadata": {},
   "source": [
    "Given a string s and a dictionary of strings wordDict, return true if s can be segmented into a space-separated sequence of one or more dictionary words.\n",
    "<br>\n",
    "Note that the same word in the dictionary may be reused multiple times in the segmentation.\n",
    "<br>\n",
    " \n",
    "\n",
    "###### Example 1:\n",
    "\n",
    "Input: s = \"leetcode\", wordDict = [\"leet\",\"code\"]\n",
    "<br>Output: true\n",
    "<br>Explanation: Return true because \"leetcode\" can be segmented as \"leet code\".\n",
    "###### Example 2:\n",
    "\n",
    "Input: s = \"applepenapple\", wordDict = [\"apple\",\"pen\"]\n",
    "<br>Output: true\n",
    "<br>Explanation: Return true because \"applepenapple\" can be segmented as \"apple pen apple\".\n",
    "<br>Note that you are allowed to reuse a dictionary word.\n",
    "###### Example 3:\n",
    "\n",
    "Input: s = \"catsandog\", wordDict = [\"cats\",\"dog\",\"sand\",\"and\",\"cat\"]\n",
    "<br>Output: false"
   ]
  },
  {
   "cell_type": "code",
   "execution_count": 1,
   "id": "6ccd4822",
   "metadata": {},
   "outputs": [],
   "source": [
    "s = \"leetcode\"\n",
    "wordDict = [\"leet\",\"code\"]"
   ]
  },
  {
   "cell_type": "code",
   "execution_count": 6,
   "id": "f8413c88",
   "metadata": {},
   "outputs": [],
   "source": [
    "def wordBreak(s,wordDict):\n",
    "    dp = [False] * (len(s)+1)\n",
    "    dp[len(s)] = True\n",
    "    \n",
    "    for i in range(len(s)-1,-1,-1):\n",
    "        for w in wordDict:\n",
    "            if (i+len(w)) <= len(s) and s[i: i+len(w)] == w:\n",
    "                dp[i] = dp[i + len(w)]\n",
    "            if dp[i]:\n",
    "                break\n",
    "    return dp[0]"
   ]
  },
  {
   "cell_type": "code",
   "execution_count": 7,
   "id": "e643a8fd",
   "metadata": {},
   "outputs": [
    {
     "name": "stdout",
     "output_type": "stream",
     "text": [
      "[False, False, False, False, False, False, False, False, True]\n"
     ]
    }
   ],
   "source": [
    "wordBreak(s,wordDict)"
   ]
  },
  {
   "cell_type": "code",
   "execution_count": null,
   "id": "1aefa880",
   "metadata": {},
   "outputs": [],
   "source": []
  }
 ],
 "metadata": {
  "kernelspec": {
   "display_name": "Python 3",
   "language": "python",
   "name": "python3"
  },
  "language_info": {
   "codemirror_mode": {
    "name": "ipython",
    "version": 3
   },
   "file_extension": ".py",
   "mimetype": "text/x-python",
   "name": "python",
   "nbconvert_exporter": "python",
   "pygments_lexer": "ipython3",
   "version": "3.8.8"
  }
 },
 "nbformat": 4,
 "nbformat_minor": 5
}
