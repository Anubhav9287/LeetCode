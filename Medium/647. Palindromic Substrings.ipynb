{
 "cells": [
  {
   "cell_type": "markdown",
   "id": "bd30086a",
   "metadata": {},
   "source": [
    "Given a string s, return the number of palindromic substrings in it.\n",
    "<br>\n",
    "A string is a palindrome when it reads the same backward as forward.\n",
    "<br>\n",
    "A substring is a contiguous sequence of characters within the string.\n",
    "<br>\n",
    " \n",
    "\n",
    "###### Example 1:\n",
    "\n",
    "Input: s = \"abc\"<br>\n",
    "Output: 3<br>\n",
    "Explanation: Three palindromic strings: \"a\", \"b\", \"c\"."
   ]
  },
  {
   "cell_type": "code",
   "execution_count": 6,
   "id": "c04aa407",
   "metadata": {},
   "outputs": [],
   "source": [
    "s = \"aaa\"\n",
    "result = 0"
   ]
  },
  {
   "cell_type": "code",
   "execution_count": 7,
   "id": "e502771f",
   "metadata": {},
   "outputs": [],
   "source": [
    "for i in range(len(s)):\n",
    "    l = i\n",
    "    r = i\n",
    "    while l >= 0 and r < len(s) and s[l] == s[r]:\n",
    "        result += 1\n",
    "        l -= 1\n",
    "        r += 1\n",
    "    l = i\n",
    "    r = i+1\n",
    "    while l >= 0 and r < len(s) and s[l] == s[r]:\n",
    "        result += 1\n",
    "        l -= 1\n",
    "        r += 1"
   ]
  },
  {
   "cell_type": "code",
   "execution_count": 8,
   "id": "a63875ff",
   "metadata": {},
   "outputs": [
    {
     "data": {
      "text/plain": [
       "6"
      ]
     },
     "execution_count": 8,
     "metadata": {},
     "output_type": "execute_result"
    }
   ],
   "source": [
    "result"
   ]
  },
  {
   "cell_type": "code",
   "execution_count": null,
   "id": "aee7ce46",
   "metadata": {},
   "outputs": [],
   "source": []
  }
 ],
 "metadata": {
  "kernelspec": {
   "display_name": "Python 3",
   "language": "python",
   "name": "python3"
  },
  "language_info": {
   "codemirror_mode": {
    "name": "ipython",
    "version": 3
   },
   "file_extension": ".py",
   "mimetype": "text/x-python",
   "name": "python",
   "nbconvert_exporter": "python",
   "pygments_lexer": "ipython3",
   "version": "3.8.8"
  }
 },
 "nbformat": 4,
 "nbformat_minor": 5
}
