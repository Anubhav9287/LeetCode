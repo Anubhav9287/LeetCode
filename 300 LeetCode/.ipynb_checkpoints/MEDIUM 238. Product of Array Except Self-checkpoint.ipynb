{
 "cells": [
  {
   "cell_type": "code",
   "execution_count": 1,
   "id": "e5630ade",
   "metadata": {},
   "outputs": [],
   "source": [
    "nums = [1,2,3,4]"
   ]
  },
  {
   "cell_type": "code",
   "execution_count": 8,
   "id": "cbb04724",
   "metadata": {},
   "outputs": [],
   "source": [
    "#basic1\n",
    "def productExceptSelf(nums):\n",
    "    result = []\n",
    "    for i in range(len(nums)):\n",
    "        val = 1\n",
    "        for j in range(len(nums)):\n",
    "            if i != j:\n",
    "               val = val * nums[j]\n",
    "        result.append(val)\n",
    "    return result"
   ]
  },
  {
   "cell_type": "code",
   "execution_count": 9,
   "id": "85128bf1",
   "metadata": {},
   "outputs": [
    {
     "data": {
      "text/plain": [
       "[24, 12, 8, 6]"
      ]
     },
     "execution_count": 9,
     "metadata": {},
     "output_type": "execute_result"
    }
   ],
   "source": [
    "productExceptSelf(nums)"
   ]
  },
  {
   "cell_type": "code",
   "execution_count": 23,
   "id": "2d294257",
   "metadata": {},
   "outputs": [],
   "source": [
    "def productExceptSelf(nums):\n",
    "    prefix = 1\n",
    "    postfix = 1\n",
    "    result = [0 for i in range(len(nums))]\n",
    "    for i in range(len(nums)):\n",
    "        result[i] = prefix\n",
    "        prefix = prefix * nums[i]\n",
    "    for i in range(len(nums)-1,-1,-1):\n",
    "        result[i] = postfix * result[i] \n",
    "        postfix = postfix * nums[i]\n",
    "    print(result)"
   ]
  },
  {
   "cell_type": "code",
   "execution_count": 25,
   "id": "f5de4a3a",
   "metadata": {},
   "outputs": [
    {
     "name": "stdout",
     "output_type": "stream",
     "text": [
      "[0, 0, 9, 0, 0]\n"
     ]
    }
   ],
   "source": [
    "nums = [-1,1,0,-3,3]\n",
    "productExceptSelf(nums)"
   ]
  },
  {
   "cell_type": "code",
   "execution_count": null,
   "id": "b8488ed8",
   "metadata": {},
   "outputs": [],
   "source": []
  }
 ],
 "metadata": {
  "kernelspec": {
   "display_name": "Python 3",
   "language": "python",
   "name": "python3"
  },
  "language_info": {
   "codemirror_mode": {
    "name": "ipython",
    "version": 3
   },
   "file_extension": ".py",
   "mimetype": "text/x-python",
   "name": "python",
   "nbconvert_exporter": "python",
   "pygments_lexer": "ipython3",
   "version": "3.8.8"
  }
 },
 "nbformat": 4,
 "nbformat_minor": 5
}
