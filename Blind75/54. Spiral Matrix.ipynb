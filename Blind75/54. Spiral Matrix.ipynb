{
 "cells": [
  {
   "cell_type": "code",
   "execution_count": 1,
   "id": "748ea27a",
   "metadata": {},
   "outputs": [],
   "source": [
    "# Input: matrix = [[1,2,3],[4,5,6],[7,8,9]]\n",
    "# Output: [1,2,3,6,9,8,7,4,5]"
   ]
  },
  {
   "cell_type": "code",
   "execution_count": 2,
   "id": "162a5ef3",
   "metadata": {},
   "outputs": [],
   "source": [
    "matrix = [[1,2,3],[4,5,6],[7,8,9]]"
   ]
  },
  {
   "cell_type": "code",
   "execution_count": 11,
   "id": "43f28c9b",
   "metadata": {},
   "outputs": [],
   "source": [
    "def spiralOrder(matrix):\n",
    "    res = []\n",
    "    top = 0\n",
    "    bottom = len(matrix)\n",
    "    left = 0\n",
    "    right = len(matrix[0])\n",
    "    \n",
    "    while left < right and top < bottom:\n",
    "        for i in range(left,right):\n",
    "            res.append(matrix[top][i])\n",
    "        top += 1\n",
    "        \n",
    "        for i in range(top, bottom):\n",
    "            res.append(matrix[i][right-1])\n",
    "        right-=1\n",
    "        \n",
    "        for i in range(right-1,left-1,-1):\n",
    "            res.append(matrix[bottom-1][i])\n",
    "        bottom-=1\n",
    "        \n",
    "        for i in range(bottom-1,top-1,-1):\n",
    "            res.append(matrix[i][left])\n",
    "        left+=1\n",
    "    return res\n",
    "    "
   ]
  },
  {
   "cell_type": "code",
   "execution_count": 12,
   "id": "0438c3e5",
   "metadata": {},
   "outputs": [
    {
     "data": {
      "text/plain": [
       "[1, 2, 3, 6, 9, 8, 7, 4, 5]"
      ]
     },
     "execution_count": 12,
     "metadata": {},
     "output_type": "execute_result"
    }
   ],
   "source": [
    "spiralOrder(matrix)"
   ]
  },
  {
   "cell_type": "code",
   "execution_count": null,
   "id": "9c99c18e",
   "metadata": {},
   "outputs": [],
   "source": []
  }
 ],
 "metadata": {
  "kernelspec": {
   "display_name": "Python 3",
   "language": "python",
   "name": "python3"
  },
  "language_info": {
   "codemirror_mode": {
    "name": "ipython",
    "version": 3
   },
   "file_extension": ".py",
   "mimetype": "text/x-python",
   "name": "python",
   "nbconvert_exporter": "python",
   "pygments_lexer": "ipython3",
   "version": "3.8.8"
  }
 },
 "nbformat": 4,
 "nbformat_minor": 5
}
