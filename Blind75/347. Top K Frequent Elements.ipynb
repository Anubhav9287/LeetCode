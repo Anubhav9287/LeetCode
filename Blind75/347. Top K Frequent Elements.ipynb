{
 "cells": [
  {
   "cell_type": "code",
   "execution_count": 1,
   "id": "826f0342",
   "metadata": {},
   "outputs": [],
   "source": [
    "#Input: nums = [1,1,1,2,2,3], k = 2\n",
    "#Output: [1,2]"
   ]
  },
  {
   "cell_type": "code",
   "execution_count": 2,
   "id": "fcb21594",
   "metadata": {},
   "outputs": [],
   "source": [
    "nums = [1,1,1,2,2,3]\n",
    "k = 2\n",
    "def topKFrequent(nums, k):\n",
    "    "
   ]
  },
  {
   "cell_type": "code",
   "execution_count": 3,
   "id": "87a8820c",
   "metadata": {},
   "outputs": [],
   "source": [
    "topKFrequent(nums, k)"
   ]
  },
  {
   "cell_type": "code",
   "execution_count": null,
   "id": "d0e0f8da",
   "metadata": {},
   "outputs": [],
   "source": []
  }
 ],
 "metadata": {
  "kernelspec": {
   "display_name": "Python 3",
   "language": "python",
   "name": "python3"
  },
  "language_info": {
   "codemirror_mode": {
    "name": "ipython",
    "version": 3
   },
   "file_extension": ".py",
   "mimetype": "text/x-python",
   "name": "python",
   "nbconvert_exporter": "python",
   "pygments_lexer": "ipython3",
   "version": "3.8.8"
  }
 },
 "nbformat": 4,
 "nbformat_minor": 5
}
