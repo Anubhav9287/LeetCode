{
 "cells": [
  {
   "cell_type": "markdown",
   "id": "1e9ce4b0",
   "metadata": {},
   "source": [
    "Given a characters array tasks, representing the tasks a CPU needs to do, where each letter represents a different task. Tasks could be done in any order. Each task is done in one unit of time. For each unit of time, the CPU could complete either one task or just be idle.<br>\n",
    "<br>\n",
    "However, there is a non-negative integer n that represents the cooldown period between two same tasks (the same letter in the array), that is that there must be at least n units of time between any two same tasks.<br>\n",
    "<br>\n",
    "Return the least number of units of times that the CPU will take to finish all the given tasks.<br>\n",
    "<br>\n",
    "###### Example 1:\n",
    "Input: tasks = [\"A\",\"A\",\"A\",\"B\",\"B\",\"B\"], n = 2<br>\n",
    "Output: 8<br>\n",
    "Explanation: <br>\n",
    "A -> B -> idle -> A -> B -> idle -> A -> B<br>\n",
    "There is at least 2 units of time between any two same tasks.<br>\n",
    "###### Example 2:\n",
    "Input: tasks = [\"A\",\"A\",\"A\",\"A\",\"A\",\"A\",\"B\",\"C\",\"D\",\"E\",\"F\",\"G\"], n = 2<br>\n",
    "Output: 16<br>\n",
    "Explanation: <br>\n",
    "One possible solution is<br>\n",
    "A -> B -> C -> A -> D -> E -> A -> F -> G -> A -> idle -> idle -> A -> idle -> idle -> A<br>"
   ]
  },
  {
   "cell_type": "code",
   "execution_count": 35,
   "id": "e3009682",
   "metadata": {},
   "outputs": [],
   "source": [
    "tasks = [\"A\",\"A\",\"A\",\"A\",\"A\",\"A\",\"B\",\"C\",\"D\",\"E\",\"F\",\"G\"]\n",
    "n = 2"
   ]
  },
  {
   "cell_type": "code",
   "execution_count": 36,
   "id": "4feea0a6",
   "metadata": {},
   "outputs": [],
   "source": [
    "import collections\n",
    "import heapq\n",
    "from collections import deque\n",
    "count = collections.Counter(tasks)"
   ]
  },
  {
   "cell_type": "code",
   "execution_count": 37,
   "id": "42b9db24",
   "metadata": {},
   "outputs": [],
   "source": [
    "maxHeap = [-cnt for cnt in count.values()]"
   ]
  },
  {
   "cell_type": "code",
   "execution_count": 38,
   "id": "f4a39d18",
   "metadata": {},
   "outputs": [],
   "source": [
    "heapq.heapify(maxHeap)"
   ]
  },
  {
   "cell_type": "code",
   "execution_count": 39,
   "id": "c4a25f6b",
   "metadata": {},
   "outputs": [],
   "source": [
    "time = 0\n",
    "q = deque()"
   ]
  },
  {
   "cell_type": "code",
   "execution_count": 40,
   "id": "ca93871b",
   "metadata": {},
   "outputs": [],
   "source": [
    "while maxHeap or q:\n",
    "    time += 1\n",
    "    if maxHeap:\n",
    "        cnt = 1 + heapq.heappop(maxHeap)\n",
    "        if cnt:\n",
    "            q.append([cnt, time + n])\n",
    "    if q and q[0][1] == time:\n",
    "        heapq.heappush(maxHeap, q.popleft()[0])"
   ]
  },
  {
   "cell_type": "code",
   "execution_count": 41,
   "id": "b1a0d199",
   "metadata": {},
   "outputs": [
    {
     "data": {
      "text/plain": [
       "16"
      ]
     },
     "execution_count": 41,
     "metadata": {},
     "output_type": "execute_result"
    }
   ],
   "source": [
    "time"
   ]
  },
  {
   "cell_type": "code",
   "execution_count": null,
   "id": "e781f2de",
   "metadata": {},
   "outputs": [],
   "source": []
  }
 ],
 "metadata": {
  "kernelspec": {
   "display_name": "Python 3",
   "language": "python",
   "name": "python3"
  },
  "language_info": {
   "codemirror_mode": {
    "name": "ipython",
    "version": 3
   },
   "file_extension": ".py",
   "mimetype": "text/x-python",
   "name": "python",
   "nbconvert_exporter": "python",
   "pygments_lexer": "ipython3",
   "version": "3.8.8"
  }
 },
 "nbformat": 4,
 "nbformat_minor": 5
}
