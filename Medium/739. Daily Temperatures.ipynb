{
 "cells": [
  {
   "cell_type": "code",
   "execution_count": 2,
   "id": "f272ce98",
   "metadata": {},
   "outputs": [],
   "source": [
    "temp = [73,74,75,71,69,72,76,73]"
   ]
  },
  {
   "cell_type": "code",
   "execution_count": 3,
   "id": "05489fcc",
   "metadata": {},
   "outputs": [],
   "source": [
    "answer = [0] * len(temp)"
   ]
  },
  {
   "cell_type": "code",
   "execution_count": 14,
   "id": "5ac1baae",
   "metadata": {},
   "outputs": [
    {
     "data": {
      "text/plain": [
       "[1, 1, 4, 2, 1, 1, 0, 0]"
      ]
     },
     "execution_count": 14,
     "metadata": {},
     "output_type": "execute_result"
    }
   ],
   "source": [
    "stack = [] #pair: [temp,index]\n",
    "for i,t in enumerate(temp):\n",
    "    while stack and t > stack[-1][0]:\n",
    "        stackT, stackInd = stack.pop()\n",
    "        answer[stackInd] = (i-stackInd)\n",
    "    stack.append([t, i])\n",
    "answer"
   ]
  },
  {
   "cell_type": "code",
   "execution_count": null,
   "id": "c47fe930",
   "metadata": {},
   "outputs": [],
   "source": []
  }
 ],
 "metadata": {
  "kernelspec": {
   "display_name": "Python 3",
   "language": "python",
   "name": "python3"
  },
  "language_info": {
   "codemirror_mode": {
    "name": "ipython",
    "version": 3
   },
   "file_extension": ".py",
   "mimetype": "text/x-python",
   "name": "python",
   "nbconvert_exporter": "python",
   "pygments_lexer": "ipython3",
   "version": "3.8.8"
  }
 },
 "nbformat": 4,
 "nbformat_minor": 5
}
