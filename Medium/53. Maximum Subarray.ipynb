{
 "cells": [
  {
   "cell_type": "markdown",
   "id": "61eaff00",
   "metadata": {},
   "source": [
    "Given an integer array nums, find the contiguous subarray (containing at least one number) which has the largest sum and return its sum.\n",
    "<br>\n",
    "A subarray is a contiguous part of an array.\n",
    "<br>\n",
    " \n",
    "\n",
    "###### Example 1:\n",
    "\n",
    "Input: nums = [-2,1,-3,4,-1,2,1,-5,4]\n",
    "<br>Output: 6\n",
    "<br>Explanation: [4,-1,2,1] has the largest sum = 6."
   ]
  },
  {
   "cell_type": "code",
   "execution_count": 23,
   "id": "1d856c8a",
   "metadata": {},
   "outputs": [],
   "source": [
    "nums = [-2]"
   ]
  },
  {
   "cell_type": "code",
   "execution_count": 26,
   "id": "e9d5c8da",
   "metadata": {},
   "outputs": [
    {
     "name": "stdout",
     "output_type": "stream",
     "text": [
      "-2\n"
     ]
    }
   ],
   "source": [
    "result = nums[0]\n",
    "current_sum = 0\n",
    "\n",
    "for n in nums:\n",
    "    if current_sum < 0:\n",
    "        current_sum = 0\n",
    "    current_sum += n\n",
    "    print(current_sum)\n",
    "    result = max(result,current_sum)"
   ]
  },
  {
   "cell_type": "code",
   "execution_count": 27,
   "id": "c5562feb",
   "metadata": {},
   "outputs": [
    {
     "data": {
      "text/plain": [
       "-2"
      ]
     },
     "execution_count": 27,
     "metadata": {},
     "output_type": "execute_result"
    }
   ],
   "source": [
    "result"
   ]
  },
  {
   "cell_type": "code",
   "execution_count": null,
   "id": "e6446554",
   "metadata": {},
   "outputs": [],
   "source": []
  }
 ],
 "metadata": {
  "kernelspec": {
   "display_name": "Python 3",
   "language": "python",
   "name": "python3"
  },
  "language_info": {
   "codemirror_mode": {
    "name": "ipython",
    "version": 3
   },
   "file_extension": ".py",
   "mimetype": "text/x-python",
   "name": "python",
   "nbconvert_exporter": "python",
   "pygments_lexer": "ipython3",
   "version": "3.8.8"
  }
 },
 "nbformat": 4,
 "nbformat_minor": 5
}
