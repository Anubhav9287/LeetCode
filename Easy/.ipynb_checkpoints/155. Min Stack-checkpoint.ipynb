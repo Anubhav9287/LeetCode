{
 "cells": [
  {
   "cell_type": "markdown",
   "id": "d45c516a",
   "metadata": {},
   "source": [
    "Design a stack that supports push, pop, top, and retrieving the minimum element in constant time. <br>\n",
    "<br>\n",
    "Implement the MinStack class:<br>\n",
    "<br>\n",
    "MinStack() initializes the stack object.<br>\n",
    "void push(int val) pushes the element val onto the stack.<br>\n",
    "void pop() removes the element on the top of the stack.<br>\n",
    "int top() gets the top element of the stack.<br>\n",
    "int getMin() retrieves the minimum element in the stack.<br>"
   ]
  },
  {
   "cell_type": "code",
   "execution_count": 4,
   "id": "dba20319",
   "metadata": {},
   "outputs": [],
   "source": [
    "class MinStack:\n",
    "    def __init__(self):\n",
    "        self.stack = []\n",
    "        self.minStack = []\n",
    "        \n",
    "    def push(self,val):\n",
    "        self.stack.append(val)\n",
    "        val = min(val, self.minStack[-1] if self.minStack else val)\n",
    "        self.minStack.append(val)\n",
    "    def pop(self):\n",
    "        self.stack.pop()\n",
    "        self.minStack.pop()\n",
    "    def top(self):\n",
    "        return self.stack[-1]\n",
    "    def getMin(self):\n",
    "        return self.minStack[-1]"
   ]
  },
  {
   "cell_type": "markdown",
   "id": "364f7ce3",
   "metadata": {},
   "source": [
    "###### Sample Run: \n",
    "minStack = MinStack(); <br>\n",
    "minStack.push(-2); <br>\n",
    "minStack.push(0); <br>\n",
    "minStack.push(-3); <br>\n",
    "minStack.getMin(); // return -3<br>\n",
    "minStack.pop();<br>\n",
    "minStack.top();    // return 0<br>\n",
    "minStack.getMin(); // return -2<br>"
   ]
  },
  {
   "cell_type": "code",
   "execution_count": 7,
   "id": "dc57339c",
   "metadata": {},
   "outputs": [],
   "source": [
    "minStack = MinStack();"
   ]
  },
  {
   "cell_type": "code",
   "execution_count": 8,
   "id": "92176538",
   "metadata": {},
   "outputs": [],
   "source": [
    "minStack.push(-2)"
   ]
  },
  {
   "cell_type": "code",
   "execution_count": 9,
   "id": "751ce156",
   "metadata": {},
   "outputs": [],
   "source": [
    "minStack.push(0)"
   ]
  },
  {
   "cell_type": "code",
   "execution_count": 10,
   "id": "8a333f55",
   "metadata": {},
   "outputs": [],
   "source": [
    "minStack.push(-3)"
   ]
  },
  {
   "cell_type": "code",
   "execution_count": 11,
   "id": "084e4519",
   "metadata": {},
   "outputs": [
    {
     "data": {
      "text/plain": [
       "-3"
      ]
     },
     "execution_count": 11,
     "metadata": {},
     "output_type": "execute_result"
    }
   ],
   "source": [
    "minStack.getMin()"
   ]
  },
  {
   "cell_type": "code",
   "execution_count": 12,
   "id": "3cf7af02",
   "metadata": {},
   "outputs": [],
   "source": [
    "minStack.pop()"
   ]
  },
  {
   "cell_type": "code",
   "execution_count": 13,
   "id": "6541a1d4",
   "metadata": {},
   "outputs": [
    {
     "data": {
      "text/plain": [
       "0"
      ]
     },
     "execution_count": 13,
     "metadata": {},
     "output_type": "execute_result"
    }
   ],
   "source": [
    "minStack.top()"
   ]
  },
  {
   "cell_type": "code",
   "execution_count": 14,
   "id": "38c7f79f",
   "metadata": {},
   "outputs": [
    {
     "data": {
      "text/plain": [
       "-2"
      ]
     },
     "execution_count": 14,
     "metadata": {},
     "output_type": "execute_result"
    }
   ],
   "source": [
    "minStack.getMin()"
   ]
  },
  {
   "cell_type": "code",
   "execution_count": null,
   "id": "09463ad6",
   "metadata": {},
   "outputs": [],
   "source": []
  }
 ],
 "metadata": {
  "kernelspec": {
   "display_name": "Python 3",
   "language": "python",
   "name": "python3"
  },
  "language_info": {
   "codemirror_mode": {
    "name": "ipython",
    "version": 3
   },
   "file_extension": ".py",
   "mimetype": "text/x-python",
   "name": "python",
   "nbconvert_exporter": "python",
   "pygments_lexer": "ipython3",
   "version": "3.8.8"
  }
 },
 "nbformat": 4,
 "nbformat_minor": 5
}
