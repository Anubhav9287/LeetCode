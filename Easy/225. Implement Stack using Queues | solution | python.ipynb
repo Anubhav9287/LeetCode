{
 "cells": [
  {
   "cell_type": "code",
   "execution_count": 2,
   "id": "581a907d",
   "metadata": {},
   "outputs": [],
   "source": [
    "class MyStack:\n",
    "\n",
    "    def __init__(self):\n",
    "        self.q = []\n",
    "\n",
    "    def push(self, x: int) -> None:\n",
    "        self.q.append(x)\n",
    "\n",
    "    def pop(self) -> int:\n",
    "        if not self.q:\n",
    "            return None\n",
    "        temp = self.q[-1]\n",
    "        for i in range(len(self.q)-1):\n",
    "            self.q.append(self.q.pop(0))\n",
    "        return self.q.pop(0)\n",
    "\n",
    "    def top(self) -> int:\n",
    "        if self.q:\n",
    "            return self.q[-1]\n",
    "        return None\n",
    "\n",
    "    def empty(self) -> bool:\n",
    "        if not self.q:\n",
    "            return False\n",
    "        return True\n",
    "        \n",
    "\n",
    "\n",
    "# Your MyStack object will be instantiated and called as such:\n",
    "obj = MyStack()\n",
    "obj.push(10)\n",
    "param_2 = obj.pop()\n",
    "param_3 = obj.top()\n",
    "param_4 = obj.empty()"
   ]
  },
  {
   "cell_type": "code",
   "execution_count": null,
   "id": "d769a6c0",
   "metadata": {},
   "outputs": [],
   "source": []
  }
 ],
 "metadata": {
  "kernelspec": {
   "display_name": "Python 3",
   "language": "python",
   "name": "python3"
  },
  "language_info": {
   "codemirror_mode": {
    "name": "ipython",
    "version": 3
   },
   "file_extension": ".py",
   "mimetype": "text/x-python",
   "name": "python",
   "nbconvert_exporter": "python",
   "pygments_lexer": "ipython3",
   "version": "3.8.8"
  }
 },
 "nbformat": 4,
 "nbformat_minor": 5
}
