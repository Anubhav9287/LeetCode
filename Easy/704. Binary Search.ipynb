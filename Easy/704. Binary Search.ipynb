{
 "cells": [
  {
   "cell_type": "markdown",
   "id": "f156b6b8",
   "metadata": {},
   "source": [
    "Given an array of integers nums which is sorted in ascending order, and an integer target, write a function to search target in nums. If target exists, then return its index. Otherwise, return -1. <br>\n",
    "<br>\n",
    "You must write an algorithm with O(log n) runtime complexity. <br>\n",
    "##### Example 1:\n",
    "Input: nums = [-1,0,3,5,9,12], target = 9 <br>\n",
    "Output: 4<br>\n",
    "Explanation: 9 exists in nums and its index is 4<br>\n",
    "##### Example 2:\n",
    "Input: nums = [-1,0,3,5,9,12], target = 2<br>\n",
    "Output: -1<br>\n",
    "Explanation: 2 does not exist in nums so return -1<br>"
   ]
  },
  {
   "cell_type": "code",
   "execution_count": 8,
   "id": "0883338f",
   "metadata": {},
   "outputs": [],
   "source": [
    "nums = [-1,0,3,5,9,12]\n",
    "nums = [5]\n",
    "target = 5"
   ]
  },
  {
   "cell_type": "code",
   "execution_count": 11,
   "id": "d218aa32",
   "metadata": {},
   "outputs": [],
   "source": [
    "def binarySearch(nums,target):\n",
    "    s = 0\n",
    "    l = len(nums) - 1\n",
    "    m = (s + l)//2\n",
    "    while s <= l:\n",
    "        if nums[m] == target:\n",
    "            return m\n",
    "        elif nums[m] > target:\n",
    "            l = m - 1\n",
    "        else:\n",
    "            s = m + 1\n",
    "        m = (s + l)//2\n",
    "    return -1"
   ]
  },
  {
   "cell_type": "code",
   "execution_count": 12,
   "id": "d9da3a73",
   "metadata": {},
   "outputs": [
    {
     "data": {
      "text/plain": [
       "0"
      ]
     },
     "execution_count": 12,
     "metadata": {},
     "output_type": "execute_result"
    }
   ],
   "source": [
    "binarySearch(nums,target)"
   ]
  },
  {
   "cell_type": "code",
   "execution_count": null,
   "id": "fd8c0979",
   "metadata": {},
   "outputs": [],
   "source": []
  }
 ],
 "metadata": {
  "kernelspec": {
   "display_name": "Python 3",
   "language": "python",
   "name": "python3"
  },
  "language_info": {
   "codemirror_mode": {
    "name": "ipython",
    "version": 3
   },
   "file_extension": ".py",
   "mimetype": "text/x-python",
   "name": "python",
   "nbconvert_exporter": "python",
   "pygments_lexer": "ipython3",
   "version": "3.8.8"
  }
 },
 "nbformat": 4,
 "nbformat_minor": 5
}
