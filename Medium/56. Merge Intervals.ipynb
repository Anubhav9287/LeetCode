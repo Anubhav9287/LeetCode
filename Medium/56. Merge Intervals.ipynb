{
 "cells": [
  {
   "cell_type": "markdown",
   "id": "08bac802",
   "metadata": {},
   "source": [
    "Given an array of intervals where intervals[i] = [starti, endi], merge all overlapping intervals, and return an array of the non-overlapping intervals that cover all the intervals in the input.\n",
    "<br>\n",
    " \n",
    "\n",
    "###### Example 1:\n",
    "\n",
    "Input: intervals = [[1,3],[2,6],[8,10],[15,18]]\n",
    "<br>Output: [[1,6],[8,10],[15,18]]\n",
    "<br>Explanation: Since intervals [1,3] and [2,6] overlap, merge them into [1,6].\n",
    "\n",
    "###### Example 2:\n",
    "\n",
    "Input: intervals = [[1,4],[4,5]]\n",
    "<br>Output: [[1,5]]\n",
    "<br>Explanation: Intervals [1,4] and [4,5] are considered overlapping."
   ]
  },
  {
   "cell_type": "code",
   "execution_count": 4,
   "id": "808a3564",
   "metadata": {},
   "outputs": [],
   "source": [
    "intervals = [[1,3],[8,10],[15,18],[2,6]]"
   ]
  },
  {
   "cell_type": "code",
   "execution_count": 8,
   "id": "e1417c64",
   "metadata": {},
   "outputs": [],
   "source": [
    "intervals.sort(key = lambda i : i[0])"
   ]
  },
  {
   "cell_type": "code",
   "execution_count": 21,
   "id": "10dd8436",
   "metadata": {},
   "outputs": [],
   "source": [
    "def mergeInterval(intervals):\n",
    "    intervals.sort(key = lambda i:i[0])\n",
    "    output = [intervals[0]]\n",
    "#     print(output[-1])\n",
    "    for start,end in intervals[1:]:\n",
    "        prev_end = output[-1][1]\n",
    "        if prev_end >= start:\n",
    "            output[-1][1] = max(prev_end,end)\n",
    "        else:\n",
    "            output.append([start,end])\n",
    "    return output"
   ]
  },
  {
   "cell_type": "code",
   "execution_count": 22,
   "id": "dfc9c777",
   "metadata": {},
   "outputs": [
    {
     "data": {
      "text/plain": [
       "[[1, 6], [8, 10], [15, 18]]"
      ]
     },
     "execution_count": 22,
     "metadata": {},
     "output_type": "execute_result"
    }
   ],
   "source": [
    "mergeInterval(intervals)"
   ]
  },
  {
   "cell_type": "code",
   "execution_count": null,
   "id": "d9e9ef60",
   "metadata": {},
   "outputs": [],
   "source": []
  }
 ],
 "metadata": {
  "kernelspec": {
   "display_name": "Python 3",
   "language": "python",
   "name": "python3"
  },
  "language_info": {
   "codemirror_mode": {
    "name": "ipython",
    "version": 3
   },
   "file_extension": ".py",
   "mimetype": "text/x-python",
   "name": "python",
   "nbconvert_exporter": "python",
   "pygments_lexer": "ipython3",
   "version": "3.8.8"
  }
 },
 "nbformat": 4,
 "nbformat_minor": 5
}
