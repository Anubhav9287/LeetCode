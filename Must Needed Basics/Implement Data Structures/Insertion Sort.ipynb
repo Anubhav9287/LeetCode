{
 "cells": [
  {
   "cell_type": "code",
   "execution_count": 6,
   "id": "4d78f9df",
   "metadata": {},
   "outputs": [],
   "source": [
    "from typing import List\n",
    "# Definition for a pair.\n",
    "class Pair:\n",
    "    def __init__(self, key: int, value: str):\n",
    "        self.key = key\n",
    "        self.value = value\n",
    "class Solution:\n",
    "    def insertionSort(self, pairs: List[Pair]) -> List[List[Pair]]:\n",
    "        n = len(pairs)\n",
    "        res = [] #store results\n",
    "        \n",
    "        for i in range(n):\n",
    "            j = i-1\n",
    "            \n",
    "            while j >= 0 and pairs[j].key > pairs[j+1].key:\n",
    "                pairs[j],pairs[j+1] = pairs[j+1],pairs[j]\n",
    "                j -= 1\n",
    "            res.append(pairs[:])\n",
    "        return res"
   ]
  },
  {
   "cell_type": "code",
   "execution_count": null,
   "id": "6e11f43c",
   "metadata": {},
   "outputs": [],
   "source": []
  }
 ],
 "metadata": {
  "kernelspec": {
   "display_name": "Python 3",
   "language": "python",
   "name": "python3"
  },
  "language_info": {
   "codemirror_mode": {
    "name": "ipython",
    "version": 3
   },
   "file_extension": ".py",
   "mimetype": "text/x-python",
   "name": "python",
   "nbconvert_exporter": "python",
   "pygments_lexer": "ipython3",
   "version": "3.8.8"
  }
 },
 "nbformat": 4,
 "nbformat_minor": 5
}
