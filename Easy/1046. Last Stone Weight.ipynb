{
 "cells": [
  {
   "cell_type": "markdown",
   "id": "7b3a9b3d",
   "metadata": {},
   "source": [
    "You are given an array of integers stones where stones[i] is the weight of the ith stone. <br>\n",
    "We are playing a game with the stones. On each turn, we choose the heaviest two stones and smash them together. <br><br>Suppose the heaviest two stones have weights x and y with x <= y. The result of this smash is<br>\n",
    "If x == y, both stones are destroyed, and<br>\n",
    "If x != y, the stone of weight x is destroyed, and the stone of weight y has new weight y - x.<br>\n",
    "At the end of the game, there is at most one stone left.<br>\n",
    "Return the smallest possible weight of the left stone. If there are no stones left, return 0.<br>"
   ]
  },
  {
   "cell_type": "code",
   "execution_count": 38,
   "id": "9891cc02",
   "metadata": {},
   "outputs": [],
   "source": [
    "stones = [2,7,4,1,8,1]"
   ]
  },
  {
   "cell_type": "code",
   "execution_count": 43,
   "id": "cec6e5bb",
   "metadata": {},
   "outputs": [],
   "source": [
    "def lastStoneWeight(stones):\n",
    "    while len(stones) > 1:\n",
    "        n1 = max(stones)\n",
    "        stones.remove(n1)\n",
    "        n2 = max(stones)\n",
    "        stones.remove(n2)\n",
    "        if n1-n2 > 0:\n",
    "            stones.append(n1-n2)\n",
    "    return stones[0]"
   ]
  },
  {
   "cell_type": "code",
   "execution_count": 44,
   "id": "eaf54c13",
   "metadata": {},
   "outputs": [],
   "source": [
    "#max heap approach\n",
    "import heapq\n",
    "def lastStoneWeightHeapSolution(stones):\n",
    "    hp = [i*-1 for i in stones]\n",
    "    heapq.heapify(hp)\n",
    "    while len(hp) > 1:\n",
    "        v1 = heapq.heappop(hp)\n",
    "        v2 = heapq.heappop(hp)\n",
    "        heapq.heappush(hp, (v1-v2))\n",
    "    return hp[0]*-1"
   ]
  },
  {
   "cell_type": "code",
   "execution_count": 45,
   "id": "aa7c5265",
   "metadata": {},
   "outputs": [
    {
     "data": {
      "text/plain": [
       "1"
      ]
     },
     "execution_count": 45,
     "metadata": {},
     "output_type": "execute_result"
    }
   ],
   "source": [
    "lastStoneWeight(stones)"
   ]
  },
  {
   "cell_type": "code",
   "execution_count": 42,
   "id": "383e738d",
   "metadata": {},
   "outputs": [
    {
     "data": {
      "text/plain": [
       "1"
      ]
     },
     "execution_count": 42,
     "metadata": {},
     "output_type": "execute_result"
    }
   ],
   "source": [
    "lastStoneWeightHeapSolution(stones)"
   ]
  }
 ],
 "metadata": {
  "kernelspec": {
   "display_name": "Python 3",
   "language": "python",
   "name": "python3"
  },
  "language_info": {
   "codemirror_mode": {
    "name": "ipython",
    "version": 3
   },
   "file_extension": ".py",
   "mimetype": "text/x-python",
   "name": "python",
   "nbconvert_exporter": "python",
   "pygments_lexer": "ipython3",
   "version": "3.8.8"
  }
 },
 "nbformat": 4,
 "nbformat_minor": 5
}
