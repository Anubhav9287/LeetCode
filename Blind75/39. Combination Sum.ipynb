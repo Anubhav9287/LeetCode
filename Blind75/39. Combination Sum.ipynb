{
 "cells": [
  {
   "cell_type": "code",
   "execution_count": 1,
   "id": "6b07a96f",
   "metadata": {},
   "outputs": [],
   "source": [
    "# Input: candidates = [2,3,6,7], target = 7\n",
    "# Output: [[2,2,3],[7]]\n",
    "# Explanation:\n",
    "# 2 and 3 are candidates, and 2 + 2 + 3 = 7. Note that 2 can be used multiple times.\n",
    "# 7 is a candidate, and 7 = 7.\n",
    "# These are the only two combinations."
   ]
  },
  {
   "cell_type": "code",
   "execution_count": 8,
   "id": "aaedcd2e",
   "metadata": {},
   "outputs": [],
   "source": [
    "candidates = [2,3,6,7]\n",
    "target = 7\n",
    "def combinationSum(candidates, target):\n",
    "    res = []\n",
    "    \n",
    "    def dfs(i, curr, total):\n",
    "        if total == target:\n",
    "            res.append(curr.copy())\n",
    "            return\n",
    "        if i >= len(candidates) or total > target:\n",
    "            return\n",
    "        curr.append(candidates[i])\n",
    "        dfs(i, curr, total+candidates[i])\n",
    "        curr.pop()\n",
    "        dfs(i+1, curr, total)\n",
    "    dfs(0,[],0)\n",
    "    return res"
   ]
  },
  {
   "cell_type": "code",
   "execution_count": 9,
   "id": "d6f90f13",
   "metadata": {},
   "outputs": [
    {
     "data": {
      "text/plain": [
       "[[2, 2, 3], [7]]"
      ]
     },
     "execution_count": 9,
     "metadata": {},
     "output_type": "execute_result"
    }
   ],
   "source": [
    "combinationSum(candidates, target)"
   ]
  },
  {
   "cell_type": "code",
   "execution_count": null,
   "id": "cb841c5c",
   "metadata": {},
   "outputs": [],
   "source": []
  }
 ],
 "metadata": {
  "kernelspec": {
   "display_name": "Python 3",
   "language": "python",
   "name": "python3"
  },
  "language_info": {
   "codemirror_mode": {
    "name": "ipython",
    "version": 3
   },
   "file_extension": ".py",
   "mimetype": "text/x-python",
   "name": "python",
   "nbconvert_exporter": "python",
   "pygments_lexer": "ipython3",
   "version": "3.8.8"
  }
 },
 "nbformat": 4,
 "nbformat_minor": 5
}
