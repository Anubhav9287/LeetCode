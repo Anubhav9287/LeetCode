{
 "cells": [
  {
   "cell_type": "code",
   "execution_count": 14,
   "id": "47e06e64",
   "metadata": {},
   "outputs": [],
   "source": [
    "points = [[3,3],[5,-1],[-2,4]]\n",
    "k = 2"
   ]
  },
  {
   "cell_type": "code",
   "execution_count": 15,
   "id": "d365c6cf",
   "metadata": {},
   "outputs": [],
   "source": [
    "import math\n",
    "def withoutHeap(points,k):\n",
    "    result = []\n",
    "    output = []\n",
    "    for i in points:\n",
    "        val = math.sqrt(i[0]**2 + i[1]**2)\n",
    "        result.append([val,i])\n",
    "    result.sort()\n",
    "    for i in range(k):\n",
    "        output.append(result[i][1])\n",
    "    return output"
   ]
  },
  {
   "cell_type": "code",
   "execution_count": 16,
   "id": "0ffc4816",
   "metadata": {},
   "outputs": [
    {
     "data": {
      "text/plain": [
       "[[3, 3], [-2, 4]]"
      ]
     },
     "execution_count": 16,
     "metadata": {},
     "output_type": "execute_result"
    }
   ],
   "source": [
    "withoutHeap(points,k)"
   ]
  },
  {
   "cell_type": "code",
   "execution_count": 30,
   "id": "62331f3f",
   "metadata": {},
   "outputs": [],
   "source": [
    "import heapq\n",
    "def withHeap(points,k):\n",
    "    minHeap = []\n",
    "    result = []\n",
    "    for x,y in points:\n",
    "        dist = math.sqrt(x**2 + y**2)\n",
    "        minHeap.append([dist,x,y])\n",
    "    heapq.heapify(minHeap)\n",
    "    for i in range(k):\n",
    "        result.append(heapq.heappop(minHeap)[1:])\n",
    "    return result"
   ]
  },
  {
   "cell_type": "code",
   "execution_count": 31,
   "id": "7725339f",
   "metadata": {},
   "outputs": [
    {
     "data": {
      "text/plain": [
       "[[3, 3], [-2, 4]]"
      ]
     },
     "execution_count": 31,
     "metadata": {},
     "output_type": "execute_result"
    }
   ],
   "source": [
    "withHeap(points,k)"
   ]
  },
  {
   "cell_type": "code",
   "execution_count": null,
   "id": "c3024efb",
   "metadata": {},
   "outputs": [],
   "source": []
  }
 ],
 "metadata": {
  "kernelspec": {
   "display_name": "Python 3",
   "language": "python",
   "name": "python3"
  },
  "language_info": {
   "codemirror_mode": {
    "name": "ipython",
    "version": 3
   },
   "file_extension": ".py",
   "mimetype": "text/x-python",
   "name": "python",
   "nbconvert_exporter": "python",
   "pygments_lexer": "ipython3",
   "version": "3.8.8"
  }
 },
 "nbformat": 4,
 "nbformat_minor": 5
}
