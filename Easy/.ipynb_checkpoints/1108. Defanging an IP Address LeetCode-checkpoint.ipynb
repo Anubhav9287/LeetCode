{
 "cells": [
  {
   "cell_type": "markdown",
   "id": "469a9683",
   "metadata": {},
   "source": [
    "## Example 1:\n",
    "Input: address = \"1.1.1.1\" <br>\n",
    "Output: \"1[.]1[.]1[.]1\" <br>\n",
    "\n",
    "## Example 2:\n",
    "Input: address = \"255.100.50.0\" <br>\n",
    "Output: \"255[.]100[.]50[.]0\" <br>"
   ]
  },
  {
   "cell_type": "code",
   "execution_count": 1,
   "id": "54ba0dba",
   "metadata": {},
   "outputs": [],
   "source": [
    "ip = '1.1.1.1'"
   ]
  },
  {
   "cell_type": "code",
   "execution_count": 2,
   "id": "04c30933",
   "metadata": {},
   "outputs": [],
   "source": [
    "def defang(ip):\n",
    "    return '[.]'.join(ip.split('.'))"
   ]
  },
  {
   "cell_type": "code",
   "execution_count": 3,
   "id": "fbcf135f",
   "metadata": {},
   "outputs": [
    {
     "data": {
      "text/plain": [
       "'1[.]1[.]1[.]1'"
      ]
     },
     "execution_count": 3,
     "metadata": {},
     "output_type": "execute_result"
    }
   ],
   "source": [
    "defang(ip)"
   ]
  },
  {
   "cell_type": "code",
   "execution_count": 6,
   "id": "19d6ed9e",
   "metadata": {},
   "outputs": [],
   "source": [
    "def defang2(ip):\n",
    "    result = ''\n",
    "    for i in ip:\n",
    "        if i == '.':\n",
    "            result += '[.]'\n",
    "        else:\n",
    "            result += i\n",
    "    return result"
   ]
  },
  {
   "cell_type": "code",
   "execution_count": 7,
   "id": "a9ef6027",
   "metadata": {},
   "outputs": [
    {
     "data": {
      "text/plain": [
       "'1[.]1[.]1[.]1'"
      ]
     },
     "execution_count": 7,
     "metadata": {},
     "output_type": "execute_result"
    }
   ],
   "source": [
    "defang2(ip)"
   ]
  },
  {
   "cell_type": "code",
   "execution_count": null,
   "id": "89b5ebf8",
   "metadata": {},
   "outputs": [],
   "source": []
  }
 ],
 "metadata": {
  "kernelspec": {
   "display_name": "Python 3",
   "language": "python",
   "name": "python3"
  },
  "language_info": {
   "codemirror_mode": {
    "name": "ipython",
    "version": 3
   },
   "file_extension": ".py",
   "mimetype": "text/x-python",
   "name": "python",
   "nbconvert_exporter": "python",
   "pygments_lexer": "ipython3",
   "version": "3.8.8"
  }
 },
 "nbformat": 4,
 "nbformat_minor": 5
}
