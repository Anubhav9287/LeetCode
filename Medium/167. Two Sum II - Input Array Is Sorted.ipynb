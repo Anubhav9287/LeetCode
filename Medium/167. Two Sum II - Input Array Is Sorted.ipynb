{
 "cells": [
  {
   "cell_type": "code",
   "execution_count": 25,
   "id": "fc6d89b8",
   "metadata": {},
   "outputs": [],
   "source": [
    "# numbers = [2,7,11,15]\n",
    "numbers = [-1,0]\n",
    "# target = 9\n",
    "target = -1\n",
    "# [1, 2]"
   ]
  },
  {
   "cell_type": "code",
   "execution_count": 26,
   "id": "7aaa0569",
   "metadata": {},
   "outputs": [],
   "source": [
    "def twoSum(numbers,target):\n",
    "    l = len(numbers) - 1\n",
    "    s = 0\n",
    "    while s < l:\n",
    "        if numbers[s] + numbers[l] == target:\n",
    "            return [s+1,l+1]\n",
    "        if numbers[s] + numbers[l] > target:\n",
    "            l -= 1\n",
    "        else:\n",
    "            s += 1"
   ]
  },
  {
   "cell_type": "code",
   "execution_count": 27,
   "id": "78625b5e",
   "metadata": {},
   "outputs": [
    {
     "data": {
      "text/plain": [
       "[1, 2]"
      ]
     },
     "execution_count": 27,
     "metadata": {},
     "output_type": "execute_result"
    }
   ],
   "source": [
    "twoSum(numbers,target)"
   ]
  },
  {
   "cell_type": "code",
   "execution_count": null,
   "id": "713312b1",
   "metadata": {},
   "outputs": [],
   "source": []
  }
 ],
 "metadata": {
  "kernelspec": {
   "display_name": "Python 3",
   "language": "python",
   "name": "python3"
  },
  "language_info": {
   "codemirror_mode": {
    "name": "ipython",
    "version": 3
   },
   "file_extension": ".py",
   "mimetype": "text/x-python",
   "name": "python",
   "nbconvert_exporter": "python",
   "pygments_lexer": "ipython3",
   "version": "3.8.8"
  }
 },
 "nbformat": 4,
 "nbformat_minor": 5
}
