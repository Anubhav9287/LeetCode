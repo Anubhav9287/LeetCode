{
 "cells": [
  {
   "cell_type": "markdown",
   "id": "3612cbda",
   "metadata": {},
   "source": [
    "Given two strings text1 and text2, return the length of their longest common subsequence. If there is no common subsequence, return 0.\n",
    "<br>\n",
    "A subsequence of a string is a new string generated from the original string with some characters (can be none) deleted without changing the relative order of the remaining characters.\n",
    "<br>\n",
    "For example, \"ace\" is a subsequence of \"abcde\".\n",
    "A common subsequence of two strings is a subsequence that is common to both strings.\n",
    "<br>\n",
    "\n",
    "###### Example 1:\n",
    "\n",
    "Input: text1 = \"abcde\", text2 = \"ace\" \n",
    "<br>Output: 3  \n",
    "<br>Explanation: The longest common subsequence is \"ace\" and its length is 3."
   ]
  },
  {
   "cell_type": "code",
   "execution_count": 2,
   "id": "15b35631",
   "metadata": {},
   "outputs": [],
   "source": [
    "text1 = \"abcde\"\n",
    "text2 = \"ace\""
   ]
  },
  {
   "cell_type": "code",
   "execution_count": 3,
   "id": "cb49c64f",
   "metadata": {},
   "outputs": [],
   "source": [
    "def LongestCommonSubsequence(text1,text2):\n",
    "    dp = [[0 for i in range(len(text2)+1)] for j in range(len(text1)+1)]\n",
    "    \n",
    "    for i in range(len(text1)-1,-1,-1):\n",
    "        for j in range(len(text2)-1,-1,-1):\n",
    "            if text1[i] == text2[j]:\n",
    "                dp[i][j] = 1 + dp[i+1][j+1]\n",
    "            else:\n",
    "                dp[i][j] = max(dp[i+1][j],dp[i][j+1])\n",
    "    return "
   ]
  },
  {
   "cell_type": "code",
   "execution_count": 4,
   "id": "18b91494",
   "metadata": {},
   "outputs": [
    {
     "name": "stdout",
     "output_type": "stream",
     "text": [
      "[[0, 0, 0, 0], [0, 0, 0, 0], [0, 0, 0, 0], [0, 0, 0, 0], [0, 0, 0, 0], [0, 0, 0, 0]]\n"
     ]
    }
   ],
   "source": [
    "LongestCommonSubsequence(text1,text2)"
   ]
  },
  {
   "cell_type": "code",
   "execution_count": null,
   "id": "9614428a",
   "metadata": {},
   "outputs": [],
   "source": []
  }
 ],
 "metadata": {
  "kernelspec": {
   "display_name": "Python 3",
   "language": "python",
   "name": "python3"
  },
  "language_info": {
   "codemirror_mode": {
    "name": "ipython",
    "version": 3
   },
   "file_extension": ".py",
   "mimetype": "text/x-python",
   "name": "python",
   "nbconvert_exporter": "python",
   "pygments_lexer": "ipython3",
   "version": "3.8.8"
  }
 },
 "nbformat": 4,
 "nbformat_minor": 5
}
