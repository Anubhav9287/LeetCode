{
 "cells": [
  {
   "cell_type": "markdown",
   "id": "a9ce8514",
   "metadata": {},
   "source": [
    "A phrase is a palindrome if, after converting all uppercase letters into lowercase letters and removing all non-alphanumeric characters, it reads the same forward and backward. Alphanumeric characters include letters and numbers.\n",
    "\n",
    "Given a string s, return true if it is a palindrome, or false otherwise."
   ]
  },
  {
   "cell_type": "markdown",
   "id": "1f69e9b2",
   "metadata": {},
   "source": [
    "##### Example 1:\n",
    "Input: s = \"A man, a plan, a canal: Panama\" <br>\n",
    "Output: true<br>\n",
    "Explanation: \"amanaplanacanalpanama\" is a palindrome.<br>\n",
    "##### Example 2:\n",
    "Input: s = \"race a car\"<br>\n",
    "Output: false<br>\n",
    "Explanation: \"raceacar\" is not a palindrome.<br>\n",
    "##### Example 3:\n",
    "Input: s = \" \"<br>\n",
    "Output: true<br>\n",
    "Explanation: s is an empty string \"\" after removing non-alphanumeric characters.<br>\n",
    "Since an empty string reads the same forward and backward, it is a palindrome.<br>"
   ]
  },
  {
   "cell_type": "code",
   "execution_count": 27,
   "id": "844a14e0",
   "metadata": {},
   "outputs": [],
   "source": [
    "def isPalindrome():\n",
    "#     s = \"A man, a plan, a canal: Panama\"\n",
    "    s = \"0P\"\n",
    "    s = s.lower()\n",
    "    f = 0\n",
    "    l = len(s) - 1\n",
    "    while f<l:\n",
    "        while f < l and not s[f].isalnum():\n",
    "            f += 1\n",
    "        while f < l and not s[l].isalnum():\n",
    "            l -= 1\n",
    "        if s[f] != s[l]:\n",
    "            return False\n",
    "        f += 1\n",
    "        l -= 1\n",
    "    return True"
   ]
  },
  {
   "cell_type": "code",
   "execution_count": 28,
   "id": "dcf2208a",
   "metadata": {},
   "outputs": [
    {
     "data": {
      "text/plain": [
       "False"
      ]
     },
     "execution_count": 28,
     "metadata": {},
     "output_type": "execute_result"
    }
   ],
   "source": [
    "isPalindrome()"
   ]
  },
  {
   "cell_type": "code",
   "execution_count": null,
   "id": "4fcc326f",
   "metadata": {},
   "outputs": [],
   "source": []
  }
 ],
 "metadata": {
  "kernelspec": {
   "display_name": "Python 3",
   "language": "python",
   "name": "python3"
  },
  "language_info": {
   "codemirror_mode": {
    "name": "ipython",
    "version": 3
   },
   "file_extension": ".py",
   "mimetype": "text/x-python",
   "name": "python",
   "nbconvert_exporter": "python",
   "pygments_lexer": "ipython3",
   "version": "3.8.8"
  }
 },
 "nbformat": 4,
 "nbformat_minor": 5
}
