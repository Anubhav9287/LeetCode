{
 "cells": [
  {
   "cell_type": "code",
   "execution_count": 1,
   "id": "d8a007d9",
   "metadata": {},
   "outputs": [],
   "source": [
    "strs = [\"eat\",\"tea\",\"tan\",\"ate\",\"nat\",\"bat\"]"
   ]
  },
  {
   "cell_type": "code",
   "execution_count": 22,
   "id": "67f9334e",
   "metadata": {},
   "outputs": [],
   "source": [
    "from collections import defaultdict\n",
    "def groupAnagrams(strs):\n",
    "    dic = {}\n",
    "    result = []\n",
    "    for word in strs:\n",
    "        s = sorted(word)\n",
    "        s = ''.join(s)\n",
    "        if s in dic:\n",
    "            dic[s].append(word)\n",
    "        else:\n",
    "            dic[s] = [word]\n",
    "    for each in dic:\n",
    "        result.append(dic[each])\n",
    "    return result\n",
    "\n",
    "def groupAnagrams2(strs):\n",
    "    result = defaultdict(list)\n",
    "    \n",
    "    for word in strs:\n",
    "        count = [0] * 26\n",
    "        \n",
    "        for each_char in word:\n",
    "            count[ord(each_char)-ord('a')] += 1\n",
    "        result[tuple(count)].append(word)\n",
    "    return result.values()"
   ]
  },
  {
   "cell_type": "code",
   "execution_count": 23,
   "id": "f849fce9",
   "metadata": {},
   "outputs": [
    {
     "data": {
      "text/plain": [
       "[['eat', 'tea', 'ate'], ['tan', 'nat'], ['bat']]"
      ]
     },
     "execution_count": 23,
     "metadata": {},
     "output_type": "execute_result"
    }
   ],
   "source": [
    "groupAnagrams(strs)"
   ]
  },
  {
   "cell_type": "code",
   "execution_count": 24,
   "id": "f4653853",
   "metadata": {},
   "outputs": [
    {
     "data": {
      "text/plain": [
       "dict_values([['eat', 'tea', 'ate'], ['tan', 'nat'], ['bat']])"
      ]
     },
     "execution_count": 24,
     "metadata": {},
     "output_type": "execute_result"
    }
   ],
   "source": [
    "groupAnagrams2(strs)"
   ]
  },
  {
   "cell_type": "code",
   "execution_count": null,
   "id": "67f97178",
   "metadata": {},
   "outputs": [],
   "source": []
  }
 ],
 "metadata": {
  "kernelspec": {
   "display_name": "Python 3",
   "language": "python",
   "name": "python3"
  },
  "language_info": {
   "codemirror_mode": {
    "name": "ipython",
    "version": 3
   },
   "file_extension": ".py",
   "mimetype": "text/x-python",
   "name": "python",
   "nbconvert_exporter": "python",
   "pygments_lexer": "ipython3",
   "version": "3.8.8"
  }
 },
 "nbformat": 4,
 "nbformat_minor": 5
}
