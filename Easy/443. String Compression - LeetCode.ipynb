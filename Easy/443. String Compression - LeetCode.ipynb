{
 "cells": [
  {
   "cell_type": "markdown",
   "id": "8c7d1163",
   "metadata": {},
   "source": [
    "## Example 1:\n",
    "Input: chars = [\"a\",\"a\",\"b\",\"b\",\"c\",\"c\",\"c\"] <br>\n",
    "Output: Return 6, and the first 6 characters of the input array should be: [\"a\",\"2\",\"b\",\"2\",\"c\",\"3\"] <br>\n",
    "Explanation: The groups are \"aa\", \"bb\", and \"ccc\". This compresses to \"a2b2c3\". <br>\n",
    "\n",
    "## Example 2:\n",
    "Input: chars = [\"a\"] <br>\n",
    "Output: Return 1, and the first character of the input array should be: [\"a\"] <br>\n",
    "Explanation: The only group is \"a\", which remains uncompressed since it's a single character. <br>\n",
    "\n",
    "## Example 3:\n",
    "Input: chars = [\"a\",\"b\",\"b\",\"b\",\"b\",\"b\",\"b\",\"b\",\"b\",\"b\",\"b\",\"b\",\"b\"] <br>\n",
    "Output: Return 4, and the first 4 characters of the input array should be: [\"a\",\"b\",\"1\",\"2\"]. <br>\n",
    "Explanation: The groups are \"a\" and \"bbbbbbbbbbbb\". This compresses to \"ab12\". <br>"
   ]
  },
  {
   "cell_type": "code",
   "execution_count": 36,
   "id": "77ee5587",
   "metadata": {},
   "outputs": [],
   "source": [
    "chars = [\"a\",\"a\",\"b\",\"b\",\"c\",\"c\",\"c\"]"
   ]
  },
  {
   "cell_type": "code",
   "execution_count": 39,
   "id": "934a433c",
   "metadata": {},
   "outputs": [],
   "source": [
    "def compress(chars):\n",
    "        \"\"\"\n",
    "        :type chars: List[str]\n",
    "        :rtype: int\n",
    "        \"\"\"\n",
    "        index  = 0\n",
    "        i = 0\n",
    "        while i < len(chars):\n",
    "            j = i\n",
    "            while j < len(chars) and chars[i] == chars[j]:\n",
    "                j += 1\n",
    "            chars[index] = chars[i]\n",
    "            index = index + 1\n",
    "            if j - i > 1:\n",
    "                count = str(j-i)\n",
    "                for e in count:\n",
    "                    chars[index] = e\n",
    "                    index += 1\n",
    "            i = j\n",
    "        return index"
   ]
  },
  {
   "cell_type": "code",
   "execution_count": 40,
   "id": "f7b823e0",
   "metadata": {},
   "outputs": [
    {
     "data": {
      "text/plain": [
       "6"
      ]
     },
     "execution_count": 40,
     "metadata": {},
     "output_type": "execute_result"
    }
   ],
   "source": [
    "#Calling the funtion\n",
    "compress(chars)"
   ]
  },
  {
   "cell_type": "code",
   "execution_count": null,
   "id": "cd933496",
   "metadata": {},
   "outputs": [],
   "source": []
  }
 ],
 "metadata": {
  "kernelspec": {
   "display_name": "Python 3",
   "language": "python",
   "name": "python3"
  },
  "language_info": {
   "codemirror_mode": {
    "name": "ipython",
    "version": 3
   },
   "file_extension": ".py",
   "mimetype": "text/x-python",
   "name": "python",
   "nbconvert_exporter": "python",
   "pygments_lexer": "ipython3",
   "version": "3.8.8"
  }
 },
 "nbformat": 4,
 "nbformat_minor": 5
}
