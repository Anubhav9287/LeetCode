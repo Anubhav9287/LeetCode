{
 "cells": [
  {
   "cell_type": "code",
   "execution_count": 1,
   "id": "fd3ee138",
   "metadata": {},
   "outputs": [],
   "source": [
    "# Input: head = [3,2,0,-4], pos = 1\n",
    "# Output: true\n",
    "# Explanation: There is a cycle in the linked list, where the tail connects to the 1st node (0-indexed)."
   ]
  },
  {
   "cell_type": "code",
   "execution_count": 2,
   "id": "77a0ec7a",
   "metadata": {},
   "outputs": [],
   "source": [
    "class ListNode(object):\n",
    "    def __init__(self, x):\n",
    "        self.val = x\n",
    "        self.next = None\n",
    "a = ListNode(3)\n",
    "b = ListNode(2)\n",
    "c = ListNode(0)\n",
    "d = ListNode(-1)\n",
    "a.next = b\n",
    "b.next = c\n",
    "c.next = d\n",
    "d.next = b"
   ]
  },
  {
   "cell_type": "code",
   "execution_count": 7,
   "id": "33e3946a",
   "metadata": {},
   "outputs": [],
   "source": [
    "def hasCycle(head):\n",
    "    slow,fast = head,head.next\n",
    "    while fast and fast.next:\n",
    "        slow = slow.next\n",
    "        fast = fast.next.next\n",
    "        if slow == fast:\n",
    "            return True\n",
    "    return False"
   ]
  },
  {
   "cell_type": "code",
   "execution_count": 8,
   "id": "630c8c66",
   "metadata": {},
   "outputs": [
    {
     "data": {
      "text/plain": [
       "True"
      ]
     },
     "execution_count": 8,
     "metadata": {},
     "output_type": "execute_result"
    }
   ],
   "source": [
    "hasCycle(a)"
   ]
  },
  {
   "cell_type": "code",
   "execution_count": null,
   "id": "6b68d005",
   "metadata": {},
   "outputs": [],
   "source": []
  }
 ],
 "metadata": {
  "kernelspec": {
   "display_name": "Python 3",
   "language": "python",
   "name": "python3"
  },
  "language_info": {
   "codemirror_mode": {
    "name": "ipython",
    "version": 3
   },
   "file_extension": ".py",
   "mimetype": "text/x-python",
   "name": "python",
   "nbconvert_exporter": "python",
   "pygments_lexer": "ipython3",
   "version": "3.8.8"
  }
 },
 "nbformat": 4,
 "nbformat_minor": 5
}
