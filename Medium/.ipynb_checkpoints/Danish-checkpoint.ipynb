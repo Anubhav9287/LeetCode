{
 "cells": [
  {
   "cell_type": "code",
   "execution_count": 31,
   "id": "6666370d",
   "metadata": {},
   "outputs": [],
   "source": [
    "def verify_Type(input_value):\n",
    "    try:\n",
    "        #Check for integer value\n",
    "        temp = int(input_value)\n",
    "        print(\"Input is of Integer Type!!!\")\n",
    "    except ValueError:\n",
    "        try:\n",
    "            temp = float(input_value)\n",
    "            print(\"Input is a float Type.\")\n",
    "        except ValueError:\n",
    "            print(\"The input is a String Type\")"
   ]
  },
  {
   "cell_type": "code",
   "execution_count": 32,
   "id": "833e48fd",
   "metadata": {},
   "outputs": [
    {
     "name": "stdout",
     "output_type": "stream",
     "text": [
      "Please enter either an integer, a float or a string: (type: exit to stop)hello\n",
      "The input is a String Type\n",
      "Please enter either an integer, a float or a string: (type: exit to stop)hellp\n",
      "The input is a String Type\n",
      "Please enter either an integer, a float or a string: (type: exit to stop)123\n",
      "Input is of Integer Type!!!\n",
      "Please enter either an integer, a float or a string: (type: exit to stop)exit\n",
      "Thankyou for visiting!!!\n"
     ]
    }
   ],
   "source": [
    "while True:\n",
    "    a = input('Please enter either an integer, a float or a string: (type: exit to stop)')\n",
    "    if a == 'exit':\n",
    "        print('Thankyou for visiting!!!')\n",
    "        break\n",
    "    verify_Type(a)"
   ]
  },
  {
   "cell_type": "code",
   "execution_count": null,
   "id": "bea0f3db",
   "metadata": {},
   "outputs": [],
   "source": []
  }
 ],
 "metadata": {
  "kernelspec": {
   "display_name": "Python 3",
   "language": "python",
   "name": "python3"
  },
  "language_info": {
   "codemirror_mode": {
    "name": "ipython",
    "version": 3
   },
   "file_extension": ".py",
   "mimetype": "text/x-python",
   "name": "python",
   "nbconvert_exporter": "python",
   "pygments_lexer": "ipython3",
   "version": "3.8.8"
  }
 },
 "nbformat": 4,
 "nbformat_minor": 5
}
