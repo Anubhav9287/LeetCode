{
 "cells": [
  {
   "cell_type": "markdown",
   "id": "3cf24804",
   "metadata": {},
   "source": [
    "##### Example 1:\n",
    "Input: nums = [2,7,11,15], target = 9 <br>\n",
    "Output: [0,1]<br>\n",
    "Explanation: Because nums[0] + nums[1] == 9, we return [0, 1].<br>\n",
    "##### Example 2:\n",
    "Input: nums = [3,2,4], target = 6<br>\n",
    "Output: [1,2]<br>\n",
    "##### Example 3:\n",
    "Input: nums = [3,3], target = 6<br>\n",
    "Output: [0,1]<br>"
   ]
  },
  {
   "cell_type": "code",
   "execution_count": 4,
   "id": "6b169028",
   "metadata": {},
   "outputs": [],
   "source": [
    "# nums = [2,7,11,15]\n",
    "nums = [3,2,4]\n",
    "# target = 9\n",
    "target = 6"
   ]
  },
  {
   "cell_type": "code",
   "execution_count": 5,
   "id": "4e3be721",
   "metadata": {},
   "outputs": [],
   "source": [
    "def twoSum(nums,target):\n",
    "    d = {}\n",
    "    for index,value in enumerate(nums):\n",
    "        temp = target - value\n",
    "        if temp in d:\n",
    "            return [d[temp],index]\n",
    "        else:\n",
    "            d[value] = index"
   ]
  },
  {
   "cell_type": "code",
   "execution_count": 6,
   "id": "588913e7",
   "metadata": {},
   "outputs": [
    {
     "data": {
      "text/plain": [
       "[1, 2]"
      ]
     },
     "execution_count": 6,
     "metadata": {},
     "output_type": "execute_result"
    }
   ],
   "source": [
    "twoSum(nums,target)"
   ]
  }
 ],
 "metadata": {
  "kernelspec": {
   "display_name": "Python 3",
   "language": "python",
   "name": "python3"
  },
  "language_info": {
   "codemirror_mode": {
    "name": "ipython",
    "version": 3
   },
   "file_extension": ".py",
   "mimetype": "text/x-python",
   "name": "python",
   "nbconvert_exporter": "python",
   "pygments_lexer": "ipython3",
   "version": "3.8.8"
  }
 },
 "nbformat": 4,
 "nbformat_minor": 5
}
