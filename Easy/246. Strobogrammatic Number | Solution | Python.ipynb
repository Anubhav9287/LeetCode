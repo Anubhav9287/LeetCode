{
 "cells": [
  {
   "cell_type": "markdown",
   "id": "d5934653",
   "metadata": {},
   "source": [
    "A strobogrammatic number is a number that looks the same when rotated 180 degrees (looked at upside down).\n",
    "<br>\n",
    "Write a function to determine if a number is strobogrammatic. The number is represented as a string.<br>\n",
    "###### Example 1:\n",
    "Input:  \"69\" <br>\n",
    "Output: true<br>\n",
    "###### Example 2:\n",
    "Input:  \"88\"<br>\n",
    "Output: true<br>\n",
    "###### Example 3:\n",
    "Input:  \"962\"<br>\n",
    "Output: false\n"
   ]
  },
  {
   "cell_type": "code",
   "execution_count": 1,
   "id": "194ce7ab",
   "metadata": {},
   "outputs": [],
   "source": [
    "def isStrobogrammatic(num):\n",
    "    str_map = {\n",
    "        '0' : '0',\n",
    "        '1' : '1',\n",
    "        '8' : '8',\n",
    "        '6' : '9',\n",
    "        '9' : '6'\n",
    "    }\n",
    "    \n",
    "    if len(num) == 1:\n",
    "        return num in ['0','1','8']\n",
    "    else:\n",
    "        i = 0\n",
    "        j = len(num) - 1\n",
    "        \n",
    "        while i <= j:\n",
    "            if num[i] in str_map and str_map[num[i]] == num[j]:\n",
    "                i += 1\n",
    "                j -= 1\n",
    "            else:\n",
    "                return False\n",
    "        return True "
   ]
  },
  {
   "cell_type": "code",
   "execution_count": 5,
   "id": "d08f6396",
   "metadata": {},
   "outputs": [
    {
     "data": {
      "text/plain": [
       "True"
      ]
     },
     "execution_count": 5,
     "metadata": {},
     "output_type": "execute_result"
    }
   ],
   "source": [
    "num = '808'\n",
    "isStrobogrammatic(num)"
   ]
  },
  {
   "cell_type": "code",
   "execution_count": null,
   "id": "3f8bf58a",
   "metadata": {},
   "outputs": [],
   "source": []
  }
 ],
 "metadata": {
  "kernelspec": {
   "display_name": "Python 3",
   "language": "python",
   "name": "python3"
  },
  "language_info": {
   "codemirror_mode": {
    "name": "ipython",
    "version": 3
   },
   "file_extension": ".py",
   "mimetype": "text/x-python",
   "name": "python",
   "nbconvert_exporter": "python",
   "pygments_lexer": "ipython3",
   "version": "3.8.8"
  }
 },
 "nbformat": 4,
 "nbformat_minor": 5
}
