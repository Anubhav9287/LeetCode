{
 "cells": [
  {
   "cell_type": "markdown",
   "id": "9d6db84a",
   "metadata": {},
   "source": [
    "Given an array of meeting time intervals consisting of start and end times [[s1,e1],[s2,e2],...] (si < ei), determine if a person could attend all meetings. <br>\n",
    "###### Sample 1:\n",
    "Input: intervals = [(0,30),(5,10),(15,20)] <br>\n",
    "Output: false <br>\n",
    "Explanation: <br>\n",
    "(0,30), (5,10) and (0,30),(15,20) will conflict <br>"
   ]
  },
  {
   "cell_type": "code",
   "execution_count": 16,
   "id": "58b04e7e",
   "metadata": {},
   "outputs": [],
   "source": [
    "intervals = [(0,30),(15,20),(5,10)]\n",
    "intervals1 = [(5,8),(9,15)]"
   ]
  },
  {
   "cell_type": "code",
   "execution_count": 17,
   "id": "a2605662",
   "metadata": {},
   "outputs": [],
   "source": [
    "def meetingRoom(intervals):\n",
    "    intervals.sort()\n",
    "    for i in range(1,len(intervals)):\n",
    "        l,h = intervals[i-1]\n",
    "        l1,h1 = intervals[i]\n",
    "        if h > l1:\n",
    "            return False\n",
    "    return True"
   ]
  },
  {
   "cell_type": "code",
   "execution_count": 18,
   "id": "4ca1b68a",
   "metadata": {},
   "outputs": [
    {
     "data": {
      "text/plain": [
       "False"
      ]
     },
     "execution_count": 18,
     "metadata": {},
     "output_type": "execute_result"
    }
   ],
   "source": [
    "meetingRoom(intervals)"
   ]
  },
  {
   "cell_type": "code",
   "execution_count": 19,
   "id": "081b3def",
   "metadata": {},
   "outputs": [
    {
     "data": {
      "text/plain": [
       "True"
      ]
     },
     "execution_count": 19,
     "metadata": {},
     "output_type": "execute_result"
    }
   ],
   "source": [
    "meetingRoom(intervals1)"
   ]
  },
  {
   "cell_type": "code",
   "execution_count": null,
   "id": "134198ec",
   "metadata": {},
   "outputs": [],
   "source": []
  }
 ],
 "metadata": {
  "kernelspec": {
   "display_name": "Python 3",
   "language": "python",
   "name": "python3"
  },
  "language_info": {
   "codemirror_mode": {
    "name": "ipython",
    "version": 3
   },
   "file_extension": ".py",
   "mimetype": "text/x-python",
   "name": "python",
   "nbconvert_exporter": "python",
   "pygments_lexer": "ipython3",
   "version": "3.8.8"
  }
 },
 "nbformat": 4,
 "nbformat_minor": 5
}
