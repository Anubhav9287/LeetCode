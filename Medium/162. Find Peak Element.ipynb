{
 "cells": [
  {
   "cell_type": "markdown",
   "id": "dacef072",
   "metadata": {},
   "source": [
    "### Example 1:\n",
    "Input: nums = [1,2,3,1] <br>\n",
    "Output: 2<br>\n",
    "Explanation: 3 is a peak element and your function should return the index number 2.<br>\n",
    "### Example 2:\n",
    "Input: nums = [1,2,1,3,5,6,4]<br>\n",
    "Output: 5<br>\n",
    "Explanation: Your function can return either index number 1 where the peak element is 2, or index number 5 where the peak element is 6."
   ]
  },
  {
   "cell_type": "code",
   "execution_count": 1,
   "id": "f4551991",
   "metadata": {},
   "outputs": [],
   "source": [
    "nums = [1,2,1,3,5,6,4]"
   ]
  },
  {
   "cell_type": "code",
   "execution_count": 8,
   "id": "45e52ede",
   "metadata": {},
   "outputs": [],
   "source": [
    "def findPeak(nums):\n",
    "    l = 0\n",
    "    r = len(nums) - 1\n",
    "    while l < r:\n",
    "        mid = int(l + (r-l)/2)\n",
    "        if nums[mid] < nums[mid+1]:\n",
    "            l = mid + 1\n",
    "        else:\n",
    "            r = mid\n",
    "    return l"
   ]
  },
  {
   "cell_type": "code",
   "execution_count": 9,
   "id": "f27de9c7",
   "metadata": {},
   "outputs": [
    {
     "data": {
      "text/plain": [
       "5"
      ]
     },
     "execution_count": 9,
     "metadata": {},
     "output_type": "execute_result"
    }
   ],
   "source": [
    "findPeak(nums)"
   ]
  }
 ],
 "metadata": {
  "kernelspec": {
   "display_name": "Python 3",
   "language": "python",
   "name": "python3"
  },
  "language_info": {
   "codemirror_mode": {
    "name": "ipython",
    "version": 3
   },
   "file_extension": ".py",
   "mimetype": "text/x-python",
   "name": "python",
   "nbconvert_exporter": "python",
   "pygments_lexer": "ipython3",
   "version": "3.8.8"
  }
 },
 "nbformat": 4,
 "nbformat_minor": 5
}
