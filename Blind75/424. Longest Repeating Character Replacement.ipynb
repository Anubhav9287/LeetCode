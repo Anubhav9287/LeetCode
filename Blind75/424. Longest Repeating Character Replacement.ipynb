{
 "cells": [
  {
   "cell_type": "code",
   "execution_count": 1,
   "id": "6c0c5f81",
   "metadata": {},
   "outputs": [],
   "source": [
    "# Input: s = \"ABAB\", k = 2\n",
    "# Output: 4\n",
    "# Explanation: Replace the two 'A's with two 'B's or vice versa."
   ]
  },
  {
   "cell_type": "code",
   "execution_count": 4,
   "id": "6ee3e1e4",
   "metadata": {},
   "outputs": [],
   "source": [
    "def characterReplacement(s, k):\n",
    "    count = {}\n",
    "    res = 0\n",
    "    l = 0\n",
    "    for r in range(len(s)):\n",
    "        count[s[r]] = 1+count.get(s[r],0)\n",
    "        while (r-l+1) - max(count.values()) > k:\n",
    "            count[s[l]] -= 1\n",
    "            l += 1\n",
    "        res = max(res, r-l+1)\n",
    "    return res"
   ]
  },
  {
   "cell_type": "code",
   "execution_count": 5,
   "id": "727dfe5d",
   "metadata": {},
   "outputs": [
    {
     "data": {
      "text/plain": [
       "4"
      ]
     },
     "execution_count": 5,
     "metadata": {},
     "output_type": "execute_result"
    }
   ],
   "source": [
    "s = \"AABABBA\"\n",
    "k = 1\n",
    "characterReplacement(s, k)"
   ]
  },
  {
   "cell_type": "code",
   "execution_count": null,
   "id": "693d682d",
   "metadata": {},
   "outputs": [],
   "source": []
  }
 ],
 "metadata": {
  "kernelspec": {
   "display_name": "Python 3",
   "language": "python",
   "name": "python3"
  },
  "language_info": {
   "codemirror_mode": {
    "name": "ipython",
    "version": 3
   },
   "file_extension": ".py",
   "mimetype": "text/x-python",
   "name": "python",
   "nbconvert_exporter": "python",
   "pygments_lexer": "ipython3",
   "version": "3.8.8"
  }
 },
 "nbformat": 4,
 "nbformat_minor": 5
}
