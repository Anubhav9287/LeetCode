{
 "cells": [
  {
   "cell_type": "markdown",
   "id": "78a555d9",
   "metadata": {},
   "source": [
    "## Example 1:\n",
    "Input: num1 = \"11\", num2 = \"123\" <br>\n",
    "Output: \"134\" <br>\n",
    "\n",
    "## Example 2:\n",
    "Input: num1 = \"456\", num2 = \"77\" <br>\n",
    "Output: \"533\" <br>\n",
    "\n",
    "## Example 3:\n",
    "Input: num1 = \"0\", num2 = \"0\" <br>\n",
    "Output: \"0\" <br>"
   ]
  },
  {
   "cell_type": "code",
   "execution_count": 22,
   "id": "4665fd08",
   "metadata": {},
   "outputs": [],
   "source": [
    "num1 = '0'\n",
    "num2 = '0'"
   ]
  },
  {
   "cell_type": "code",
   "execution_count": 23,
   "id": "d3c6788c",
   "metadata": {},
   "outputs": [],
   "source": [
    "def convertToDigit(num):\n",
    "    r = 0\n",
    "    for i in num:\n",
    "        r = r*10 + (ord(i) - ord('0'))\n",
    "    return r"
   ]
  },
  {
   "cell_type": "code",
   "execution_count": 24,
   "id": "5b9a16bb",
   "metadata": {},
   "outputs": [],
   "source": [
    "def stringAddition(num1,num2):\n",
    "    return str(convertToDigit(num1) + convertToDigit(num2))"
   ]
  },
  {
   "cell_type": "code",
   "execution_count": 25,
   "id": "ee93785e",
   "metadata": {},
   "outputs": [
    {
     "data": {
      "text/plain": [
       "'0'"
      ]
     },
     "execution_count": 25,
     "metadata": {},
     "output_type": "execute_result"
    }
   ],
   "source": [
    "stringAddition(num1,num2)"
   ]
  }
 ],
 "metadata": {
  "kernelspec": {
   "display_name": "Python 3",
   "language": "python",
   "name": "python3"
  },
  "language_info": {
   "codemirror_mode": {
    "name": "ipython",
    "version": 3
   },
   "file_extension": ".py",
   "mimetype": "text/x-python",
   "name": "python",
   "nbconvert_exporter": "python",
   "pygments_lexer": "ipython3",
   "version": "3.8.8"
  }
 },
 "nbformat": 4,
 "nbformat_minor": 5
}
