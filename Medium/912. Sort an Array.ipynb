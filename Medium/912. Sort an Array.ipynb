{
 "cells": [
  {
   "cell_type": "markdown",
   "id": "23c02282",
   "metadata": {},
   "source": [
    "Given an array of integers nums, sort the array in ascending order and return it.\n",
    "<br>\n",
    "You must solve the problem without using any built-in functions in O(nlog(n)) time complexity and with the smallest space complexity possible.\n",
    "<br>\n",
    " \n",
    "\n",
    "###### Example 1:\n",
    "Input: nums = [5,2,3,1]\n",
    "<br>Output: [1,2,3,5]\n",
    "<br>Explanation: After sorting the array, the positions of some numbers are not changed (for example, 2 and 3), while the positions of other numbers are changed (for example, 1 and 5)."
   ]
  },
  {
   "cell_type": "code",
   "execution_count": 14,
   "id": "267c20c0",
   "metadata": {},
   "outputs": [],
   "source": [
    "nums = [5,2,3,1]"
   ]
  },
  {
   "cell_type": "code",
   "execution_count": 17,
   "id": "e9c5789e",
   "metadata": {},
   "outputs": [],
   "source": [
    "def insertionSort(nums):\n",
    "    for i in range(1,len(nums)):\n",
    "        j = i - 1\n",
    "        while j >= 0 and nums[j+1] < nums[j]:\n",
    "            temp = nums[j+1]\n",
    "            nums[j+1] = nums[j]\n",
    "            nums[j] = temp\n",
    "            j -= 1\n",
    "    return nums"
   ]
  },
  {
   "cell_type": "code",
   "execution_count": 18,
   "id": "d5c14224",
   "metadata": {},
   "outputs": [
    {
     "data": {
      "text/plain": [
       "[1, 2, 3, 5]"
      ]
     },
     "execution_count": 18,
     "metadata": {},
     "output_type": "execute_result"
    }
   ],
   "source": [
    "insertionSort(nums)"
   ]
  },
  {
   "cell_type": "code",
   "execution_count": null,
   "id": "a9d92d82",
   "metadata": {},
   "outputs": [],
   "source": [
    "# Implementation of QuickSort\n",
    "def quickSort(arr, s, e):\n",
    "    if e - s + 1 <= 1:\n",
    "        return\n",
    "\n",
    "    pivot = arr[e]\n",
    "    left = s # pointer for left side\n",
    "\n",
    "    # Partition: elements smaller than pivot on left side\n",
    "    for i in range(s, e):\n",
    "        if arr[i] < pivot:\n",
    "            tmp = arr[left]\n",
    "            arr[left] = arr[i]\n",
    "            arr[i] = tmp\n",
    "            left += 1\n",
    "\n",
    "    # Move pivot in-between left & right sides\n",
    "    arr[e] = arr[left]\n",
    "    arr[left] = pivot\n",
    "    \n",
    "    # Quick sort left side\n",
    "    quickSort(arr, s, left - 1)\n",
    "\n",
    "    # Quick sort right side\n",
    "    quickSort(arr, left + 1, e)\n",
    "\n",
    "    return arr"
   ]
  },
  {
   "cell_type": "code",
   "execution_count": 27,
   "id": "77db0c0a",
   "metadata": {},
   "outputs": [],
   "source": [
    "def quickSort(nums, s, e):\n",
    "    if e-s+1 <= 1:\n",
    "        return\n",
    "    \n",
    "    pivot = nums[e]\n",
    "    left = s\n",
    "    \n",
    "    for i in range(s,e):\n",
    "        if nums[i] < pivot:\n",
    "            temp = nums[left]\n",
    "            nums[left] = nums[i]\n",
    "            nums[i] = temp\n",
    "            left += 1\n",
    "    nums[e] = nums[left]\n",
    "    nums[left] = pivot\n",
    "    \n",
    "    quickSort(nums,s,left-1)\n",
    "    quickSort(nums,left+1,e)\n",
    "    \n",
    "    return nums"
   ]
  },
  {
   "cell_type": "code",
   "execution_count": 28,
   "id": "6ce0e2e5",
   "metadata": {},
   "outputs": [
    {
     "data": {
      "text/plain": [
       "[1, 2, 3, 5]"
      ]
     },
     "execution_count": 28,
     "metadata": {},
     "output_type": "execute_result"
    }
   ],
   "source": [
    "quickSort(nums, 0, len(nums)-1)"
   ]
  },
  {
   "cell_type": "code",
   "execution_count": null,
   "id": "66acae3a",
   "metadata": {},
   "outputs": [],
   "source": []
  }
 ],
 "metadata": {
  "kernelspec": {
   "display_name": "Python 3",
   "language": "python",
   "name": "python3"
  },
  "language_info": {
   "codemirror_mode": {
    "name": "ipython",
    "version": 3
   },
   "file_extension": ".py",
   "mimetype": "text/x-python",
   "name": "python",
   "nbconvert_exporter": "python",
   "pygments_lexer": "ipython3",
   "version": "3.8.8"
  }
 },
 "nbformat": 4,
 "nbformat_minor": 5
}
