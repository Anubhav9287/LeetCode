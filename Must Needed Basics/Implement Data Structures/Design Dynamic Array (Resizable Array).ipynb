{
 "cells": [
  {
   "cell_type": "markdown",
   "id": "7687e44d",
   "metadata": {},
   "source": [
    "## Design a Dynamic Array (aka a resizable array) class, such as an ArrayList in Java or a vector in C++"
   ]
  },
  {
   "cell_type": "code",
   "execution_count": null,
   "id": "3ff5694c",
   "metadata": {},
   "outputs": [],
   "source": [
    "class DynamicArray:\n",
    "    \n",
    "    def __init__(self, capacity: int):\n",
    "        self.capacity = capacity\n",
    "        self.size = 0\n",
    "        self.arr = [0] * self.capacity\n",
    "\n",
    "\n",
    "    def get(self, i: int) -> int:\n",
    "        return self.arr[i]\n",
    "\n",
    "\n",
    "    def set(self, i: int, n: int) -> None:\n",
    "        self.arr[i] = n\n",
    "\n",
    "\n",
    "    def pushback(self, n: int) -> None:\n",
    "        if self.size == self.capacity:\n",
    "            self.resize()\n",
    "        \n",
    "        self.arr[self.size] = n\n",
    "        self.size += 1\n",
    "\n",
    "    def popback(self) -> int:\n",
    "        if self.size > 0:\n",
    "            self.size -= 1\n",
    "        return self.arr[self.size]\n",
    " \n",
    "\n",
    "    def resize(self) -> None:\n",
    "        self.capacity = 2 * self.capacity\n",
    "        new_arr = [0] * self.capacity\n",
    "        \n",
    "        for i in range(self.size):\n",
    "            new_arr[i] = self.arr[i]\n",
    "        self.arr = new_arr\n",
    "\n",
    "\n",
    "    def getSize(self) -> int:\n",
    "        return self.size\n",
    "    \n",
    "    def getCapacity(self) -> int:\n",
    "        return self.capacity\n"
   ]
  }
 ],
 "metadata": {
  "kernelspec": {
   "display_name": "Python 3",
   "language": "python",
   "name": "python3"
  },
  "language_info": {
   "codemirror_mode": {
    "name": "ipython",
    "version": 3
   },
   "file_extension": ".py",
   "mimetype": "text/x-python",
   "name": "python",
   "nbconvert_exporter": "python",
   "pygments_lexer": "ipython3",
   "version": "3.8.8"
  }
 },
 "nbformat": 4,
 "nbformat_minor": 5
}
