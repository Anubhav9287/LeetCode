{
 "cells": [
  {
   "cell_type": "markdown",
   "id": "6fcb2c17",
   "metadata": {},
   "source": [
    "A message containing letters from A-Z can be encoded into numbers using the following mapping:\n",
    "<br>\n",
    "'A' -> \"1\"<br>\n",
    "'B' -> \"2\"<br>\n",
    "...<br>\n",
    "'Z' -> \"26\"<br>\n",
    "To decode an encoded message, all the digits must be grouped then mapped back into letters using the reverse of the mapping above (there may be multiple ways). For example, \"11106\" can be mapped into:<br>\n",
    "\n",
    "\"AAJF\" with the grouping (1 1 10 6)<br>\n",
    "\"KJF\" with the grouping (11 10 6)<br>\n",
    "Note that the grouping (1 11 06) is invalid because \"06\" cannot be mapped into 'F' since \"6\" is different from \"06\".<br>\n",
    "\n",
    "Given a string s containing only digits, return the number of ways to decode it.<br>\n",
    "\n",
    "The test cases are generated so that the answer fits in a 32-bit integer.<br>\n",
    "\n",
    " \n",
    "\n",
    "###### Example 1:\n",
    "\n",
    "Input: s = \"12\"<br>\n",
    "Output: 2<br>\n",
    "Explanation: \"12\" could be decoded as \"AB\" (1 2) or \"L\" (12)."
   ]
  },
  {
   "cell_type": "code",
   "execution_count": null,
   "id": "c74f6f9c",
   "metadata": {},
   "outputs": [],
   "source": []
  }
 ],
 "metadata": {
  "kernelspec": {
   "display_name": "Python 3",
   "language": "python",
   "name": "python3"
  },
  "language_info": {
   "codemirror_mode": {
    "name": "ipython",
    "version": 3
   },
   "file_extension": ".py",
   "mimetype": "text/x-python",
   "name": "python",
   "nbconvert_exporter": "python",
   "pygments_lexer": "ipython3",
   "version": "3.8.8"
  }
 },
 "nbformat": 4,
 "nbformat_minor": 5
}
