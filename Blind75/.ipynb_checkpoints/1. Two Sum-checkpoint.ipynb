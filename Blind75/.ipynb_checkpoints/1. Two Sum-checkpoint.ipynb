{
 "cells": [
  {
   "cell_type": "code",
   "execution_count": 15,
   "id": "737210a2",
   "metadata": {},
   "outputs": [],
   "source": [
    "n = [2,7,11,15]\n",
    "t = 9\n",
    "def twoSum(nums, target):\n",
    "    d = {}\n",
    "    for i,v in enumerate(nums):\n",
    "        diff = target-v\n",
    "        if diff in d:\n",
    "            return (i,d[diff])\n",
    "        d[v] = i"
   ]
  },
  {
   "cell_type": "code",
   "execution_count": 16,
   "id": "0617731a",
   "metadata": {},
   "outputs": [
    {
     "name": "stdout",
     "output_type": "stream",
     "text": [
      "(1, 0)\n"
     ]
    }
   ],
   "source": [
    "print(twoSum(n, t))"
   ]
  },
  {
   "cell_type": "code",
   "execution_count": null,
   "id": "bacef292",
   "metadata": {},
   "outputs": [],
   "source": []
  }
 ],
 "metadata": {
  "kernelspec": {
   "display_name": "Python 3",
   "language": "python",
   "name": "python3"
  },
  "language_info": {
   "codemirror_mode": {
    "name": "ipython",
    "version": 3
   },
   "file_extension": ".py",
   "mimetype": "text/x-python",
   "name": "python",
   "nbconvert_exporter": "python",
   "pygments_lexer": "ipython3",
   "version": "3.8.8"
  }
 },
 "nbformat": 4,
 "nbformat_minor": 5
}
