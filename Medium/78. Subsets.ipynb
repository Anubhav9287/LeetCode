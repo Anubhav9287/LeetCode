{
 "cells": [
  {
   "cell_type": "markdown",
   "id": "c4de301a",
   "metadata": {},
   "source": [
    "Given an integer array nums of unique elements, return all possible subsets (the power set).\n",
    "<br>\n",
    "The solution set must not contain duplicate subsets. Return the solution in any order.\n",
    "<br>\n",
    "<br>\n",
    "\n",
    "##### Example 1:\n",
    "<br>\n",
    "Input: nums = [1,2,3]<br>\n",
    "Output: [[],[1],[2],[1,2],[3],[1,3],[2,3],[1,2,3]]<br>"
   ]
  },
  {
   "cell_type": "code",
   "execution_count": 7,
   "id": "a800f91d",
   "metadata": {},
   "outputs": [
    {
     "name": "stdout",
     "output_type": "stream",
     "text": [
      "Before: []\n",
      "After:  [1]\n",
      "Before: [1]\n",
      "After:  [1, 2]\n",
      "Before: [1, 2]\n",
      "After:  [1, 2, 3]\n",
      "Result: [[1, 2, 3]]\n",
      "Before pop value: [1, 2, 3]\n",
      "Before pop value: [1, 2]\n",
      "Result: [[1, 2, 3], [1, 2]]\n",
      "Before pop value: [1, 2]\n",
      "Before pop value: [1]\n",
      "Before: [1]\n",
      "After:  [1, 3]\n",
      "Result: [[1, 2, 3], [1, 2], [1, 3]]\n",
      "Before pop value: [1, 3]\n",
      "Before pop value: [1]\n",
      "Result: [[1, 2, 3], [1, 2], [1, 3], [1]]\n",
      "Before pop value: [1]\n",
      "Before pop value: []\n",
      "Before: []\n",
      "After:  [2]\n",
      "Before: [2]\n",
      "After:  [2, 3]\n",
      "Result: [[1, 2, 3], [1, 2], [1, 3], [1], [2, 3]]\n",
      "Before pop value: [2, 3]\n",
      "Before pop value: [2]\n",
      "Result: [[1, 2, 3], [1, 2], [1, 3], [1], [2, 3], [2]]\n",
      "Before pop value: [2]\n",
      "Before pop value: []\n",
      "Before: []\n",
      "After:  [3]\n",
      "Result: [[1, 2, 3], [1, 2], [1, 3], [1], [2, 3], [2], [3]]\n",
      "Before pop value: [3]\n",
      "Before pop value: []\n",
      "Result: [[1, 2, 3], [1, 2], [1, 3], [1], [2, 3], [2], [3], []]\n",
      "[[1, 2, 3], [1, 2], [1, 3], [1], [2, 3], [2], [3], []]\n"
     ]
    }
   ],
   "source": [
    "nums = [1,2,3]\n",
    "res = []\n",
    "\n",
    "generateSubset(index, res, subset,)"
   ]
  },
  {
   "cell_type": "code",
   "execution_count": null,
   "id": "a48f4764",
   "metadata": {},
   "outputs": [],
   "source": []
  }
 ],
 "metadata": {
  "kernelspec": {
   "display_name": "Python 3",
   "language": "python",
   "name": "python3"
  },
  "language_info": {
   "codemirror_mode": {
    "name": "ipython",
    "version": 3
   },
   "file_extension": ".py",
   "mimetype": "text/x-python",
   "name": "python",
   "nbconvert_exporter": "python",
   "pygments_lexer": "ipython3",
   "version": "3.8.8"
  }
 },
 "nbformat": 4,
 "nbformat_minor": 5
}
