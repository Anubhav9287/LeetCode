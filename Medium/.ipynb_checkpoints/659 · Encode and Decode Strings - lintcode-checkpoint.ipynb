{
 "cells": [
  {
   "cell_type": "markdown",
   "id": "a434df5f",
   "metadata": {},
   "source": [
    "###### Description:\n",
    "Design an algorithm to encode a list of strings to a string. The encoded string is then sent over the network and is decoded back to the original list of strings. <br>\n",
    "<br>\n",
    "Please implement encode and decode<br>"
   ]
  },
  {
   "cell_type": "code",
   "execution_count": 47,
   "id": "ac02d6e8",
   "metadata": {},
   "outputs": [],
   "source": [
    "class Solution:\n",
    "    def encode(self, strs):\n",
    "        res = \"\"\n",
    "        for i in strs:\n",
    "            res = res + str(len(i))+'#'+i \n",
    "        return res\n",
    "    \n",
    "    def decode(self,strs):\n",
    "        print(strs)\n",
    "        res = []\n",
    "        i = 0\n",
    "        while i < len(strs):\n",
    "            j = i\n",
    "            while strs[j] != '#':\n",
    "                j += 1\n",
    "            length = int(strs[i:j])\n",
    "            res.append(strs[j+1:j+1+length])\n",
    "            i = j + 1 + length\n",
    "        return res"
   ]
  },
  {
   "cell_type": "code",
   "execution_count": 49,
   "id": "21e82e5d",
   "metadata": {},
   "outputs": [
    {
     "name": "stdout",
     "output_type": "stream",
     "text": [
      "4#lint4#code1#e3#you\n"
     ]
    },
    {
     "data": {
      "text/plain": [
       "['lint', 'code', 'e', 'you']"
      ]
     },
     "execution_count": 49,
     "metadata": {},
     "output_type": "execute_result"
    }
   ],
   "source": [
    "a = Solution()\n",
    "encoded = a.encode([\"lint\",\"code\",\"e\",\"you\"])\n",
    "a.decode(encoded)"
   ]
  },
  {
   "cell_type": "code",
   "execution_count": null,
   "id": "045037e1",
   "metadata": {},
   "outputs": [],
   "source": []
  }
 ],
 "metadata": {
  "kernelspec": {
   "display_name": "Python 3",
   "language": "python",
   "name": "python3"
  },
  "language_info": {
   "codemirror_mode": {
    "name": "ipython",
    "version": 3
   },
   "file_extension": ".py",
   "mimetype": "text/x-python",
   "name": "python",
   "nbconvert_exporter": "python",
   "pygments_lexer": "ipython3",
   "version": "3.8.8"
  }
 },
 "nbformat": 4,
 "nbformat_minor": 5
}
