{
 "cells": [
  {
   "cell_type": "markdown",
   "id": "53247fd7",
   "metadata": {},
   "source": [
    "Given a non-empty string word and an abbreviation abbr, return whether the string matches with the given abbreviation.\n",
    "<br>\n",
    "A string such as \"word\" contains only the following valid abbreviations:<br>\n",
    "\n",
    "[\"word\", \"1ord\", \"w1rd\", \"wo1d\", \"wor1\", \"2rd\", \"w2d\", \"wo2\", \"1o1d\", \"1or1\", \"w1r1\", \"1o2\", \"2r1\", \"3d\", \"w3\", \"4\"]"
   ]
  },
  {
   "cell_type": "code",
   "execution_count": 4,
   "id": "a67e9ab6",
   "metadata": {},
   "outputs": [],
   "source": [
    "word = \"internationalization\"\n",
    "abbr = \"i12iz4n\"\n",
    "# Output : true"
   ]
  },
  {
   "cell_type": "code",
   "execution_count": 13,
   "id": "40f90e83",
   "metadata": {},
   "outputs": [],
   "source": [
    "def valid_word_abbreviation(word, abbr):\n",
    "    word_ptr = 0\n",
    "    abbr_ptr = 0\n",
    "    \n",
    "    while abbr_ptr < len(abbr) and word_ptr < len(word):\n",
    "        \n",
    "        if abbr[abbr_ptr].isdigit():\n",
    "            digits = 0\n",
    "            if abbr[abbr_ptr] == '0':\n",
    "                return False\n",
    "            \n",
    "            while abbr_ptr < len(abbr) and abbr[abbr_ptr].isdigit():\n",
    "                digits = digits * 10 + int(abbr[abbr_ptr])\n",
    "                abbr_ptr += 1\n",
    "            word_ptr += digits\n",
    "        else:\n",
    "            if word[word_ptr] != abbr[abbr_ptr]:\n",
    "                return False\n",
    "            word_ptr += 1\n",
    "            abbr_ptr += 1\n",
    "    return word_ptr == len(word) and abbr_ptr == len(abbr)"
   ]
  },
  {
   "cell_type": "code",
   "execution_count": 14,
   "id": "9f1a246c",
   "metadata": {},
   "outputs": [
    {
     "data": {
      "text/plain": [
       "True"
      ]
     },
     "execution_count": 14,
     "metadata": {},
     "output_type": "execute_result"
    }
   ],
   "source": [
    "valid_word_abbreviation(word, abbr)"
   ]
  },
  {
   "cell_type": "code",
   "execution_count": null,
   "id": "6c326189",
   "metadata": {},
   "outputs": [],
   "source": []
  }
 ],
 "metadata": {
  "kernelspec": {
   "display_name": "Python 3",
   "language": "python",
   "name": "python3"
  },
  "language_info": {
   "codemirror_mode": {
    "name": "ipython",
    "version": 3
   },
   "file_extension": ".py",
   "mimetype": "text/x-python",
   "name": "python",
   "nbconvert_exporter": "python",
   "pygments_lexer": "ipython3",
   "version": "3.8.8"
  }
 },
 "nbformat": 4,
 "nbformat_minor": 5
}
